{
 "cells": [
  {
   "cell_type": "markdown",
   "metadata": {
    "colab_type": "text",
    "id": "view-in-github"
   },
   "source": [
    "<a href=\"https://colab.research.google.com/github/rasecfaria/FinalProject/blob/main/v2.ipynb\" target=\"_parent\"><img src=\"https://colab.research.google.com/assets/colab-badge.svg\" alt=\"Open In Colab\"/></a>"
   ]
  },
  {
   "cell_type": "markdown",
   "metadata": {
    "id": "JR9xxpMPQq9J"
   },
   "source": [
    "# Movie Recommendation System 🎬"
   ]
  },
  {
   "cell_type": "markdown",
   "metadata": {
    "id": "l8cbD_CpQq9J"
   },
   "source": [
    "### Step 1: Import libraries"
   ]
  },
  {
   "cell_type": "code",
   "execution_count": 1,
   "metadata": {
    "id": "EjNMw7yAQq9K"
   },
   "outputs": [],
   "source": [
    "import numpy as np\n",
    "import pandas as pd\n",
    "import matplotlib.pyplot as plt\n",
    "import seaborn as sns\n",
    "import re  # Adicionando para extração do ano dos títulos"
   ]
  },
  {
   "cell_type": "markdown",
   "metadata": {
    "id": "3t5ZuwXnQq9K"
   },
   "source": [
    "### Step 2: Load data"
   ]
  },
  {
   "cell_type": "code",
   "execution_count": 2,
   "metadata": {
    "id": "SdZLD1QNQq9L"
   },
   "outputs": [
    {
     "name": "stdout",
     "output_type": "stream",
     "text": [
      "Anos dos filmes: de 1902.0 até 2018.0\n",
      "Total de filmes com ano identificado: 9718\n",
      "Filmes sem ano identificado: 24\n"
     ]
    }
   ],
   "source": [
    "ratings = pd.read_csv('data/ratings.csv')\n",
    "movies = pd.read_csv('data/movies.csv')\n",
    "\n",
    "# Função para extrair o ano do título do filme\n",
    "def extract_year(title):\n",
    "    # Procurar pelo ano entre parênteses no final do título\n",
    "    match = re.search(r'\\((\\d{4})\\)$', title)\n",
    "    if match:\n",
    "        return int(match.group(1))\n",
    "    return None\n",
    "\n",
    "# Adicionar coluna de ano ao DataFrame de filmes\n",
    "movies['year'] = movies['title'].apply(extract_year)\n",
    "\n",
    "# Remover filmes antes de 1970 permanentemente\n",
    "movies = movies[movies['year'] >= 1970].reset_index(drop=True)\n",
    "\n",
    "# Filtrar avaliações para incluir apenas filmes que ainda estão no conjunto de dados de filmes filtrados\n",
    "ratings = ratings[ratings['movieId'].isin(movies['movieId'])].reset_index(drop=True)\n",
    "\n",
    "print(f\"Conjunto de dados filtrado para filmes a partir de 1970\")\n",
    "print(f\"Total de filmes: {len(movies)}\")\n",
    "print(f\"Total de avaliações: {len(ratings)}\")"
   ]
  },
  {
   "cell_type": "markdown",
   "metadata": {
    "id": "51_WdWRhQq9L"
   },
   "source": [
    "### Step 3: Data analysis"
   ]
  },
  {
   "cell_type": "code",
   "execution_count": 3,
   "metadata": {
    "colab": {
     "base_uri": "https://localhost:8080/"
    },
    "id": "raKmITnWQq9L",
    "outputId": "b4046daf-0e16-4d98-bdd6-94e942106d80"
   },
   "outputs": [
    {
     "name": "stdout",
     "output_type": "stream",
     "text": [
      "Number of ratings: 100842\n",
      "Number of unique movies: 9725\n",
      "Number of unique users: 611\n",
      "Average number of ratings per user: 165.04\n",
      "Average number of ratings per movie: 10.37\n"
     ]
    }
   ],
   "source": [
    "n_ratings = len(ratings)\n",
    "n_movies = ratings['movieId'].nunique()\n",
    "n_users = ratings['userId'].nunique()\n",
    "\n",
    "print(f\"Number of ratings: {n_ratings}\")\n",
    "print(f\"Number of unique movies: {n_movies}\")\n",
    "print(f\"Number of unique users: {n_users}\")\n",
    "print(f\"Average number of ratings per user: {round(n_ratings/n_users, 2)}\")\n",
    "print(f\"Average number of ratings per movie: {round(n_ratings/n_movies, 2)}\")"
   ]
  },
  {
   "cell_type": "markdown",
   "metadata": {},
   "source": [
    "### Step 3b: Normalização Centrada na Média\n",
    "\n",
    "A normalização centrada na média consiste em ajustar as avaliações de cada usuário subtraindo a média de suas avaliações. Isso ajuda a corrigir o viés de alguns usuários que tendem a dar avaliações consistentemente mais altas ou mais baixas que outros.\n",
    "\n",
    "A normalização é complementar à média bayesiana. Enquanto a média bayesiana ajuda a classificar filmes com poucas avaliações, a normalização ajuda a alinhar as escalas de avaliação entre diferentes usuários."
   ]
  },
  {
   "cell_type": "code",
   "execution_count": 4,
   "metadata": {},
   "outputs": [
    {
     "data": {
      "text/html": [
       "<div>\n",
       "<style scoped>\n",
       "    .dataframe tbody tr th:only-of-type {\n",
       "        vertical-align: middle;\n",
       "    }\n",
       "\n",
       "    .dataframe tbody tr th {\n",
       "        vertical-align: top;\n",
       "    }\n",
       "\n",
       "    .dataframe thead th {\n",
       "        text-align: right;\n",
       "    }\n",
       "</style>\n",
       "<table border=\"1\" class=\"dataframe\">\n",
       "  <thead>\n",
       "    <tr style=\"text-align: right;\">\n",
       "      <th></th>\n",
       "      <th>userId</th>\n",
       "      <th>movieId</th>\n",
       "      <th>rating</th>\n",
       "      <th>timestamp</th>\n",
       "      <th>rating_normalized</th>\n",
       "    </tr>\n",
       "  </thead>\n",
       "  <tbody>\n",
       "    <tr>\n",
       "      <th>0</th>\n",
       "      <td>1</td>\n",
       "      <td>1</td>\n",
       "      <td>4.0</td>\n",
       "      <td>964982703</td>\n",
       "      <td>-0.366379</td>\n",
       "    </tr>\n",
       "    <tr>\n",
       "      <th>1</th>\n",
       "      <td>1</td>\n",
       "      <td>3</td>\n",
       "      <td>4.0</td>\n",
       "      <td>964981247</td>\n",
       "      <td>-0.366379</td>\n",
       "    </tr>\n",
       "    <tr>\n",
       "      <th>2</th>\n",
       "      <td>1</td>\n",
       "      <td>6</td>\n",
       "      <td>4.0</td>\n",
       "      <td>964982224</td>\n",
       "      <td>-0.366379</td>\n",
       "    </tr>\n",
       "    <tr>\n",
       "      <th>3</th>\n",
       "      <td>1</td>\n",
       "      <td>47</td>\n",
       "      <td>5.0</td>\n",
       "      <td>964983815</td>\n",
       "      <td>0.633621</td>\n",
       "    </tr>\n",
       "    <tr>\n",
       "      <th>4</th>\n",
       "      <td>1</td>\n",
       "      <td>50</td>\n",
       "      <td>5.0</td>\n",
       "      <td>964982931</td>\n",
       "      <td>0.633621</td>\n",
       "    </tr>\n",
       "  </tbody>\n",
       "</table>\n",
       "</div>"
      ],
      "text/plain": [
       "   userId  movieId  rating  timestamp  rating_normalized\n",
       "0       1        1     4.0  964982703          -0.366379\n",
       "1       1        3     4.0  964981247          -0.366379\n",
       "2       1        6     4.0  964982224          -0.366379\n",
       "3       1       47     5.0  964983815           0.633621\n",
       "4       1       50     5.0  964982931           0.633621"
      ]
     },
     "execution_count": 4,
     "metadata": {},
     "output_type": "execute_result"
    }
   ],
   "source": [
    "def normalize_ratings(df):\n",
    "    \"\"\"\n",
    "    Normaliza as avaliações subtraindo a média de avaliação de cada usuário.\n",
    "    \n",
    "    Args:\n",
    "        df: DataFrame pandas contendo pelo menos 3 colunas (userId, movieId, rating)\n",
    "        \n",
    "    Returns:\n",
    "        DataFrame normalizado contendo as colunas originais e uma coluna adicional 'rating_normalized'\n",
    "    \"\"\"\n",
    "    # Calcula a média de avaliação de cada usuário\n",
    "    user_mean_ratings = df.groupby('userId')['rating'].mean()\n",
    "    \n",
    "    # Cria uma cópia do DataFrame original\n",
    "    df_normalized = df.copy()\n",
    "    \n",
    "    # Adiciona a coluna com as avaliações normalizadas\n",
    "    df_normalized['rating_normalized'] = df_normalized.apply(\n",
    "        lambda x: x['rating'] - user_mean_ratings[x['userId']], \n",
    "        axis=1\n",
    "    )\n",
    "    \n",
    "    return df_normalized\n",
    "\n",
    "# Aplicar normalização nas avaliações\n",
    "ratings_normalized = normalize_ratings(ratings)\n",
    "\n",
    "# Mostrar as primeiras linhas para verificar\n",
    "ratings_normalized.head()"
   ]
  },
  {
   "cell_type": "code",
   "execution_count": 5,
   "metadata": {},
   "outputs": [],
   "source": [
    "from scipy.sparse import csr_matrix\n",
    "\n",
    "def create_X(df, rating_column='rating'):\n",
    "    \"\"\"\n",
    "    Generates a sparse matrix from ratings dataframe.\n",
    "\n",
    "    Args:\n",
    "        df: pandas dataframe containing at least 3 columns (userId, movieId, rating)\n",
    "        rating_column: the name of the column to use for ratings (default: 'rating')\n",
    "\n",
    "    Returns:\n",
    "        X: sparse matrix\n",
    "        user_mapper: dict that maps user id's to user indices\n",
    "        user_inv_mapper: dict that maps user indices to user id's\n",
    "        movie_mapper: dict that maps movie id's to movie indices\n",
    "        movie_inv_mapper: dict that maps movie indices to movie id's\n",
    "    \"\"\"\n",
    "    M = df['userId'].nunique()\n",
    "    N = df['movieId'].nunique()\n",
    "\n",
    "    user_mapper = dict(zip(np.unique(df[\"userId\"]), list(range(M))))\n",
    "    movie_mapper = dict(zip(np.unique(df[\"movieId\"]), list(range(N))))\n",
    "\n",
    "    user_inv_mapper = dict(zip(list(range(M)), np.unique(df[\"userId\"])))\n",
    "    movie_inv_mapper = dict(zip(list(range(N)), np.unique(df[\"movieId\"])))\n",
    "\n",
    "    user_index = [user_mapper[i] for i in df['userId']]\n",
    "    item_index = [movie_mapper[i] for i in df['movieId']]\n",
    "\n",
    "    X = csr_matrix((df[rating_column], (user_index,item_index)), shape=(M,N))\n",
    "\n",
    "    return X, user_mapper, movie_mapper, user_inv_mapper, movie_inv_mapper"
   ]
  },
  {
   "cell_type": "code",
   "execution_count": 6,
   "metadata": {},
   "outputs": [
    {
     "name": "stdout",
     "output_type": "stream",
     "text": [
      "Matrix sparsity (normalized): 1.7%\n"
     ]
    }
   ],
   "source": [
    "# Criando a matriz com avaliações normalizadas\n",
    "X_norm, user_mapper_norm, movie_mapper_norm, user_inv_mapper_norm, movie_inv_mapper_norm = create_X(ratings_normalized, rating_column='rating_normalized')\n",
    "\n",
    "# Verificando a esparsidade da matriz normalizada\n",
    "n_total_norm = X_norm.shape[0]*X_norm.shape[1]\n",
    "n_ratings_norm = X_norm.nnz\n",
    "sparsity_norm = n_ratings_norm/n_total_norm\n",
    "print(f\"Matrix sparsity (normalized): {round(sparsity_norm*100,2)}%\")"
   ]
  },
  {
   "cell_type": "markdown",
   "metadata": {
    "id": "0WYRsTejQq9L"
   },
   "source": [
    "### What is the distribution of movie ratings?"
   ]
  },
  {
   "cell_type": "code",
   "execution_count": 7,
   "metadata": {
    "colab": {
     "base_uri": "https://localhost:8080/",
     "height": 473
    },
    "id": "v23PAH23Qq9L",
    "outputId": "7e09ef7a-78fc-4e4d-8557-468326a33821"
   },
   "outputs": [
    {
     "data": {
      "image/png": "[encoded data removed]",
      "text/plain": [
       "<Figure size 640x480 with 1 Axes>"
      ]
     },
     "metadata": {},
     "output_type": "display_data"
    }
   ],
   "source": [
    "sns.countplot(x='rating', data=ratings)\n",
    "plt.title(\"Distribution of movie ratings\", fontsize=14)\n",
    "plt.xlabel('Rating') \n",
    "plt.ylabel('Number of movies')\n",
    "plt.show()"
   ]
  },
  {
   "cell_type": "code",
   "execution_count": 8,
   "metadata": {
    "colab": {
     "base_uri": "https://localhost:8080/"
    },
    "id": "2zXD5DmMQq9L",
    "outputId": "b23dbb4b-a338-4e52-ef88-e08540a07a30"
   },
   "outputs": [
    {
     "name": "stdout",
     "output_type": "stream",
     "text": [
      "Mean global rating: 3.5.\n"
     ]
    }
   ],
   "source": [
    "print(f\"Mean global rating: {round(ratings['rating'].mean(),2)}.\")"
   ]
  },
  {
   "cell_type": "code",
   "execution_count": 9,
   "metadata": {
    "colab": {
     "base_uri": "https://localhost:8080/"
    },
    "id": "GLTCPU41Qq9M",
    "outputId": "da1217df-66cc-4cc3-f1e8-5da7b0994464"
   },
   "outputs": [
    {
     "name": "stdout",
     "output_type": "stream",
     "text": [
      "Mean rating per user: rating    3.66\n",
      "dtype: float64.\n"
     ]
    }
   ],
   "source": [
    "mean_ratings = ratings.groupby('userId')[['rating']].mean()\n",
    "print(f\"Mean rating per user: {round(mean_ratings.mean(),2)}.\")"
   ]
  },
  {
   "cell_type": "markdown",
   "metadata": {
    "id": "wLiCWuhPQq9M"
   },
   "source": [
    "### Which movies are most frequently rated?"
   ]
  },
  {
   "cell_type": "code",
   "execution_count": 10,
   "metadata": {
    "colab": {
     "base_uri": "https://localhost:8080/",
     "height": 429
    },
    "id": "ZvCpJBWNQq9M",
    "outputId": "ced96652-228a-4171-9921-dc906b251e6c"
   },
   "outputs": [
    {
     "data": {
      "text/plain": [
       "title\n",
       "Forrest Gump (1994)                          330\n",
       "Shawshank Redemption, The (1994)             317\n",
       "Pulp Fiction (1994)                          307\n",
       "Silence of the Lambs, The (1991)             279\n",
       "Matrix, The (1999)                           278\n",
       "Star Wars: Episode IV - A New Hope (1977)    251\n",
       "Jurassic Park (1993)                         238\n",
       "Braveheart (1995)                            237\n",
       "Terminator 2: Judgment Day (1991)            224\n",
       "Schindler's List (1993)                      220\n",
       "Name: count, dtype: int64"
      ]
     },
     "execution_count": 10,
     "metadata": {},
     "output_type": "execute_result"
    }
   ],
   "source": [
    "movie_ratings = ratings.merge(movies, on='movieId')\n",
    "movie_ratings['title'].value_counts()[0:10]"
   ]
  },
  {
   "cell_type": "markdown",
   "metadata": {
    "id": "YSdrrgcLQq9M"
   },
   "source": [
    "### What are the lowest and highest rated movies?\n",
    "\n",
    "Which movie has the lowest and highest average rating?"
   ]
  },
  {
   "cell_type": "code",
   "execution_count": 11,
   "metadata": {
    "colab": {
     "base_uri": "https://localhost:8080/",
     "height": 81
    },
    "id": "OJhu50DkQq9M",
    "outputId": "b84f1a05-58d5-4ddc-c411-a60bb7a7e984"
   },
   "outputs": [
    {
     "data": {
      "text/html": [
       "<div>\n",
       "<style scoped>\n",
       "    .dataframe tbody tr th:only-of-type {\n",
       "        vertical-align: middle;\n",
       "    }\n",
       "\n",
       "    .dataframe tbody tr th {\n",
       "        vertical-align: top;\n",
       "    }\n",
       "\n",
       "    .dataframe thead th {\n",
       "        text-align: right;\n",
       "    }\n",
       "</style>\n",
       "<table border=\"1\" class=\"dataframe\">\n",
       "  <thead>\n",
       "    <tr style=\"text-align: right;\">\n",
       "      <th></th>\n",
       "      <th>movieId</th>\n",
       "      <th>title</th>\n",
       "      <th>genres</th>\n",
       "      <th>year</th>\n",
       "    </tr>\n",
       "  </thead>\n",
       "  <tbody>\n",
       "    <tr>\n",
       "      <th>2689</th>\n",
       "      <td>3604</td>\n",
       "      <td>Gypsy (1962)</td>\n",
       "      <td>Musical</td>\n",
       "      <td>1962.0</td>\n",
       "    </tr>\n",
       "  </tbody>\n",
       "</table>\n",
       "</div>"
      ],
      "text/plain": [
       "      movieId         title   genres    year\n",
       "2689     3604  Gypsy (1962)  Musical  1962.0"
      ]
     },
     "execution_count": 11,
     "metadata": {},
     "output_type": "execute_result"
    }
   ],
   "source": [
    "mean_ratings = ratings.groupby('movieId')[['rating']].mean()\n",
    "lowest_rated = mean_ratings['rating'].idxmin()\n",
    "\n",
    "movies[movies['movieId'] == lowest_rated]"
   ]
  },
  {
   "cell_type": "code",
   "execution_count": 12,
   "metadata": {
    "colab": {
     "base_uri": "https://localhost:8080/",
     "height": 81
    },
    "id": "RLqMCh0YQq9M",
    "outputId": "8821733d-696e-49c6-8e57-d0d6d7013402"
   },
   "outputs": [
    {
     "data": {
      "text/html": [
       "<div>\n",
       "<style scoped>\n",
       "    .dataframe tbody tr th:only-of-type {\n",
       "        vertical-align: middle;\n",
       "    }\n",
       "\n",
       "    .dataframe tbody tr th {\n",
       "        vertical-align: top;\n",
       "    }\n",
       "\n",
       "    .dataframe thead th {\n",
       "        text-align: right;\n",
       "    }\n",
       "</style>\n",
       "<table border=\"1\" class=\"dataframe\">\n",
       "  <thead>\n",
       "    <tr style=\"text-align: right;\">\n",
       "      <th></th>\n",
       "      <th>movieId</th>\n",
       "      <th>title</th>\n",
       "      <th>genres</th>\n",
       "      <th>year</th>\n",
       "    </tr>\n",
       "  </thead>\n",
       "  <tbody>\n",
       "    <tr>\n",
       "      <th>48</th>\n",
       "      <td>53</td>\n",
       "      <td>Lamerica (1994)</td>\n",
       "      <td>Adventure|Drama</td>\n",
       "      <td>1994.0</td>\n",
       "    </tr>\n",
       "  </tbody>\n",
       "</table>\n",
       "</div>"
      ],
      "text/plain": [
       "    movieId            title           genres    year\n",
       "48       53  Lamerica (1994)  Adventure|Drama  1994.0"
      ]
     },
     "execution_count": 12,
     "metadata": {},
     "output_type": "execute_result"
    }
   ],
   "source": [
    "highest_rated = mean_ratings['rating'].idxmax()\n",
    "movies[movies['movieId'] == highest_rated]"
   ]
  },
  {
   "cell_type": "markdown",
   "metadata": {
    "id": "cXJ96r_EQq9M"
   },
   "source": [
    "#### Bayesian Average\n",
    "\n",
    "[Bayesian Average](https://en.wikipedia.org/wiki/Bayesian_average) is defined as:\n",
    "\n",
    "$r_{i} = \\frac{C \\times m + \\Sigma{\\text{reviews}}}{C+N}$\n",
    "\n",
    "where $C$ represents our confidence, $m$ represents our prior, and $N$ is the total number of reviews for movie $i$.\n",
    "\n",
    "- $C$ represents \"the typical data set size\". In this case, $C$ will be the average number of ratings for a given movie.\n",
    "- $m$ represents the average rating across all movies"
   ]
  },
  {
   "cell_type": "code",
   "execution_count": 13,
   "metadata": {
    "colab": {
     "base_uri": "https://localhost:8080/",
     "height": 237
    },
    "collapsed": true,
    "id": "6idSk8FFQq9M",
    "outputId": "2aaa3995-834c-4612-db11-e4664d60e1da"
   },
   "outputs": [
    {
     "data": {
      "text/html": [
       "<div>\n",
       "<style scoped>\n",
       "    .dataframe tbody tr th:only-of-type {\n",
       "        vertical-align: middle;\n",
       "    }\n",
       "\n",
       "    .dataframe tbody tr th {\n",
       "        vertical-align: top;\n",
       "    }\n",
       "\n",
       "    .dataframe thead th {\n",
       "        text-align: right;\n",
       "    }\n",
       "</style>\n",
       "<table border=\"1\" class=\"dataframe\">\n",
       "  <thead>\n",
       "    <tr style=\"text-align: right;\">\n",
       "      <th></th>\n",
       "      <th>count</th>\n",
       "      <th>mean</th>\n",
       "    </tr>\n",
       "    <tr>\n",
       "      <th>movieId</th>\n",
       "      <th></th>\n",
       "      <th></th>\n",
       "    </tr>\n",
       "  </thead>\n",
       "  <tbody>\n",
       "    <tr>\n",
       "      <th>1</th>\n",
       "      <td>216</td>\n",
       "      <td>3.925926</td>\n",
       "    </tr>\n",
       "    <tr>\n",
       "      <th>2</th>\n",
       "      <td>110</td>\n",
       "      <td>3.431818</td>\n",
       "    </tr>\n",
       "    <tr>\n",
       "      <th>3</th>\n",
       "      <td>52</td>\n",
       "      <td>3.259615</td>\n",
       "    </tr>\n",
       "    <tr>\n",
       "      <th>4</th>\n",
       "      <td>7</td>\n",
       "      <td>2.357143</td>\n",
       "    </tr>\n",
       "    <tr>\n",
       "      <th>5</th>\n",
       "      <td>49</td>\n",
       "      <td>3.071429</td>\n",
       "    </tr>\n",
       "  </tbody>\n",
       "</table>\n",
       "</div>"
      ],
      "text/plain": [
       "         count      mean\n",
       "movieId                 \n",
       "1          216  3.925926\n",
       "2          110  3.431818\n",
       "3           52  3.259615\n",
       "4            7  2.357143\n",
       "5           49  3.071429"
      ]
     },
     "execution_count": 13,
     "metadata": {},
     "output_type": "execute_result"
    }
   ],
   "source": [
    "movie_stats = ratings.groupby('movieId')['rating'].agg(['count', 'mean'])\n",
    "movie_stats.head()"
   ]
  },
  {
   "cell_type": "code",
   "execution_count": 14,
   "metadata": {
    "colab": {
     "base_uri": "https://localhost:8080/"
    },
    "id": "dT6fBESNQq9M",
    "outputId": "407792f7-f86e-44d8-c17a-efbfe6bd0bed"
   },
   "outputs": [
    {
     "name": "stdout",
     "output_type": "stream",
     "text": [
      "Average number of ratings for a given movie: 10.37\n",
      "Average rating for a given movie: 3.26\n"
     ]
    }
   ],
   "source": [
    "C = movie_stats['count'].mean()\n",
    "m = movie_stats['mean'].mean()\n",
    "\n",
    "print(f\"Average number of ratings for a given movie: {C:.2f}\")\n",
    "print(f\"Average rating for a given movie: {m:.2f}\")\n",
    "\n",
    "def bayesian_avg(ratings):\n",
    "    bayesian_avg = (C*m + ratings.sum())/(C+ratings.count())\n",
    "    return round(bayesian_avg, 3)"
   ]
  },
  {
   "cell_type": "code",
   "execution_count": 15,
   "metadata": {
    "id": "rnII0t_8Qq9N"
   },
   "outputs": [],
   "source": [
    "bayesian_avg_ratings = ratings.groupby('movieId')['rating'].agg(bayesian_avg).reset_index()\n",
    "bayesian_avg_ratings.columns = ['movieId', 'bayesian_avg']\n",
    "movie_stats = movie_stats.merge(bayesian_avg_ratings, on='movieId')"
   ]
  },
  {
   "cell_type": "code",
   "execution_count": 16,
   "metadata": {
    "colab": {
     "base_uri": "https://localhost:8080/",
     "height": 206
    },
    "id": "ovildwFjdHiF",
    "outputId": "815cfda5-9d47-48f1-f49d-50e6b9e51a5d"
   },
   "outputs": [
    {
     "data": {
      "text/html": [
       "<div>\n",
       "<style scoped>\n",
       "    .dataframe tbody tr th:only-of-type {\n",
       "        vertical-align: middle;\n",
       "    }\n",
       "\n",
       "    .dataframe tbody tr th {\n",
       "        vertical-align: top;\n",
       "    }\n",
       "\n",
       "    .dataframe thead th {\n",
       "        text-align: right;\n",
       "    }\n",
       "</style>\n",
       "<table border=\"1\" class=\"dataframe\">\n",
       "  <thead>\n",
       "    <tr style=\"text-align: right;\">\n",
       "      <th></th>\n",
       "      <th>movieId</th>\n",
       "      <th>count</th>\n",
       "      <th>mean</th>\n",
       "      <th>bayesian_avg</th>\n",
       "    </tr>\n",
       "  </thead>\n",
       "  <tbody>\n",
       "    <tr>\n",
       "      <th>0</th>\n",
       "      <td>1</td>\n",
       "      <td>216</td>\n",
       "      <td>3.925926</td>\n",
       "      <td>3.896</td>\n",
       "    </tr>\n",
       "    <tr>\n",
       "      <th>1</th>\n",
       "      <td>2</td>\n",
       "      <td>110</td>\n",
       "      <td>3.431818</td>\n",
       "      <td>3.417</td>\n",
       "    </tr>\n",
       "    <tr>\n",
       "      <th>2</th>\n",
       "      <td>3</td>\n",
       "      <td>52</td>\n",
       "      <td>3.259615</td>\n",
       "      <td>3.260</td>\n",
       "    </tr>\n",
       "    <tr>\n",
       "      <th>3</th>\n",
       "      <td>4</td>\n",
       "      <td>7</td>\n",
       "      <td>2.357143</td>\n",
       "      <td>2.898</td>\n",
       "    </tr>\n",
       "    <tr>\n",
       "      <th>4</th>\n",
       "      <td>5</td>\n",
       "      <td>49</td>\n",
       "      <td>3.071429</td>\n",
       "      <td>3.105</td>\n",
       "    </tr>\n",
       "  </tbody>\n",
       "</table>\n",
       "</div>"
      ],
      "text/plain": [
       "   movieId  count      mean  bayesian_avg\n",
       "0        1    216  3.925926         3.896\n",
       "1        2    110  3.431818         3.417\n",
       "2        3     52  3.259615         3.260\n",
       "3        4      7  2.357143         2.898\n",
       "4        5     49  3.071429         3.105"
      ]
     },
     "execution_count": 16,
     "metadata": {},
     "output_type": "execute_result"
    }
   ],
   "source": [
    "movie_stats.head()"
   ]
  },
  {
   "cell_type": "code",
   "execution_count": 17,
   "metadata": {
    "colab": {
     "base_uri": "https://localhost:8080/",
     "height": 423
    },
    "id": "EOzDSicBQq9N",
    "outputId": "359d6744-221a-4acb-bb92-e16e7ab21eac"
   },
   "outputs": [
    {
     "data": {
      "text/html": [
       "<div>\n",
       "<style scoped>\n",
       "    .dataframe tbody tr th:only-of-type {\n",
       "        vertical-align: middle;\n",
       "    }\n",
       "\n",
       "    .dataframe tbody tr th {\n",
       "        vertical-align: top;\n",
       "    }\n",
       "\n",
       "    .dataframe thead th {\n",
       "        text-align: right;\n",
       "    }\n",
       "</style>\n",
       "<table border=\"1\" class=\"dataframe\">\n",
       "  <thead>\n",
       "    <tr style=\"text-align: right;\">\n",
       "      <th></th>\n",
       "      <th>movieId</th>\n",
       "      <th>count</th>\n",
       "      <th>mean</th>\n",
       "      <th>bayesian_avg</th>\n",
       "      <th>title</th>\n",
       "    </tr>\n",
       "  </thead>\n",
       "  <tbody>\n",
       "    <tr>\n",
       "      <th>277</th>\n",
       "      <td>318</td>\n",
       "      <td>317</td>\n",
       "      <td>4.429022</td>\n",
       "      <td>4.392</td>\n",
       "      <td>Shawshank Redemption, The (1994)</td>\n",
       "    </tr>\n",
       "    <tr>\n",
       "      <th>659</th>\n",
       "      <td>858</td>\n",
       "      <td>192</td>\n",
       "      <td>4.289062</td>\n",
       "      <td>4.236</td>\n",
       "      <td>Godfather, The (1972)</td>\n",
       "    </tr>\n",
       "    <tr>\n",
       "      <th>2224</th>\n",
       "      <td>2959</td>\n",
       "      <td>218</td>\n",
       "      <td>4.272936</td>\n",
       "      <td>4.227</td>\n",
       "      <td>Fight Club (1999)</td>\n",
       "    </tr>\n",
       "    <tr>\n",
       "      <th>224</th>\n",
       "      <td>260</td>\n",
       "      <td>251</td>\n",
       "      <td>4.231076</td>\n",
       "      <td>4.193</td>\n",
       "      <td>Star Wars: Episode IV - A New Hope (1977)</td>\n",
       "    </tr>\n",
       "    <tr>\n",
       "      <th>46</th>\n",
       "      <td>50</td>\n",
       "      <td>204</td>\n",
       "      <td>4.237745</td>\n",
       "      <td>4.191</td>\n",
       "      <td>Usual Suspects, The (1995)</td>\n",
       "    </tr>\n",
       "    <tr>\n",
       "      <th>...</th>\n",
       "      <td>...</td>\n",
       "      <td>...</td>\n",
       "      <td>...</td>\n",
       "      <td>...</td>\n",
       "      <td>...</td>\n",
       "    </tr>\n",
       "    <tr>\n",
       "      <th>1988</th>\n",
       "      <td>2643</td>\n",
       "      <td>16</td>\n",
       "      <td>1.687500</td>\n",
       "      <td>2.307</td>\n",
       "      <td>Superman IV: The Quest for Peace (1987)</td>\n",
       "    </tr>\n",
       "    <tr>\n",
       "      <th>1144</th>\n",
       "      <td>1499</td>\n",
       "      <td>27</td>\n",
       "      <td>1.925926</td>\n",
       "      <td>2.297</td>\n",
       "      <td>Anaconda (1997)</td>\n",
       "    </tr>\n",
       "    <tr>\n",
       "      <th>1372</th>\n",
       "      <td>1882</td>\n",
       "      <td>33</td>\n",
       "      <td>1.954545</td>\n",
       "      <td>2.267</td>\n",
       "      <td>Godzilla (1998)</td>\n",
       "    </tr>\n",
       "    <tr>\n",
       "      <th>2679</th>\n",
       "      <td>3593</td>\n",
       "      <td>19</td>\n",
       "      <td>1.657895</td>\n",
       "      <td>2.224</td>\n",
       "      <td>Battlefield Earth (2000)</td>\n",
       "    </tr>\n",
       "    <tr>\n",
       "      <th>1172</th>\n",
       "      <td>1556</td>\n",
       "      <td>19</td>\n",
       "      <td>1.605263</td>\n",
       "      <td>2.190</td>\n",
       "      <td>Speed 2: Cruise Control (1997)</td>\n",
       "    </tr>\n",
       "  </tbody>\n",
       "</table>\n",
       "<p>9724 rows × 5 columns</p>\n",
       "</div>"
      ],
      "text/plain": [
       "      movieId  count      mean  bayesian_avg  \\\n",
       "277       318    317  4.429022         4.392   \n",
       "659       858    192  4.289062         4.236   \n",
       "2224     2959    218  4.272936         4.227   \n",
       "224       260    251  4.231076         4.193   \n",
       "46         50    204  4.237745         4.191   \n",
       "...       ...    ...       ...           ...   \n",
       "1988     2643     16  1.687500         2.307   \n",
       "1144     1499     27  1.925926         2.297   \n",
       "1372     1882     33  1.954545         2.267   \n",
       "2679     3593     19  1.657895         2.224   \n",
       "1172     1556     19  1.605263         2.190   \n",
       "\n",
       "                                          title  \n",
       "277            Shawshank Redemption, The (1994)  \n",
       "659                       Godfather, The (1972)  \n",
       "2224                          Fight Club (1999)  \n",
       "224   Star Wars: Episode IV - A New Hope (1977)  \n",
       "46                   Usual Suspects, The (1995)  \n",
       "...                                         ...  \n",
       "1988    Superman IV: The Quest for Peace (1987)  \n",
       "1144                            Anaconda (1997)  \n",
       "1372                            Godzilla (1998)  \n",
       "2679                   Battlefield Earth (2000)  \n",
       "1172             Speed 2: Cruise Control (1997)  \n",
       "\n",
       "[9724 rows x 5 columns]"
      ]
     },
     "execution_count": 17,
     "metadata": {},
     "output_type": "execute_result"
    }
   ],
   "source": [
    "movie_stats = movie_stats.merge(movies[['movieId', 'title']])\n",
    "movie_stats.sort_values(by='bayesian_avg', ascending=False)"
   ]
  },
  {
   "cell_type": "code",
   "execution_count": 18,
   "metadata": {
    "colab": {
     "base_uri": "https://localhost:8080/",
     "height": 206
    },
    "id": "_oVbny_hQq9N",
    "outputId": "7b20d484-e930-4772-a2aa-ab029488c13d"
   },
   "outputs": [
    {
     "data": {
      "text/html": [
       "<div>\n",
       "<style scoped>\n",
       "    .dataframe tbody tr th:only-of-type {\n",
       "        vertical-align: middle;\n",
       "    }\n",
       "\n",
       "    .dataframe tbody tr th {\n",
       "        vertical-align: top;\n",
       "    }\n",
       "\n",
       "    .dataframe thead th {\n",
       "        text-align: right;\n",
       "    }\n",
       "</style>\n",
       "<table border=\"1\" class=\"dataframe\">\n",
       "  <thead>\n",
       "    <tr style=\"text-align: right;\">\n",
       "      <th></th>\n",
       "      <th>movieId</th>\n",
       "      <th>count</th>\n",
       "      <th>mean</th>\n",
       "      <th>bayesian_avg</th>\n",
       "      <th>title</th>\n",
       "    </tr>\n",
       "  </thead>\n",
       "  <tbody>\n",
       "    <tr>\n",
       "      <th>1172</th>\n",
       "      <td>1556</td>\n",
       "      <td>19</td>\n",
       "      <td>1.605263</td>\n",
       "      <td>2.190</td>\n",
       "      <td>Speed 2: Cruise Control (1997)</td>\n",
       "    </tr>\n",
       "    <tr>\n",
       "      <th>2679</th>\n",
       "      <td>3593</td>\n",
       "      <td>19</td>\n",
       "      <td>1.657895</td>\n",
       "      <td>2.224</td>\n",
       "      <td>Battlefield Earth (2000)</td>\n",
       "    </tr>\n",
       "    <tr>\n",
       "      <th>1372</th>\n",
       "      <td>1882</td>\n",
       "      <td>33</td>\n",
       "      <td>1.954545</td>\n",
       "      <td>2.267</td>\n",
       "      <td>Godzilla (1998)</td>\n",
       "    </tr>\n",
       "    <tr>\n",
       "      <th>1144</th>\n",
       "      <td>1499</td>\n",
       "      <td>27</td>\n",
       "      <td>1.925926</td>\n",
       "      <td>2.297</td>\n",
       "      <td>Anaconda (1997)</td>\n",
       "    </tr>\n",
       "    <tr>\n",
       "      <th>1988</th>\n",
       "      <td>2643</td>\n",
       "      <td>16</td>\n",
       "      <td>1.687500</td>\n",
       "      <td>2.307</td>\n",
       "      <td>Superman IV: The Quest for Peace (1987)</td>\n",
       "    </tr>\n",
       "  </tbody>\n",
       "</table>\n",
       "</div>"
      ],
      "text/plain": [
       "      movieId  count      mean  bayesian_avg  \\\n",
       "1172     1556     19  1.605263         2.190   \n",
       "2679     3593     19  1.657895         2.224   \n",
       "1372     1882     33  1.954545         2.267   \n",
       "1144     1499     27  1.925926         2.297   \n",
       "1988     2643     16  1.687500         2.307   \n",
       "\n",
       "                                        title  \n",
       "1172           Speed 2: Cruise Control (1997)  \n",
       "2679                 Battlefield Earth (2000)  \n",
       "1372                          Godzilla (1998)  \n",
       "1144                          Anaconda (1997)  \n",
       "1988  Superman IV: The Quest for Peace (1987)  "
      ]
     },
     "execution_count": 18,
     "metadata": {},
     "output_type": "execute_result"
    }
   ],
   "source": [
    "movie_stats.sort_values('bayesian_avg', ascending=True).head()"
   ]
  },
  {
   "cell_type": "markdown",
   "metadata": {
    "id": "8foY5Wg3Qq9N"
   },
   "source": [
    "### A Glimpse at Movie Genres\n",
    "\n",
    "The movies dataset needs to be cleaned in two ways:\n",
    "\n",
    "- `genres` is expressed as a string with a pipe `|` separating each genre. We will manipulate this string into a list, which will make it much easier to analyze.\n",
    "- `title` currently has (year) appended at the end. We will extract year from each title string and create a new column for it."
   ]
  },
  {
   "cell_type": "code",
   "execution_count": 19,
   "metadata": {
    "colab": {
     "base_uri": "https://localhost:8080/",
     "height": 206
    },
    "id": "k2UxAk-xQq9N",
    "outputId": "56df9ee1-f3f8-4ead-967c-e41e16f013eb"
   },
   "outputs": [
    {
     "data": {
      "text/html": [
       "<div>\n",
       "<style scoped>\n",
       "    .dataframe tbody tr th:only-of-type {\n",
       "        vertical-align: middle;\n",
       "    }\n",
       "\n",
       "    .dataframe tbody tr th {\n",
       "        vertical-align: top;\n",
       "    }\n",
       "\n",
       "    .dataframe thead th {\n",
       "        text-align: right;\n",
       "    }\n",
       "</style>\n",
       "<table border=\"1\" class=\"dataframe\">\n",
       "  <thead>\n",
       "    <tr style=\"text-align: right;\">\n",
       "      <th></th>\n",
       "      <th>movieId</th>\n",
       "      <th>title</th>\n",
       "      <th>genres</th>\n",
       "      <th>year</th>\n",
       "    </tr>\n",
       "  </thead>\n",
       "  <tbody>\n",
       "    <tr>\n",
       "      <th>0</th>\n",
       "      <td>1</td>\n",
       "      <td>Toy Story (1995)</td>\n",
       "      <td>[Adventure, Animation, Children, Comedy, Fantasy]</td>\n",
       "      <td>1995.0</td>\n",
       "    </tr>\n",
       "    <tr>\n",
       "      <th>1</th>\n",
       "      <td>2</td>\n",
       "      <td>Jumanji (1995)</td>\n",
       "      <td>[Adventure, Children, Fantasy]</td>\n",
       "      <td>1995.0</td>\n",
       "    </tr>\n",
       "    <tr>\n",
       "      <th>2</th>\n",
       "      <td>3</td>\n",
       "      <td>Grumpier Old Men (1995)</td>\n",
       "      <td>[Comedy, Romance]</td>\n",
       "      <td>1995.0</td>\n",
       "    </tr>\n",
       "    <tr>\n",
       "      <th>3</th>\n",
       "      <td>4</td>\n",
       "      <td>Waiting to Exhale (1995)</td>\n",
       "      <td>[Comedy, Drama, Romance]</td>\n",
       "      <td>1995.0</td>\n",
       "    </tr>\n",
       "    <tr>\n",
       "      <th>4</th>\n",
       "      <td>5</td>\n",
       "      <td>Father of the Bride Part II (1995)</td>\n",
       "      <td>[Comedy]</td>\n",
       "      <td>1995.0</td>\n",
       "    </tr>\n",
       "  </tbody>\n",
       "</table>\n",
       "</div>"
      ],
      "text/plain": [
       "   movieId                               title  \\\n",
       "0        1                    Toy Story (1995)   \n",
       "1        2                      Jumanji (1995)   \n",
       "2        3             Grumpier Old Men (1995)   \n",
       "3        4            Waiting to Exhale (1995)   \n",
       "4        5  Father of the Bride Part II (1995)   \n",
       "\n",
       "                                              genres    year  \n",
       "0  [Adventure, Animation, Children, Comedy, Fantasy]  1995.0  \n",
       "1                     [Adventure, Children, Fantasy]  1995.0  \n",
       "2                                  [Comedy, Romance]  1995.0  \n",
       "3                           [Comedy, Drama, Romance]  1995.0  \n",
       "4                                           [Comedy]  1995.0  "
      ]
     },
     "execution_count": 19,
     "metadata": {},
     "output_type": "execute_result"
    }
   ],
   "source": [
    "movies['genres'] = movies['genres'].apply(lambda x: x.split('|'))\n",
    "movies.head()"
   ]
  },
  {
   "cell_type": "markdown",
   "metadata": {
    "id": "-EOkcfN7Qq9N"
   },
   "source": [
    "**How many movie genres are there?**"
   ]
  },
  {
   "cell_type": "code",
   "execution_count": 20,
   "metadata": {
    "colab": {
     "base_uri": "https://localhost:8080/"
    },
    "id": "i18YsrM9Qq9N",
    "outputId": "25a2286c-ce1d-4a0d-a6a4-f8e03000cec9"
   },
   "outputs": [
    {
     "name": "stdout",
     "output_type": "stream",
     "text": [
      "There are 20 genres.\n"
     ]
    },
    {
     "data": {
      "text/plain": [
       "Counter({'Drama': 4361,\n",
       "         'Comedy': 3756,\n",
       "         'Thriller': 1894,\n",
       "         'Action': 1828,\n",
       "         'Romance': 1596,\n",
       "         'Adventure': 1263,\n",
       "         'Crime': 1199,\n",
       "         'Sci-Fi': 980,\n",
       "         'Horror': 978,\n",
       "         'Fantasy': 779,\n",
       "         'Children': 664,\n",
       "         'Animation': 611,\n",
       "         'Mystery': 573,\n",
       "         'Documentary': 440,\n",
       "         'War': 382,\n",
       "         'Musical': 334,\n",
       "         'Western': 167,\n",
       "         'IMAX': 158,\n",
       "         'Film-Noir': 87,\n",
       "         '(no genres listed)': 34})"
      ]
     },
     "execution_count": 20,
     "metadata": {},
     "output_type": "execute_result"
    }
   ],
   "source": [
    "from collections import Counter\n",
    "\n",
    "genre_frequency = Counter(g for genres in movies['genres'] for g in genres)\n",
    "\n",
    "print(f\"There are {len(genre_frequency)} genres.\")\n",
    "\n",
    "genre_frequency"
   ]
  },
  {
   "cell_type": "markdown",
   "metadata": {},
   "source": [
    "#Gráfico da popularidade dos gêneros"
   ]
  },
  {
   "cell_type": "code",
   "execution_count": 21,
   "metadata": {
    "colab": {
     "base_uri": "https://localhost:8080/",
     "height": 581
    },
    "id": "ETxwbZu6Qq9U",
    "outputId": "ec309d18-79b6-432c-cc0d-07240397978b"
   },
   "outputs": [
    {
     "data": {
      "image/png": "[encoded data removed]",
      "text/plain": [
       "<Figure size 640x480 with 1 Axes>"
      ]
     },
     "metadata": {},
     "output_type": "display_data"
    }
   ],
   "source": [
    "genre_frequency_df = pd.DataFrame([genre_frequency])\n",
    "genre_frequency_df = genre_frequency_df.transpose()\n",
    "genre_frequency_df = genre_frequency_df.reset_index()\n",
    "genre_frequency_df.columns = ['genre', 'count']\n",
    "\n",
    "sns.barplot(x='genre', y='count', data=genre_frequency_df.sort_values(by='count', ascending=False))\n",
    "plt.xticks(rotation=90)\n",
    "plt.title(\"Frequency of Movie Genres\", fontsize=14)\n",
    "plt.show()"
   ]
  },
  {
   "cell_type": "markdown",
   "metadata": {
    "id": "DcytbWeiQq9U"
   },
   "source": [
    "### Step 4: Data Pre-processing\n",
    "\n",
    "We are going to use a technique called colaborative filtering to generate recommendations for users. This technique is based on the premise that similar people like similar things.\n",
    "\n",
    "The first step is to transform our data into a user-item matrix, also known as a \"utility\" matrix. In this matrix, rows represent users and columns represent movies. The beauty of collaborative filtering is that it doesn't require any information about the users or the movies user to generate recommendations.\n",
    "\n",
    "<img src=\"https://github.com/rasecfaria/FinalProject/blob/main/images/user_movie_matrix.png?raw=1\" width=50%/>"
   ]
  },
  {
   "cell_type": "markdown",
   "metadata": {
    "id": "SAZJd3ltQq9U"
   },
   "source": [
    "The `create_X()` function outputs a sparse matrix $X$ with four mapper dictionaries:\n",
    "\n",
    "- **user_mapper**: maps user id to user index\n",
    "- **movie_mapper**: maps movie id to movie index\n",
    "- **user_inv_mapper**: maps user index to user id\n",
    "- **movie_inv_mapper**: maps movie index to movie id\n",
    "\n",
    "We need these dictionaries because they map which row/column of the utility matrix corresponds to which user/movie id.\n",
    "\n",
    "Our $X$ (user-item) matrix is a [scipy.sparse.csr_matrix](https://docs.scipy.org/doc/scipy-0.14.0/reference/generated/scipy.sparse.csr_matrix.html) which stores the data sparsely."
   ]
  },
  {
   "cell_type": "code",
   "execution_count": 22,
   "metadata": {},
   "outputs": [],
   "source": [
    "from scipy.sparse import csr_matrix\n",
    "\n",
    "def create_X(df, rating_column='rating'):\n",
    "    \"\"\"\n",
    "    Generates a sparse matrix from ratings dataframe.\n",
    "\n",
    "    Args:\n",
    "        df: pandas dataframe containing at least 3 columns (userId, movieId, rating)\n",
    "        rating_column: the name of the column to use for ratings (default: 'rating')\n",
    "\n",
    "    Returns:\n",
    "        X: sparse matrix\n",
    "        user_mapper: dict that maps user id's to user indices\n",
    "        user_inv_mapper: dict that maps user indices to user id's\n",
    "        movie_mapper: dict that maps movie id's to movie indices\n",
    "        movie_inv_mapper: dict that maps movie indices to movie id's\n",
    "    \"\"\"\n",
    "    M = df['userId'].nunique()\n",
    "    N = df['movieId'].nunique()\n",
    "\n",
    "    user_mapper = dict(zip(np.unique(df[\"userId\"]), list(range(M))))\n",
    "    movie_mapper = dict(zip(np.unique(df[\"movieId\"]), list(range(N))))\n",
    "\n",
    "    user_inv_mapper = dict(zip(list(range(M)), np.unique(df[\"userId\"])))\n",
    "    movie_inv_mapper = dict(zip(list(range(N)), np.unique(df[\"movieId\"])))\n",
    "\n",
    "    user_index = [user_mapper[i] for i in df['userId']]\n",
    "    item_index = [movie_mapper[i] for i in df['movieId']]\n",
    "\n",
    "    X = csr_matrix((df[rating_column], (user_index,item_index)), shape=(M,N))\n",
    "\n",
    "    return X, user_mapper, movie_mapper, user_inv_mapper, movie_inv_mapper\n",
    "\n",
    "# Criando a matriz com avaliações originais\n",
    "X, user_mapper, movie_mapper, user_inv_mapper, movie_inv_mapper = create_X(ratings)"
   ]
  },
  {
   "cell_type": "markdown",
   "metadata": {
    "id": "jy3_hnIsQq9U"
   },
   "source": [
    "### Evaluating sparsity\n",
    "\n",
    "Here, we calculate sparsity by dividing the number of stored elements by total number of elements. The number of stored (non-empty) elements in our matrix ([nnz](https://docs.scipy.org/doc/scipy/reference/generated/scipy.sparse.csr_matrix.nnz.html)) is equivalent to the number of ratings in our dataset."
   ]
  },
  {
   "cell_type": "code",
   "execution_count": 23,
   "metadata": {
    "colab": {
     "base_uri": "https://localhost:8080/"
    },
    "id": "-wGwiVBmQq9U",
    "outputId": "95b9535d-cc3e-43fc-f2c7-af54502a68ca"
   },
   "outputs": [
    {
     "name": "stdout",
     "output_type": "stream",
     "text": [
      "Matrix sparsity: 1.7%\n"
     ]
    }
   ],
   "source": [
    "n_total = X.shape[0]*X.shape[1]\n",
    "n_ratings = X.nnz\n",
    "sparsity = n_ratings/n_total\n",
    "print(f\"Matrix sparsity: {round(sparsity*100,2)}%\")"
   ]
  },
  {
   "cell_type": "markdown",
   "metadata": {
    "id": "Ju7wo88WQq9U"
   },
   "source": [
    "`csr_matrix.nnz` counts the stored values in our sparse matrix. The rest of our cells are empty.\n",
    "\n",
    "The **cold start problem** is when there are new users and movies in our matrix that do not have any ratings. In our Movielens dataset, all users and movies have at least one rating but in general, it's useful to check which users and movies have few interactions."
   ]
  },
  {
   "cell_type": "code",
   "execution_count": 24,
   "metadata": {
    "colab": {
     "base_uri": "https://localhost:8080/"
    },
    "id": "2GAjIDAKQq9U",
    "outputId": "f8f02b5f-0349-462f-b193-1be904cb77e8"
   },
   "outputs": [
    {
     "data": {
      "text/plain": [
       "611"
      ]
     },
     "execution_count": 24,
     "metadata": {},
     "output_type": "execute_result"
    }
   ],
   "source": [
    "n_ratings_per_user = X.getnnz(axis=1)\n",
    "len(n_ratings_per_user)"
   ]
  },
  {
   "cell_type": "code",
   "execution_count": 25,
   "metadata": {
    "colab": {
     "base_uri": "https://localhost:8080/"
    },
    "id": "H9HxPI6dQq9U",
    "outputId": "a6e1cb91-7974-4e6e-824f-0900119e2cdb"
   },
   "outputs": [
    {
     "name": "stdout",
     "output_type": "stream",
     "text": [
      "Most active user rated 2698 movies.\n",
      "Least active user rated 6 movies.\n"
     ]
    }
   ],
   "source": [
    "print(f\"Most active user rated {n_ratings_per_user.max()} movies.\")\n",
    "print(f\"Least active user rated {n_ratings_per_user.min()} movies.\")"
   ]
  },
  {
   "cell_type": "code",
   "execution_count": 26,
   "metadata": {
    "colab": {
     "base_uri": "https://localhost:8080/"
    },
    "id": "4sqSQPbzQq9U",
    "outputId": "c95ef394-6129-4f7c-cbb2-0ce64a7913ee"
   },
   "outputs": [
    {
     "data": {
      "text/plain": [
       "9725"
      ]
     },
     "execution_count": 26,
     "metadata": {},
     "output_type": "execute_result"
    }
   ],
   "source": [
    "n_ratings_per_movie = X.getnnz(axis=0)\n",
    "len(n_ratings_per_movie)"
   ]
  },
  {
   "cell_type": "code",
   "execution_count": 27,
   "metadata": {
    "colab": {
     "base_uri": "https://localhost:8080/"
    },
    "id": "EeSk6BT6Qq9U",
    "outputId": "92a6f962-d41e-4978-cf71-6e673dff17ac"
   },
   "outputs": [
    {
     "name": "stdout",
     "output_type": "stream",
     "text": [
      "Most rated movie has 330 ratings.\n",
      "Least rated movie has 1 ratings.\n"
     ]
    }
   ],
   "source": [
    "print(f\"Most rated movie has {n_ratings_per_movie.max()} ratings.\")\n",
    "print(f\"Least rated movie has {n_ratings_per_movie.min()} ratings.\")"
   ]
  },
  {
   "cell_type": "code",
   "execution_count": 28,
   "metadata": {
    "colab": {
     "base_uri": "https://localhost:8080/",
     "height": 553
    },
    "id": "ETr318JJQq9U",
    "outputId": "eddd7a36-b4cd-4c49-8ea1-754c671c2f93"
   },
   "outputs": [
    {
     "name": "stderr",
     "output_type": "stream",
     "text": [
      "C:\\Users\\cesar\\AppData\\Local\\Temp\\ipykernel_23304\\3364525973.py:3: FutureWarning: \n",
      "\n",
      "`shade` is now deprecated in favor of `fill`; setting `fill=True`.\n",
      "This will become an error in seaborn v0.14.0; please update your code.\n",
      "\n",
      "  sns.kdeplot(n_ratings_per_user, shade=True)\n",
      "C:\\Users\\cesar\\AppData\\Local\\Temp\\ipykernel_23304\\3364525973.py:9: FutureWarning: \n",
      "\n",
      "`shade` is now deprecated in favor of `fill`; setting `fill=True`.\n",
      "This will become an error in seaborn v0.14.0; please update your code.\n",
      "\n",
      "  sns.kdeplot(n_ratings_per_movie, shade=True)\n"
     ]
    },
    {
     "data": {
      "image/png": "[encoded data removed]",
      "text/plain": [
       "<Figure size 1600x400 with 2 Axes>"
      ]
     },
     "metadata": {},
     "output_type": "display_data"
    }
   ],
   "source": [
    "plt.figure(figsize=(16,4))\n",
    "plt.subplot(1,2,1)\n",
    "sns.kdeplot(n_ratings_per_user, shade=True)\n",
    "plt.xlim(0)\n",
    "plt.title(\"Number of Ratings Per User\", fontsize=14)\n",
    "plt.xlabel(\"number of ratings per user\")\n",
    "plt.ylabel(\"density\")\n",
    "plt.subplot(1,2,2)\n",
    "sns.kdeplot(n_ratings_per_movie, shade=True)\n",
    "plt.xlim(0)\n",
    "plt.title(\"Number of Ratings Per Movie\", fontsize=14)\n",
    "plt.xlabel(\"number of ratings per movie\")\n",
    "plt.ylabel(\"density\")\n",
    "plt.show()"
   ]
  },
  {
   "cell_type": "markdown",
   "metadata": {
    "id": "QYpVQ0c5Qq9V"
   },
   "source": [
    "### Step 5: Item-item Recommendations with k-Nearest Neighbors"
   ]
  },
  {
   "cell_type": "markdown",
   "metadata": {
    "id": "nnlgI8EgQq9V"
   },
   "source": [
    "We are going to find the $k$ movies that have the most similar user engagement vectors for movie $i$."
   ]
  },
  {
   "cell_type": "code",
   "execution_count": 29,
   "metadata": {
    "id": "6n6D5yMJQq9V"
   },
   "outputs": [],
   "source": [
    "from sklearn.neighbors import NearestNeighbors\n",
    "\n",
    "def find_similar_movies(movie_id, X, movie_mapper, movie_inv_mapper, k, metric='cosine'):\n",
    "    \"\"\"\n",
    "    Finds k-nearest neighbours for a given movie id.\n",
    "\n",
    "    Args:\n",
    "        movie_id: id of the movie of interest\n",
    "        X: user-item utility matrix\n",
    "        k: number of similar movies to retrieve\n",
    "        metric: distance metric for kNN calculations\n",
    "\n",
    "    Output: returns list of k similar movie ID's\n",
    "    \"\"\"\n",
    "    X = X.T\n",
    "    neighbour_ids = []\n",
    "\n",
    "    movie_ind = movie_mapper[movie_id]\n",
    "    movie_vec = X[movie_ind]\n",
    "    if isinstance(movie_vec, (np.ndarray)):\n",
    "        movie_vec = movie_vec.reshape(1,-1)\n",
    "    # use k+1 since kNN output includes the movieId of interest\n",
    "    kNN = NearestNeighbors(n_neighbors=k+1, algorithm=\"brute\", metric=metric)\n",
    "    kNN.fit(X)\n",
    "    neighbour = kNN.kneighbors(movie_vec, return_distance=False)\n",
    "    for i in range(0,k):\n",
    "        n = neighbour.item(i)\n",
    "        neighbour_ids.append(movie_inv_mapper[n])\n",
    "    neighbour_ids.pop(0)\n",
    "    return neighbour_ids"
   ]
  },
  {
   "cell_type": "markdown",
   "metadata": {
    "id": "xrvYC-tVQq9V"
   },
   "source": [
    "`find_similar_movies()` takes in a `movieId` and `X` matrix, and outputs a list of $k$ movies that are similar to the `movieId` of interest.\n",
    "\n",
    "Let's see how it works in action. We will first create another mapper that maps movieId to title so that our results are interpretable."
   ]
  },
  {
   "cell_type": "markdown",
   "metadata": {
    "id": "a32rnfIsQq9V"
   },
   "source": [
    "`find_similar_movies()` returns a list of `movieId`'s that are most similar to your movie of interest. Let's convert these id's to titles so that we can interpret our results. To make things easier, we will create a dictionary that maps `movieId` to `title`."
   ]
  },
  {
   "cell_type": "code",
   "execution_count": 30,
   "metadata": {
    "colab": {
     "base_uri": "https://localhost:8080/"
    },
    "id": "drDw4KO5Qq9V",
    "outputId": "33f5c583-8f49-477b-fd74-05a37b466055"
   },
   "outputs": [
    {
     "name": "stdout",
     "output_type": "stream",
     "text": [
      "Because you watched Forrest Gump (1994):\n",
      "Shawshank Redemption, The (1994)\n",
      "Jurassic Park (1993)\n",
      "Pulp Fiction (1994)\n",
      "Braveheart (1995)\n",
      "Silence of the Lambs, The (1991)\n",
      "Apollo 13 (1995)\n",
      "Matrix, The (1999)\n",
      "Mrs. Doubtfire (1993)\n",
      "Schindler's List (1993)\n"
     ]
    }
   ],
   "source": [
    "movie_titles = dict(zip(movies['movieId'], movies['title']))\n",
    "\n",
    "movie_id = 356\n",
    "\n",
    "similar_movies = find_similar_movies(movie_id, X, movie_mapper, movie_inv_mapper, metric='cosine', k=10)\n",
    "movie_title = movie_titles[movie_id]\n",
    "\n",
    "print(f\"Because you watched {movie_title}:\")\n",
    "for i in similar_movies:\n",
    "    print(movie_titles[i])"
   ]
  },
  {
   "cell_type": "markdown",
   "metadata": {},
   "source": [
    "### Comparação de recomendações com e sem normalização\n",
    "\n",
    "Vamos comparar as recomendações obtidas usando a matriz original e a matriz normalizada."
   ]
  },
  {
   "cell_type": "code",
   "execution_count": 31,
   "metadata": {},
   "outputs": [
    {
     "name": "stdout",
     "output_type": "stream",
     "text": [
      "Porque você assistiu Toy Story (1995) (usando ratings originais):\n",
      "Toy Story 2 (1999)\n",
      "Jurassic Park (1993)\n",
      "Independence Day (a.k.a. ID4) (1996)\n",
      "Star Wars: Episode IV - A New Hope (1977)\n",
      "Forrest Gump (1994)\n",
      "Lion King, The (1994)\n",
      "Star Wars: Episode VI - Return of the Jedi (1983)\n",
      "Mission: Impossible (1996)\n",
      "Groundhog Day (1993)\n",
      "\n",
      "--------------------------------------------------\n",
      "\n",
      "Porque você assistiu Toy Story (1995) (usando ratings normalizados):\n",
      "Toy Story 2 (1999)\n",
      "Toy Story 3 (2010)\n",
      "Aladdin (1992)\n",
      "Wallace & Gromit: The Wrong Trousers (1993)\n",
      "Back to the Future (1985)\n",
      "Incredibles, The (2004)\n",
      "Blazing Saddles (1974)\n",
      "Finding Nemo (2003)\n",
      "Ghostbusters (a.k.a. Ghost Busters) (1984)\n"
     ]
    }
   ],
   "source": [
    "movie_id = 1\n",
    "\n",
    "# Recomendações com matriz original\n",
    "similar_movies_original = find_similar_movies(movie_id, X, movie_mapper, movie_inv_mapper, metric='cosine', k=10)\n",
    "movie_title = movie_titles[movie_id]\n",
    "\n",
    "print(f\"Porque você assistiu {movie_title} (usando ratings originais):\")\n",
    "for i in similar_movies_original:\n",
    "    print(movie_titles[i])\n",
    "\n",
    "print(\"\\n\" + \"-\"*50 + \"\\n\")\n",
    "\n",
    "# Recomendações com matriz normalizada\n",
    "similar_movies_norm = find_similar_movies(movie_id, X_norm, movie_mapper_norm, movie_inv_mapper_norm, metric='cosine', k=10)\n",
    "\n",
    "print(f\"Porque você assistiu {movie_title} (usando ratings normalizados):\")\n",
    "for i in similar_movies_norm:\n",
    "    print(movie_titles[i])"
   ]
  },
  {
   "cell_type": "markdown",
   "metadata": {
    "id": "uivToBoxQq9V"
   },
   "source": [
    "The results above show the 10 movies that are most similar to Toy Story. Most movies in this list are family movies from the 1990s, which seems pretty reasonable. Note that these recommendations are based solely on user-item ratings. Movie features such as genres are not used in this approach."
   ]
  },
  {
   "cell_type": "markdown",
   "metadata": {
    "id": "03zPlCotQq9V"
   },
   "source": [
    "You can also play around with the kNN distance metric and see what results you would get if you use \"manhattan\" or \"euclidean\" instead of \"cosine\"."
   ]
  },
  {
   "cell_type": "code",
   "execution_count": 32,
   "metadata": {
    "colab": {
     "base_uri": "https://localhost:8080/"
    },
    "id": "bHq7wvIKQq9V",
    "outputId": "e04af8ac-d26d-4022-b2d9-583a2526df6f"
   },
   "outputs": [
    {
     "name": "stdout",
     "output_type": "stream",
     "text": [
      "Because you watched Toy Story (1995):\n",
      "Toy Story 2 (1999)\n",
      "Mission: Impossible (1996)\n",
      "Independence Day (a.k.a. ID4) (1996)\n",
      "Bug's Life, A (1998)\n",
      "Nutty Professor, The (1996)\n",
      "Willy Wonka & the Chocolate Factory (1971)\n",
      "Babe (1995)\n",
      "Groundhog Day (1993)\n",
      "Mask, The (1994)\n"
     ]
    }
   ],
   "source": [
    "movie_id = 1\n",
    "\n",
    "similar_movies = find_similar_movies(movie_id, X, movie_mapper, movie_inv_mapper, metric='euclidean', k=10)\n",
    "movie_title = movie_titles[movie_id]\n",
    "\n",
    "print(f\"Because you watched {movie_title}:\")\n",
    "for i in similar_movies:\n",
    "    print(movie_titles[i])"
   ]
  },
  {
   "cell_type": "code",
   "execution_count": 33,
   "metadata": {},
   "outputs": [
    {
     "name": "stdout",
     "output_type": "stream",
     "text": [
      "Avaliações do usuário 1:\n",
      "                         title  rating\n",
      "0             Toy Story (1995)     4.0\n",
      "1      Grumpier Old Men (1995)     4.0\n",
      "2                  Heat (1995)     4.0\n",
      "3  Seven (a.k.a. Se7en) (1995)     5.0\n",
      "4   Usual Suspects, The (1995)     5.0\n",
      "\n",
      "Média de avaliação do usuário: 4.366379310344827\n",
      "\n",
      "Avaliações normalizadas do usuário:\n",
      "                         title  rating  rating_normalized\n",
      "0             Toy Story (1995)     4.0          -0.366379\n",
      "1      Grumpier Old Men (1995)     4.0          -0.366379\n",
      "2                  Heat (1995)     4.0          -0.366379\n",
      "3  Seven (a.k.a. Se7en) (1995)     5.0           0.633621\n",
      "4   Usual Suspects, The (1995)     5.0           0.633621\n"
     ]
    }
   ],
   "source": [
    "# Escolhendo um usuário para demonstrar o efeito da normalização\n",
    "sample_user_id = 1\n",
    "\n",
    "user_ratings = ratings[ratings['userId'] == sample_user_id]\n",
    "user_normalized_ratings = ratings_normalized[ratings_normalized['userId'] == sample_user_id]\n",
    "\n",
    "print(f\"Avaliações do usuário {sample_user_id}:\")\n",
    "user_ratings_with_titles = user_ratings.merge(movies[['movieId', 'title']], on='movieId')\n",
    "print(user_ratings_with_titles[['title', 'rating']].head())\n",
    "\n",
    "print(\"\\nMédia de avaliação do usuário:\", user_ratings['rating'].mean())\n",
    "\n",
    "print(\"\\nAvaliações normalizadas do usuário:\")\n",
    "user_norm_ratings_with_titles = user_normalized_ratings.merge(movies[['movieId', 'title']], on='movieId')\n",
    "print(user_norm_ratings_with_titles[['title', 'rating', 'rating_normalized']].head())"
   ]
  },
  {
   "cell_type": "markdown",
   "metadata": {
    "id": "8Hn8_FZZQq9V"
   },
   "source": [
    "### Step 6: Handling the cold-start problem\n",
    "\n",
    "Collaborative filtering relies solely on user-item interactions within the utility matrix. The issue with this approach is that brand new users or items with no iteractions get excluded from the recommendation system. This is called the **cold start problem**. Content-based filtering is a way to handle this problem by generating recommendations based on user and item features.\n",
    "\n",
    "First, we need to convert the `genres` column into binary features. Each genre will have its own column in the dataframe, and will be populated with 0 or 1."
   ]
  },
  {
   "cell_type": "code",
   "execution_count": 34,
   "metadata": {
    "colab": {
     "base_uri": "https://localhost:8080/"
    },
    "id": "WKOVltQBQq9V",
    "outputId": "4f12f2ee-0c05-43fd-c451-4548f35aca81"
   },
   "outputs": [
    {
     "name": "stdout",
     "output_type": "stream",
     "text": [
      "There are 9742 unique movies in our movies dataset.\n"
     ]
    }
   ],
   "source": [
    "n_movies = movies['movieId'].nunique()\n",
    "print(f\"There are {n_movies} unique movies in our movies dataset.\")"
   ]
  },
  {
   "cell_type": "code",
   "execution_count": 35,
   "metadata": {
    "id": "ApxhAGx8Qq9V"
   },
   "outputs": [],
   "source": [
    "genres = set(g for G in movies['genres'] for g in G)\n",
    "\n",
    "for g in genres:\n",
    "    movies[g] = movies.genres.transform(lambda x: int(g in x))\n",
    "\n",
    "# Create movie_genres DataFrame dropping non-genre columns\n",
    "movie_genres = movies.drop(columns=['movieId', 'title','genres'])\n",
    "\n",
    "# Ensure the year column is also dropped as it might contain NaN values\n",
    "if 'year' in movie_genres.columns:\n",
    "    movie_genres = movie_genres.drop(columns=['year'])\n",
    "\n",
    "# Fill any remaining NaN values with 0 (assuming 0 means the movie doesn't have that genre)\n",
    "movie_genres = movie_genres.fillna(0)"
   ]
  },
  {
   "cell_type": "code",
   "execution_count": 36,
   "metadata": {
    "colab": {
     "base_uri": "https://localhost:8080/",
     "height": 261
    },
    "id": "K8dn7pOpQq9V",
    "outputId": "1c5ae060-eae0-44bb-9cb3-915bd11c81b9"
   },
   "outputs": [
    {
     "data": {
      "text/html": [
       "<div>\n",
       "<style scoped>\n",
       "    .dataframe tbody tr th:only-of-type {\n",
       "        vertical-align: middle;\n",
       "    }\n",
       "\n",
       "    .dataframe tbody tr th {\n",
       "        vertical-align: top;\n",
       "    }\n",
       "\n",
       "    .dataframe thead th {\n",
       "        text-align: right;\n",
       "    }\n",
       "</style>\n",
       "<table border=\"1\" class=\"dataframe\">\n",
       "  <thead>\n",
       "    <tr style=\"text-align: right;\">\n",
       "      <th></th>\n",
       "      <th>Fantasy</th>\n",
       "      <th>Action</th>\n",
       "      <th>Adventure</th>\n",
       "      <th>Comedy</th>\n",
       "      <th>Children</th>\n",
       "      <th>Animation</th>\n",
       "      <th>Mystery</th>\n",
       "      <th>Musical</th>\n",
       "      <th>Horror</th>\n",
       "      <th>Western</th>\n",
       "      <th>Documentary</th>\n",
       "      <th>Thriller</th>\n",
       "      <th>(no genres listed)</th>\n",
       "      <th>Sci-Fi</th>\n",
       "      <th>Film-Noir</th>\n",
       "      <th>War</th>\n",
       "      <th>Drama</th>\n",
       "      <th>Romance</th>\n",
       "      <th>IMAX</th>\n",
       "      <th>Crime</th>\n",
       "    </tr>\n",
       "  </thead>\n",
       "  <tbody>\n",
       "    <tr>\n",
       "      <th>0</th>\n",
       "      <td>1</td>\n",
       "      <td>0</td>\n",
       "      <td>1</td>\n",
       "      <td>1</td>\n",
       "      <td>1</td>\n",
       "      <td>1</td>\n",
       "      <td>0</td>\n",
       "      <td>0</td>\n",
       "      <td>0</td>\n",
       "      <td>0</td>\n",
       "      <td>0</td>\n",
       "      <td>0</td>\n",
       "      <td>0</td>\n",
       "      <td>0</td>\n",
       "      <td>0</td>\n",
       "      <td>0</td>\n",
       "      <td>0</td>\n",
       "      <td>0</td>\n",
       "      <td>0</td>\n",
       "      <td>0</td>\n",
       "    </tr>\n",
       "    <tr>\n",
       "      <th>1</th>\n",
       "      <td>1</td>\n",
       "      <td>0</td>\n",
       "      <td>1</td>\n",
       "      <td>0</td>\n",
       "      <td>1</td>\n",
       "      <td>0</td>\n",
       "      <td>0</td>\n",
       "      <td>0</td>\n",
       "      <td>0</td>\n",
       "      <td>0</td>\n",
       "      <td>0</td>\n",
       "      <td>0</td>\n",
       "      <td>0</td>\n",
       "      <td>0</td>\n",
       "      <td>0</td>\n",
       "      <td>0</td>\n",
       "      <td>0</td>\n",
       "      <td>0</td>\n",
       "      <td>0</td>\n",
       "      <td>0</td>\n",
       "    </tr>\n",
       "    <tr>\n",
       "      <th>2</th>\n",
       "      <td>0</td>\n",
       "      <td>0</td>\n",
       "      <td>0</td>\n",
       "      <td>1</td>\n",
       "      <td>0</td>\n",
       "      <td>0</td>\n",
       "      <td>0</td>\n",
       "      <td>0</td>\n",
       "      <td>0</td>\n",
       "      <td>0</td>\n",
       "      <td>0</td>\n",
       "      <td>0</td>\n",
       "      <td>0</td>\n",
       "      <td>0</td>\n",
       "      <td>0</td>\n",
       "      <td>0</td>\n",
       "      <td>0</td>\n",
       "      <td>1</td>\n",
       "      <td>0</td>\n",
       "      <td>0</td>\n",
       "    </tr>\n",
       "    <tr>\n",
       "      <th>3</th>\n",
       "      <td>0</td>\n",
       "      <td>0</td>\n",
       "      <td>0</td>\n",
       "      <td>1</td>\n",
       "      <td>0</td>\n",
       "      <td>0</td>\n",
       "      <td>0</td>\n",
       "      <td>0</td>\n",
       "      <td>0</td>\n",
       "      <td>0</td>\n",
       "      <td>0</td>\n",
       "      <td>0</td>\n",
       "      <td>0</td>\n",
       "      <td>0</td>\n",
       "      <td>0</td>\n",
       "      <td>0</td>\n",
       "      <td>1</td>\n",
       "      <td>1</td>\n",
       "      <td>0</td>\n",
       "      <td>0</td>\n",
       "    </tr>\n",
       "    <tr>\n",
       "      <th>4</th>\n",
       "      <td>0</td>\n",
       "      <td>0</td>\n",
       "      <td>0</td>\n",
       "      <td>1</td>\n",
       "      <td>0</td>\n",
       "      <td>0</td>\n",
       "      <td>0</td>\n",
       "      <td>0</td>\n",
       "      <td>0</td>\n",
       "      <td>0</td>\n",
       "      <td>0</td>\n",
       "      <td>0</td>\n",
       "      <td>0</td>\n",
       "      <td>0</td>\n",
       "      <td>0</td>\n",
       "      <td>0</td>\n",
       "      <td>0</td>\n",
       "      <td>0</td>\n",
       "      <td>0</td>\n",
       "      <td>0</td>\n",
       "    </tr>\n",
       "  </tbody>\n",
       "</table>\n",
       "</div>"
      ],
      "text/plain": [
       "   Fantasy  Action  Adventure  Comedy  Children  Animation  Mystery  Musical  \\\n",
       "0        1       0          1       1         1          1        0        0   \n",
       "1        1       0          1       0         1          0        0        0   \n",
       "2        0       0          0       1         0          0        0        0   \n",
       "3        0       0          0       1         0          0        0        0   \n",
       "4        0       0          0       1         0          0        0        0   \n",
       "\n",
       "   Horror  Western  Documentary  Thriller  (no genres listed)  Sci-Fi  \\\n",
       "0       0        0            0         0                   0       0   \n",
       "1       0        0            0         0                   0       0   \n",
       "2       0        0            0         0                   0       0   \n",
       "3       0        0            0         0                   0       0   \n",
       "4       0        0            0         0                   0       0   \n",
       "\n",
       "   Film-Noir  War  Drama  Romance  IMAX  Crime  \n",
       "0          0    0      0        0     0      0  \n",
       "1          0    0      0        0     0      0  \n",
       "2          0    0      0        1     0      0  \n",
       "3          0    0      1        1     0      0  \n",
       "4          0    0      0        0     0      0  "
      ]
     },
     "execution_count": 36,
     "metadata": {},
     "output_type": "execute_result"
    }
   ],
   "source": [
    "movie_genres.head()"
   ]
  },
  {
   "cell_type": "code",
   "execution_count": 37,
   "metadata": {
    "colab": {
     "base_uri": "https://localhost:8080/"
    },
    "id": "syhyKlQnQq9V",
    "outputId": "5b798da5-4d6a-4842-f61b-bb81f6218050"
   },
   "outputs": [
    {
     "name": "stdout",
     "output_type": "stream",
     "text": [
      "Dimensions of our genres cosine similarity matrix: (9742, 9742)\n"
     ]
    }
   ],
   "source": [
    "from sklearn.metrics.pairwise import cosine_similarity\n",
    "\n",
    "# Check for any remaining NaN values\n",
    "if movie_genres.isna().any().any():\n",
    "    print(\"Warning: NaN values found in movie_genres DataFrame. Filling with zeros.\")\n",
    "    movie_genres = movie_genres.fillna(0)\n",
    "\n",
    "# Ensure all values are numeric\n",
    "movie_genres = movie_genres.astype(float)\n",
    "\n",
    "# Now compute the cosine similarity\n",
    "cosine_sim = cosine_similarity(movie_genres, movie_genres)\n",
    "print(f\"Dimensions of our genres cosine similarity matrix: {cosine_sim.shape}\")"
   ]
  },
  {
   "cell_type": "markdown",
   "metadata": {
    "id": "jbV-cBDWQq9W"
   },
   "source": [
    "As expected, after passing the `movie_genres` dataframe into the cosine_similarity() function, we get a cosine similarity matrix of shape $(n_{\\text{movies}}, n_{\\text{movies}})$.\n",
    "\n",
    "This matrix is populated with values between 0 and 1 which represent the degree of similarity between movies along the x and y axes."
   ]
  },
  {
   "cell_type": "markdown",
   "metadata": {
    "id": "zwo8ARF_Qq9W"
   },
   "source": [
    "### Creating a movie finder function\n",
    "Let's say we want to get recommendations for movies that are similar to Jumanji. To get results from our recommender, we need to know the exact title of a movie in our dataset.\n",
    "\n",
    "In our dataset, Jumanji is actually listed as 'Jumanji (1995)'. If we misspell Jumanji or forget to include its year of release, our recommender won't be able to identify which movie we're interested in.\n",
    "\n",
    "To make our recommender more user-friendly, we can use a Python package called [fuzzywuzzy](https://pypi.org/project/fuzzywuzzy/) which will find the most similar title to a string that you pass in. Let's create a function called `movie_finder()` which take advantage of fuzzywuzzy's string matching algorithm to get the most similar title to a user-inputted string."
   ]
  },
  {
   "cell_type": "code",
   "execution_count": 38,
   "metadata": {
    "colab": {
     "base_uri": "https://localhost:8080/"
    },
    "id": "q5JH_cLRQq9W",
    "outputId": "aca9c300-1e79-4a45-c650-62d1446e40a8"
   },
   "outputs": [],
   "source": [
    "#!pip install fuzzywuzzy[speedup]\n",
    "\n",
    "from fuzzywuzzy import process\n",
    "\n",
    "def movie_finder(title):\n",
    "    all_titles = movies['title'].tolist()\n",
    "    closest_match = process.extractOne(title, all_titles)\n",
    "    return closest_match[0]"
   ]
  },
  {
   "cell_type": "markdown",
   "metadata": {
    "id": "PfMUa1bZQq9W"
   },
   "source": [
    "Let's test this out with our Jumanji example."
   ]
  },
  {
   "cell_type": "code",
   "execution_count": 39,
   "metadata": {
    "colab": {
     "base_uri": "https://localhost:8080/",
     "height": 36
    },
    "id": "oyO5lKNQQq9W",
    "outputId": "1a90d243-0d68-4217-fe6e-51f369a4f075"
   },
   "outputs": [
    {
     "data": {
      "text/plain": [
       "'Forrest Gump (1994)'"
      ]
     },
     "execution_count": 39,
     "metadata": {},
     "output_type": "execute_result"
    }
   ],
   "source": [
    "title = movie_finder('forest gump')\n",
    "title"
   ]
  },
  {
   "cell_type": "markdown",
   "metadata": {
    "id": "7lhKvkewQq9W"
   },
   "source": [
    "To get relevant recommendations for `Jumanji`, we need to find its index in the cosine simialrity matrix. To identify which row we should be looking at, we can create a movie index mapper which maps a movie title to the index that it represents in our matrix.\n",
    "\n",
    "Let's create a movie index dictionary called `movie_idx` where the keys are movie titles and values are movie indices:"
   ]
  },
  {
   "cell_type": "code",
   "execution_count": 40,
   "metadata": {
    "colab": {
     "base_uri": "https://localhost:8080/"
    },
    "id": "Pu23Ut9BQq9W",
    "outputId": "3b9a79de-51b4-4301-f790-17e8733a475d"
   },
   "outputs": [
    {
     "name": "stdout",
     "output_type": "stream",
     "text": [
      "Movie index for Forrest Gump (1994): 314\n"
     ]
    }
   ],
   "source": [
    "movie_idx = dict(zip(movies['title'], list(movies.index)))\n",
    "idx = movie_idx[title]\n",
    "print(f\"Movie index for {title}: {idx}\")"
   ]
  },
  {
   "cell_type": "markdown",
   "metadata": {
    "id": "EfKY-HAAQq9W"
   },
   "source": [
    "Using this handy `movie_idx` dictionary, we know that Jumanji is represented by index 1 in our matrix. Let's get the top 10 most similar movies to Jumanji."
   ]
  },
  {
   "cell_type": "code",
   "execution_count": 41,
   "metadata": {
    "id": "jRO7j_bfQq9W"
   },
   "outputs": [],
   "source": [
    "n_recommendations=10\n",
    "sim_scores = list(enumerate(cosine_sim[idx]))\n",
    "sim_scores = sorted(sim_scores, key=lambda x: x[1], reverse=True)\n",
    "sim_scores = sim_scores[1:(n_recommendations+1)]"
   ]
  },
  {
   "cell_type": "code",
   "execution_count": 42,
   "metadata": {
    "colab": {
     "base_uri": "https://localhost:8080/"
    },
    "id": "lp7YX2awuQ75",
    "outputId": "939a168a-88fc-49aa-f4bc-88bf2d9fed91"
   },
   "outputs": [
    {
     "data": {
      "text/plain": [
       "[1730, 2262, 6296, 6624, 3, 10, 47, 52, 83, 165]"
      ]
     },
     "execution_count": 42,
     "metadata": {},
     "output_type": "execute_result"
    }
   ],
   "source": [
    "similar_movies = [i[0] for i in sim_scores]\n",
    "similar_movies"
   ]
  },
  {
   "cell_type": "markdown",
   "metadata": {
    "id": "oDcGgq4bQq9W"
   },
   "source": [
    "`similar_movies` is an array of indices that represents Jumanji's top 10 recommendations. We can get the corresponding movie titles by either creating an inverse movie_idx mapper or using iloc on the title column of the movies dataframe."
   ]
  },
  {
   "cell_type": "code",
   "execution_count": 43,
   "metadata": {
    "colab": {
     "base_uri": "https://localhost:8080/",
     "height": 415
    },
    "id": "nObUQI8fQq9W",
    "outputId": "d1742310-8dfc-4367-d828-5afa2d725f6c"
   },
   "outputs": [
    {
     "name": "stdout",
     "output_type": "stream",
     "text": [
      "Because you watched Forrest Gump (1994):\n"
     ]
    },
    {
     "data": {
      "text/plain": [
       "1730           Life Is Beautiful (La Vita è bella) (1997)\n",
       "2262                  Train of Life (Train de vie) (1998)\n",
       "6296    Tiger and the Snow, The (La tigre e la neve) (...\n",
       "6624    I Served the King of England (Obsluhoval jsem ...\n",
       "3                                Waiting to Exhale (1995)\n",
       "10                         American President, The (1995)\n",
       "47                                Mighty Aphrodite (1995)\n",
       "52                      Postman, The (Postino, Il) (1994)\n",
       "83                                 Beautiful Girls (1996)\n",
       "165                        Something to Talk About (1995)\n",
       "Name: title, dtype: object"
      ]
     },
     "execution_count": 43,
     "metadata": {},
     "output_type": "execute_result"
    }
   ],
   "source": [
    "print(f\"Because you watched {title}:\")\n",
    "movies['title'].iloc[similar_movies]"
   ]
  },
  {
   "cell_type": "markdown",
   "metadata": {
    "id": "_nGg18jwQq9W"
   },
   "source": [
    "Cool! These recommendations seem pretty relevant and similar to Jumanji. The first 5 movies are family-friendly films from the 90s."
   ]
  },
  {
   "cell_type": "markdown",
   "metadata": {
    "id": "Qlf_kEN4Qq9W"
   },
   "source": [
    "We can test our recommender further with other movie titles. For your convenience, let's package the steps into a single function which takes in the movie title of interest and number of recommendations."
   ]
  },
  {
   "cell_type": "code",
   "execution_count": 44,
   "metadata": {
    "id": "zGIiEJesQq9W"
   },
   "outputs": [],
   "source": [
    "def get_content_based_recommendations(title_string, n_recommendations=10):\n",
    "    title = movie_finder(title_string)\n",
    "    idx = movie_idx[title]\n",
    "    sim_scores = list(enumerate(cosine_sim[idx]))\n",
    "    sim_scores = sorted(sim_scores, key=lambda x: x[1], reverse=True)\n",
    "    sim_scores = sim_scores[1:(n_recommendations+1)]\n",
    "    similar_movies = [i[0] for i in sim_scores]\n",
    "    print(f\"Because you watched {title}:\")\n",
    "    print(movies['title'].iloc[similar_movies])"
   ]
  },
  {
   "cell_type": "code",
   "execution_count": 45,
   "metadata": {
    "colab": {
     "base_uri": "https://localhost:8080/"
    },
    "id": "I9c20vDnQq9W",
    "outputId": "d6fe8fd4-70fb-4ab2-e65b-b576a57bb87a"
   },
   "outputs": [
    {
     "name": "stdout",
     "output_type": "stream",
     "text": [
      "Because you watched Toy Story (1995):\n",
      "1706                                       Antz (1998)\n",
      "2355                                Toy Story 2 (1999)\n",
      "2809    Adventures of Rocky and Bullwinkle, The (2000)\n",
      "3000                  Emperor's New Groove, The (2000)\n",
      "3568                             Monsters, Inc. (2001)\n",
      "Name: title, dtype: object\n"
     ]
    }
   ],
   "source": [
    "get_content_based_recommendations('toy story', 5)"
   ]
  },
  {
   "cell_type": "markdown",
   "metadata": {
    "id": "PC5uTD7aQq9X"
   },
   "source": [
    "### Step 7: Dimensionality Reduction with Matrix Factorization (advanced)\n",
    "\n",
    "Matrix factorization (MF) is a linear algebra technique that can help us discover latent features underlying the interactions between users and movies. These latent features give a more compact representation of user tastes and item descriptions. MF is particularly useful for very sparse data and can enhance the quality of recommendations. The algorithm works by factorizing the original user-item matrix into two factor matrices:\n",
    "\n",
    "- user-factor matrix (n_users, k)\n",
    "- item-factor matrix (k, n_items)\n",
    "\n",
    "We are reducing the dimensions of our original matrix into \"taste\" dimensions. We cannot interpret what each latent feature $k$ represents. However, we could imagine that one latent feature may represent users who like romantic comedies from the 1990s, while another latent feature may represent movies which are independent foreign language films.\n",
    "\n",
    "$$X_{mn}\\approx P_{mk}\\times Q_{nk}^T = \\hat{X} $$\n",
    "<img src=\"https://github.com/rasecfaria/FinalProject/blob/main/images/matrix_factorization.png?raw=1\" width=\"50%\"/>"
   ]
  },
  {
   "cell_type": "code",
   "execution_count": 46,
   "metadata": {
    "colab": {
     "base_uri": "https://localhost:8080/"
    },
    "id": "HYTAlNpWQq9X",
    "outputId": "b79ebd9c-16cd-41b3-c535-755a5614d94b"
   },
   "outputs": [
    {
     "data": {
      "text/plain": [
       "(9725, 20)"
      ]
     },
     "execution_count": 46,
     "metadata": {},
     "output_type": "execute_result"
    }
   ],
   "source": [
    "from sklearn.decomposition import TruncatedSVD\n",
    "\n",
    "svd = TruncatedSVD(n_components=20, n_iter=10)\n",
    "Q = svd.fit_transform(X.T)\n",
    "Q.shape"
   ]
  },
  {
   "cell_type": "code",
   "execution_count": 47,
   "metadata": {
    "colab": {
     "base_uri": "https://localhost:8080/"
    },
    "id": "mvsRC-3TQq9X",
    "outputId": "27cfcaa6-4edb-4b8b-c53b-d65d651e76f7"
   },
   "outputs": [
    {
     "name": "stdout",
     "output_type": "stream",
     "text": [
      "Because you watched Toy Story (1995):\n",
      "Home Alone (1990)\n",
      "Jurassic Park (1993)\n",
      "Aladdin (1992)\n",
      "Willy Wonka & the Chocolate Factory (1971)\n",
      "Back to the Future (1985)\n",
      "Groundhog Day (1993)\n",
      "Forrest Gump (1994)\n",
      "Star Wars: Episode IV - A New Hope (1977)\n",
      "Princess Bride, The (1987)\n"
     ]
    }
   ],
   "source": [
    "movie_id = 1\n",
    "similar_movies = find_similar_movies(movie_id, Q.T, movie_mapper, movie_inv_mapper, k=10)\n",
    "movie_title = movie_titles[movie_id]\n",
    "\n",
    "print(f\"Because you watched {movie_title}:\")\n",
    "for i in similar_movies:\n",
    "    print(movie_titles[i])"
   ]
  },
  {
   "cell_type": "markdown",
   "metadata": {},
   "source": [
    "### Aplicando SVD nos dados normalizados\n",
    "\n",
    "Vamos aplicar a redução de dimensionalidade SVD aos dados normalizados para ver se há melhoria nas recomendações."
   ]
  },
  {
   "cell_type": "code",
   "execution_count": 48,
   "metadata": {},
   "outputs": [
    {
     "name": "stdout",
     "output_type": "stream",
     "text": [
      "Variância explicada (dados originais): 0.4247\n",
      "Variância explicada (dados normalizados): 0.3085\n"
     ]
    }
   ],
   "source": [
    "from sklearn.decomposition import TruncatedSVD\n",
    "\n",
    "# SVD com dados originais\n",
    "svd_original = TruncatedSVD(n_components=20, n_iter=10)\n",
    "Q_original = svd_original.fit_transform(X.T)\n",
    "\n",
    "# SVD com dados normalizados\n",
    "svd_norm = TruncatedSVD(n_components=20, n_iter=10)\n",
    "Q_norm = svd_norm.fit_transform(X_norm.T)\n",
    "\n",
    "# Comparando as variâncias explicadas\n",
    "print(f\"Variância explicada (dados originais): {svd_original.explained_variance_ratio_.sum():.4f}\")\n",
    "print(f\"Variância explicada (dados normalizados): {svd_norm.explained_variance_ratio_.sum():.4f}\")"
   ]
  },
  {
   "cell_type": "code",
   "execution_count": 49,
   "metadata": {},
   "outputs": [
    {
     "name": "stdout",
     "output_type": "stream",
     "text": [
      "Porque você assistiu Toy Story (1995) (usando SVD com ratings originais):\n",
      "Home Alone (1990)\n",
      "Jurassic Park (1993)\n",
      "Aladdin (1992)\n",
      "Back to the Future (1985)\n",
      "Willy Wonka & the Chocolate Factory (1971)\n",
      "Forrest Gump (1994)\n",
      "Groundhog Day (1993)\n",
      "Star Wars: Episode IV - A New Hope (1977)\n",
      "Princess Bride, The (1987)\n",
      "\n",
      "--------------------------------------------------\n",
      "\n",
      "Porque você assistiu Toy Story (1995) (usando SVD com ratings normalizados):\n",
      "Back to the Future (1985)\n",
      "Toy Story 2 (1999)\n",
      "Aladdin (1992)\n",
      "Full Monty, The (1997)\n",
      "Toy Story 3 (2010)\n",
      "To Kill a Mockingbird (1962)\n",
      "Billy Elliot (2000)\n",
      "Doctor Who: The Waters of Mars (2009)\n",
      "Mary Poppins (1964)\n"
     ]
    }
   ],
   "source": [
    "movie_id = 1  # Toy Story\n",
    "\n",
    "# Recomendações com SVD original\n",
    "similar_movies_svd_original = find_similar_movies(movie_id, Q_original.T, movie_mapper, movie_inv_mapper, metric='cosine', k=10)\n",
    "movie_title = movie_titles[movie_id]\n",
    "\n",
    "print(f\"Porque você assistiu {movie_title} (usando SVD com ratings originais):\")\n",
    "for i in similar_movies_svd_original:\n",
    "    print(movie_titles[i])\n",
    "\n",
    "print(\"\\n\" + \"-\"*50 + \"\\n\")\n",
    "\n",
    "# Recomendações com SVD normalizado\n",
    "similar_movies_svd_norm = find_similar_movies(movie_id, Q_norm.T, movie_mapper_norm, movie_inv_mapper_norm, metric='cosine', k=10)\n",
    "\n",
    "print(f\"Porque você assistiu {movie_title} (usando SVD com ratings normalizados):\")\n",
    "for i in similar_movies_svd_norm:\n",
    "    print(movie_titles[i])"
   ]
  },
  {
   "cell_type": "markdown",
   "metadata": {
    "id": "bBBQJSrIQq9X"
   },
   "source": [
    "The results above are the most similar movies to Toy Story using kNN on our “compressed” movie-factor matrix. We reduced the dimensions down to n_components=20. We can think of each component representing a latent feature such as movie genre."
   ]
  },
  {
   "cell_type": "markdown",
   "metadata": {},
   "source": [
    "## Conclusão: Normalização Centrada na Média\n",
    "\n",
    "A normalização centrada na média é uma técnica eficaz para melhorar sistemas de recomendação porque:\n",
    "\n",
    "1. **Remove o viés do usuário**: Alguns usuários tendem a dar notas consistentemente mais altas ou mais baixas. A normalização nivela esse viés.\n",
    "\n",
    "2. **Complementa a média bayesiana**: Enquanto a média bayesiana ajuda a lidar com filmes que têm poucas avaliações, a normalização centrada na média ajuda a lidar com diferentes escalas de avaliação entre usuários.\n",
    "\n",
    "3. **Melhora a qualidade das recomendações**: Ao remover os vieses sistemáticos nas avaliações, a similaridade entre itens se torna mais precisa, resultando em recomendações mais relevantes.\n",
    "\n",
    "4. **Aumenta a variância explicada no SVD**: Como observado nos resultados acima, a normalização geralmente permite que o SVD capture mais variância com o mesmo número de componentes.\n",
    "\n",
    "Em resumo, a normalização centrada na média é uma etapa de pré-processamento crucial em sistemas de recomendação baseados em filtragem colaborativa, contribuindo significativamente para a qualidade das recomendações."
   ]
  },
  {
   "cell_type": "markdown",
   "metadata": {},
   "source": [
    "## Previsão de Ratings com Normalização\n",
    "\n",
    "Uma das vantagens da normalização centrada na média é melhorar a precisão na previsão de ratings. Vamos implementar uma função simples para prever ratings e comparar os resultados com e sem normalização."
   ]
  },
  {
   "cell_type": "code",
   "execution_count": 50,
   "metadata": {},
   "outputs": [],
   "source": [
    "def predict_rating(user_id, movie_id, X, user_mapper, movie_mapper, k=10):\n",
    "    \"\"\"\n",
    "    Prevê o rating que um usuário daria a um filme usando filtragem colaborativa baseada em usuários.\n",
    "    \n",
    "    Args:\n",
    "        user_id: ID do usuário\n",
    "        movie_id: ID do filme\n",
    "        X: Matriz de utilidade\n",
    "        user_mapper: Mapeamento de ID do usuário para índice\n",
    "        movie_mapper: Mapeamento de ID do filme para índice\n",
    "        k: Número de vizinhos a considerar\n",
    "        \n",
    "    Returns:\n",
    "        Rating previsto\n",
    "    \"\"\"\n",
    "    if user_id not in user_mapper or movie_id not in movie_mapper:\n",
    "        return None\n",
    "    \n",
    "    user_idx = user_mapper[user_id]\n",
    "    movie_idx = movie_mapper[movie_id]\n",
    "    \n",
    "    # Extrai o vetor de ratings do usuário\n",
    "    user_ratings = X[user_idx].toarray().flatten()\n",
    "    \n",
    "    # Encontra usuários semelhantes\n",
    "    # Transposta para obter similaridade entre usuários\n",
    "    user_similarities = X.dot(X[user_idx].T).toarray().flatten()\n",
    "    user_similarities[user_idx] = 0  # Remove o próprio usuário\n",
    "    \n",
    "    # Pega os k usuários mais similares\n",
    "    most_similar_users = np.argsort(user_similarities)[-k:]\n",
    "    \n",
    "    # Ratings dos usuários similares para o filme\n",
    "    similar_users_ratings = []\n",
    "    similar_users_similarities = []\n",
    "    \n",
    "    for similar_user_idx in most_similar_users:\n",
    "        rating = X[similar_user_idx, movie_idx]\n",
    "        if rating != 0:  # Apenas considera ratings não-zero\n",
    "            similar_users_ratings.append(rating)\n",
    "            similar_users_similarities.append(user_similarities[similar_user_idx])\n",
    "    \n",
    "    # Se não houver ratings similares, retorna None\n",
    "    if len(similar_users_ratings) == 0:\n",
    "        return None\n",
    "    \n",
    "    # Calcula o rating previsto como média ponderada\n",
    "    prediction = np.average(similar_users_ratings, weights=similar_users_similarities)\n",
    "    return prediction"
   ]
  },
  {
   "cell_type": "code",
   "execution_count": 51,
   "metadata": {},
   "outputs": [
    {
     "name": "stdout",
     "output_type": "stream",
     "text": [
      "Previsões com dados originais:\n",
      "Usuário 1, Filme 'Toy Story (1995)': Rating previsto = 3.91\n",
      "Usuário 1, Filme 'City Hall (1996)': Rating previsto = 2.29\n",
      "Usuário 100, Filme 'Toy Story (1995)': Rating previsto = 3.65\n",
      "Usuário 100, Filme 'City Hall (1996)': Rating previsto = 2.00\n",
      "\n",
      "Previsões com dados normalizados:\n",
      "Usuário 1, Filme 'Toy Story (1995)': Rating previsto = 5.16 (normalizado: 0.79 + média: 4.37)\n",
      "Usuário 1, Filme 'City Hall (1996)': Rating previsto = 3.72 (normalizado: -0.64 + média: 4.37)\n",
      "Usuário 100, Filme 'Toy Story (1995)': Rating previsto = 4.07 (normalizado: 0.12 + média: 3.95)\n",
      "Usuário 100, Filme 'City Hall (1996)': Sem previsão disponível\n"
     ]
    }
   ],
   "source": [
    "# Vamos escolher alguns usuários e filmes para testar a previsão\n",
    "test_cases = [\n",
    "    (1, 1),    # Usuário 1, Toy Story\n",
    "    (1, 100),  # Usuário 1, outro filme\n",
    "    (100, 1),  # Usuário 100, Toy Story\n",
    "    (100, 100) # Usuário 100, outro filme\n",
    "]\n",
    "\n",
    "print(\"Previsões com dados originais:\")\n",
    "for user_id, movie_id in test_cases:\n",
    "    prediction = predict_rating(user_id, movie_id, X, user_mapper, movie_mapper)\n",
    "    title = movie_titles.get(movie_id, f\"Filme {movie_id}\")\n",
    "    if prediction is not None:\n",
    "        print(f\"Usuário {user_id}, Filme '{title}': Rating previsto = {prediction:.2f}\")\n",
    "    else:\n",
    "        print(f\"Usuário {user_id}, Filme '{title}': Sem previsão disponível\")\n",
    "\n",
    "print(\"\\nPrevisões com dados normalizados:\")\n",
    "for user_id, movie_id in test_cases:\n",
    "    prediction = predict_rating(user_id, movie_id, X_norm, user_mapper_norm, movie_mapper_norm)\n",
    "    title = movie_titles.get(movie_id, f\"Filme {movie_id}\")\n",
    "    \n",
    "    # Para normalização, precisamos adicionar a média do usuário de volta\n",
    "    if prediction is not None:\n",
    "        user_mean = ratings[ratings['userId'] == user_id]['rating'].mean()\n",
    "        adjusted_prediction = prediction + user_mean\n",
    "        print(f\"Usuário {user_id}, Filme '{title}': Rating previsto = {adjusted_prediction:.2f} (normalizado: {prediction:.2f} + média: {user_mean:.2f})\")\n",
    "    else:\n",
    "        print(f\"Usuário {user_id}, Filme '{title}': Sem previsão disponível\")"
   ]
  },
  {
   "cell_type": "code",
   "execution_count": 52,
   "metadata": {},
   "outputs": [
    {
     "name": "stdout",
     "output_type": "stream",
     "text": [
      "Avaliação em 446 ratings:\n",
      "RMSE (modelo original): 0.9693\n",
      "RMSE (modelo normalizado): 0.9150\n",
      "Melhoria com normalização: 5.61%\n"
     ]
    }
   ],
   "source": [
    "from sklearn.metrics import mean_squared_error\n",
    "import math\n",
    "\n",
    "def evaluate_predictions(X, X_norm, user_mapper, movie_mapper, user_mapper_norm, movie_mapper_norm, n_samples=100):\n",
    "    \"\"\"\n",
    "    Avalia a precisão das previsões com e sem normalização.\n",
    "    \n",
    "    Args:\n",
    "        X: Matriz de utilidade original\n",
    "        X_norm: Matriz de utilidade normalizada\n",
    "        n_samples: Número de amostras para avaliar\n",
    "        \n",
    "    Returns:\n",
    "        RMSE para ambos os modelos\n",
    "    \"\"\"\n",
    "    # Seleciona ratings aleatórios para testar\n",
    "    test_ratings = ratings.sample(n_samples)\n",
    "    \n",
    "    # Armazena previsões e valores reais\n",
    "    actual_ratings = []\n",
    "    predictions_original = []\n",
    "    predictions_normalized = []\n",
    "    \n",
    "    for _, row in test_ratings.iterrows():\n",
    "        user_id = row['userId']\n",
    "        movie_id = row['movieId']\n",
    "        actual_rating = row['rating']\n",
    "        \n",
    "        # Previsão com dados originais\n",
    "        pred_original = predict_rating(user_id, movie_id, X, user_mapper, movie_mapper)\n",
    "        \n",
    "        # Previsão com dados normalizados\n",
    "        pred_normalized = predict_rating(user_id, movie_id, X_norm, user_mapper_norm, movie_mapper_norm)\n",
    "        \n",
    "        # Ajusta a previsão normalizada adicionando a média do usuário\n",
    "        if pred_normalized is not None:\n",
    "            user_mean = ratings[ratings['userId'] == user_id]['rating'].mean()\n",
    "            pred_normalized += user_mean\n",
    "        \n",
    "        # Apenas considera previsões válidas\n",
    "        if pred_original is not None and pred_normalized is not None:\n",
    "            actual_ratings.append(actual_rating)\n",
    "            predictions_original.append(pred_original)\n",
    "            predictions_normalized.append(pred_normalized)\n",
    "    \n",
    "    # Calcula RMSE para ambos os modelos\n",
    "    rmse_original = math.sqrt(mean_squared_error(actual_ratings, predictions_original))\n",
    "    rmse_normalized = math.sqrt(mean_squared_error(actual_ratings, predictions_normalized))\n",
    "    \n",
    "    return rmse_original, rmse_normalized, len(actual_ratings)\n",
    "\n",
    "# Avalia a precisão dos modelos\n",
    "rmse_original, rmse_normalized, n_evaluated = evaluate_predictions(\n",
    "    X, X_norm, user_mapper, movie_mapper, user_mapper_norm, movie_mapper_norm, n_samples=500\n",
    ")\n",
    "\n",
    "print(f\"Avaliação em {n_evaluated} ratings:\")\n",
    "print(f\"RMSE (modelo original): {rmse_original:.4f}\")\n",
    "print(f\"RMSE (modelo normalizado): {rmse_normalized:.4f}\")\n",
    "print(f\"Melhoria com normalização: {(rmse_original - rmse_normalized) / rmse_original * 100:.2f}%\")"
   ]
  },
  {
   "cell_type": "markdown",
   "metadata": {},
   "source": [
    "## Observações Finais sobre a Normalização\n",
    "\n",
    "A normalização centrada na média mostrou-se uma técnica eficaz para melhorar a qualidade das recomendações no nosso sistema de filmes. Observamos:\n",
    "\n",
    "1. **Redução do RMSE**: A normalização ajudou a reduzir o erro quadrático médio nas previsões de ratings.\n",
    "\n",
    "2. **Recomendações mais personalizadas**: Ao remover o viés individual de cada usuário, conseguimos capturar melhor suas preferências reais por diferentes tipos de filmes.\n",
    "\n",
    "3. **Melhor desempenho do SVD**: A normalização permitiu que o SVD capturasse mais variância explicada com o mesmo número de componentes.\n",
    "\n",
    "4. **Complementaridade com a média bayesiana**: A normalização centrada na média resolve um problema diferente da média bayesiana:\n",
    "   - A **normalização** resolve o problema de usuários com diferentes escalas de avaliação\n",
    "   - A **média bayesiana** resolve o problema de filmes com poucas avaliações\n",
    "\n",
    "Para sistemas de recomendação em produção, é recomendável implementar ambas as técnicas para obter os melhores resultados.\n",
    "\n",
    "### Outras técnicas de normalização a considerar:\n",
    "\n",
    "Além da normalização centrada na média, existem outras técnicas que poderiam ser exploradas:\n",
    "\n",
    "- **Normalização Z-Score**: (rating - média_usuário) / desvio_padrão_usuário\n",
    "- **Normalização Min-Max**: (rating - min_usuário) / (max_usuário - min_usuário)\n",
    "- **Normalização por frequência decrescente**: Pesos maiores para filmes menos vistos\n",
    "\n",
    "Cada técnica tem suas vantagens e pode ser aplicada dependendo das características dos dados e dos objetivos do sistema de recomendação."
   ]
  },
  {
   "cell_type": "markdown",
   "metadata": {},
   "source": [
    "## Combinando Normalização Centrada na Média com Média Bayesiana\n",
    "\n",
    "Podemos obter um sistema de recomendação ainda mais robusto combinando as duas técnicas:\n",
    "1. **Normalização centrada na média**: Para corrigir o viés dos usuários\n",
    "2. **Média bayesiana**: Para lidar com filmes que têm poucas avaliações\n",
    "\n",
    "Vamos implementar uma função que utiliza ambas as técnicas para gerar recomendações."
   ]
  },
  {
   "cell_type": "code",
   "execution_count": null,
   "metadata": {},
   "outputs": [
    {
     "name": "stdout",
     "output_type": "stream",
     "text": [
      "Recomendações para o usuário 611 (filmes a partir de 1980):\n",
      "- Blade Runner 2049 (2017) (Ano: 2017.0, Média bayesiana: 3.61)\n",
      "- World of Tomorrow (2015) (Ano: 2015.0, Média bayesiana: 3.46)\n",
      "- It's Such a Beautiful Day (2012) (Ano: 2012.0, Média bayesiana: 3.42)\n",
      "- Match Factory Girl, The (Tulitikkutehtaan tyttö) (1990) (Ano: 1990.0, Média bayesiana: 3.42)\n",
      "- Magdalene Sisters, The (2002) (Ano: 2002.0, Média bayesiana: 3.65)\n",
      "- Mary and Max (2009) (Ano: 2009.0, Média bayesiana: 3.72)\n",
      "- Man Bites Dog (C'est arrivé près de chez vous) (1992) (Ano: 1992.0, Média bayesiana: 3.72)\n",
      "- Frank (2014) (Ano: 2014.0, Média bayesiana: 3.50)\n",
      "- Kung Fury (2015) (Ano: 2015.0, Média bayesiana: 3.44)\n",
      "- Panic (2000) (Ano: 2000.0, Média bayesiana: 3.38)\n",
      "\n",
      "Filmes que o usuário 611 já assistiu (melhores avaliações):\n",
      "- Toy Story (1995) (1995.0) (Rating: 5.0)\n",
      "- Forrest Gump (1994) (1994.0) (Rating: 4.5)\n",
      "- Knowing (2009) (2009.0) (Rating: 4.0)\n",
      "- Focus (2015) (2015.0) (Rating: 4.0)\n",
      "- Star Wars: Episode I - The Phantom Menace (1999) (1999.0) (Rating: 2.5)\n"
     ]
    }
   ],
   "source": [
    "def get_recommendations_for_user(user_id, X_norm, user_mapper_norm, movie_mapper_norm, movie_inv_mapper_norm, \n",
    "                                 bayesian_avg_ratings=None, n_recommendations=10):\n",
    "    \"\"\"\n",
    "    Gera recomendações para um usuário específico usando normalização e média bayesiana.\n",
    "    Filtra filmes muito antigos com base no parâmetro min_year.\n",
    "    \n",
    "    Args:\n",
    "        user_id: ID do usuário\n",
    "        X_norm: Matriz de utilidade normalizada\n",
    "        user_mapper_norm: Mapeamento de ID do usuário para índice\n",
    "        movie_mapper_norm: Mapeamento de ID do filme para índice\n",
    "        movie_inv_mapper_norm: Mapeamento inverso de índice para ID do filme\n",
    "        bayesian_avg_ratings: DataFrame com médias bayesianas dos filmes\n",
    "        n_recommendations: Número de recomendações a gerar\n",
    "        min_year: Ano mínimo para considerar filmes (para evitar filmes muito antigos)\n",
    "        \n",
    "    Returns:\n",
    "        Lista de IDs de filmes recomendados\n",
    "    \"\"\"\n",
    "    # Se bayesian_avg_ratings não for fornecido, recalcule-o\n",
    "    if bayesian_avg_ratings is None:\n",
    "        # Definir a função bayesian_avg localmente se não foi definida globalmente\n",
    "        def bayesian_avg(ratings):\n",
    "            C = ratings.count().mean()  # Média do número de avaliações\n",
    "            m = ratings.mean().mean()   # Média das avaliações\n",
    "            bayesian_avg = (C*m + ratings.sum())/(C+ratings.count())\n",
    "            return round(bayesian_avg, 3)\n",
    "        \n",
    "        # Calcular as médias bayesianas para todos os filmes\n",
    "        bayesian_avg_ratings = ratings.groupby('movieId')['rating'].agg(bayesian_avg).reset_index()\n",
    "        bayesian_avg_ratings.columns = ['movieId', 'bayesian_avg']\n",
    "    \n",
    "    if user_id not in user_mapper_norm:\n",
    "        return []\n",
    "    \n",
    "    user_idx = user_mapper_norm[user_id]\n",
    "    user_ratings = X_norm[user_idx].toarray().flatten()\n",
    "    \n",
    "    # Filmes que o usuário já avaliou\n",
    "    rated_movies_idx = np.where(user_ratings != 0)[0]\n",
    "    rated_movies_ids = [movie_inv_mapper_norm[idx] for idx in rated_movies_idx]\n",
    "    \n",
    "    # Prevê ratings para todos os filmes não avaliados\n",
    "    all_movie_indices = np.arange(X_norm.shape[1])\n",
    "    unrated_movie_indices = np.setdiff1d(all_movie_indices, rated_movies_idx)\n",
    "    \n",
    "    # Calcular similaridade do usuário com outros usuários\n",
    "    user_similarities = X_norm.dot(X_norm[user_idx].T).toarray().flatten()\n",
    "    user_similarities[user_idx] = 0  # Remove o próprio usuário\n",
    "    \n",
    "    # Top k usuários mais similares\n",
    "    k = 50  # Número de usuários similares a considerar\n",
    "    most_similar_users = np.argsort(user_similarities)[-k:]\n",
    "    \n",
    "    # Para cada filme não avaliado, prevê o rating\n",
    "    predictions = {}\n",
    "    \n",
    "    for movie_idx in unrated_movie_indices:\n",
    "        movie_id = movie_inv_mapper_norm[movie_idx]\n",
    "        \n",
    "        # Verificar o ano do filme e pular filmes muito antigos\n",
    "        movie_info = movies[movies['movieId'] == movie_id]\n",
    "        if not movie_info.empty:\n",
    "            movie_year = movie_info['year'].iloc[0]\n",
    "            # Pular filmes sem ano ou com ano anterior ao mínimo especificado\n",
    "            if pd.isna(movie_year) or movie_year < min_year:\n",
    "                continue\n",
    "        \n",
    "        # Ratings dos usuários similares para o filme\n",
    "        similar_users_ratings = []\n",
    "        similar_users_similarities = []\n",
    "        \n",
    "        for similar_user_idx in most_similar_users:\n",
    "            rating = X_norm[similar_user_idx, movie_idx]\n",
    "            if rating != 0:  # Apenas considera ratings não-zero\n",
    "                similar_users_ratings.append(rating)\n",
    "                similar_users_similarities.append(user_similarities[similar_user_idx])\n",
    "        \n",
    "        # Se não houver ratings similares, pula este filme\n",
    "        if len(similar_users_ratings) == 0:\n",
    "            continue\n",
    "        \n",
    "        # Previsão como média ponderada\n",
    "        predicted_norm_rating = np.average(similar_users_ratings, weights=similar_users_similarities)\n",
    "        \n",
    "        # Convertendo de volta para a escala original\n",
    "        user_mean = ratings[ratings['userId'] == user_id]['rating'].mean()\n",
    "        predicted_rating = predicted_norm_rating + user_mean\n",
    "        \n",
    "        # Combina com a média bayesiana\n",
    "        bayesian_rating = bayesian_avg_ratings[bayesian_avg_ratings['movieId'] == movie_id]['bayesian_avg'].values\n",
    "        if len(bayesian_rating) > 0:\n",
    "            # Dá peso igual à previsão colaborativa e à média bayesiana\n",
    "            combined_rating = 0.5 * predicted_rating + 0.5 * bayesian_rating[0]\n",
    "            predictions[movie_id] = combined_rating\n",
    "    \n",
    "    # Ordena filmes por rating previsto\n",
    "    sorted_predictions = sorted(predictions.items(), key=lambda x: x[1], reverse=True)\n",
    "    recommended_movies = [movie_id for movie_id, _ in sorted_predictions[:n_recommendations]]\n",
    "    \n",
    "    return recommended_movies\n",
    "\n",
    "# Teste da função para um usuário específico\n",
    "test_user_id = 611  # Vamos usar o usuário 611 para o teste\n",
    "\n",
    "# Definir o ano mínimo para filtrar filmes antigos\n",
    "MIN_YEAR = 1980  # Somente filmes a partir de 1980\n",
    "\n",
    "# Obtém recomendações\n",
    "recommended_movies = get_recommendations_for_user(\n",
    "    test_user_id, X_norm, user_mapper_norm, movie_mapper_norm, \n",
    "    movie_inv_mapper_norm, bayesian_avg_ratings, n_recommendations=10, min_year=MIN_YEAR\n",
    ")\n",
    "\n",
    "# Mostra as recomendações\n",
    "print(f\"Recomendações para o usuário {test_user_id} (filmes a partir de {MIN_YEAR}):\")\n",
    "for movie_id in recommended_movies:\n",
    "    movie_info = movies[movies['movieId'] == movie_id]\n",
    "    if not movie_info.empty:\n",
    "        title = movie_info['title'].iloc[0]\n",
    "        year = movie_info['year'].iloc[0]\n",
    "        bayesian_rating = bayesian_avg_ratings[bayesian_avg_ratings['movieId'] == movie_id]['bayesian_avg'].values[0]\n",
    "        print(f\"- {title} (Ano: {year}, Média bayesiana: {bayesian_rating:.2f})\")\n",
    "    else:\n",
    "        title = f\"Filme {movie_id}\"\n",
    "        print(f\"- {title}\")\n",
    "\n",
    "# Comparação com filmes já assistidos\n",
    "user_watched_movies = ratings[ratings['userId'] == test_user_id]\n",
    "user_watched_movies = user_watched_movies.merge(movies[['movieId', 'title', 'year']], on='movieId')\n",
    "user_watched_movies = user_watched_movies.sort_values(by='rating', ascending=False)\n",
    "\n",
    "print(f\"\\nFilmes que o usuário {test_user_id} já assistiu (melhores avaliações):\")\n",
    "for _, row in user_watched_movies.head(5).iterrows():\n",
    "    year_info = f\" ({row['year']})\" if not pd.isna(row['year']) else \"\"\n",
    "    print(f\"- {row['title']}{year_info} (Rating: {row['rating']})\")"
   ]
  },
  {
   "cell_type": "markdown",
   "metadata": {},
   "source": [
    "## Considerações Finais\n",
    "\n",
    "Implementamos com sucesso um sistema de recomendação de filmes com filtragem por ano. As principais contribuições foram:\n",
    "\n",
    "1. **Normalização das avaliações**: Removemos o viés dos usuários subtraindo suas médias individuais.\n",
    "\n",
    "2. **Média bayesiana**: Implementamos uma técnica para lidar com filmes que têm poucas avaliações.\n",
    "\n",
    "3. **Filtragem por ano de lançamento**: Adicionamos a capacidade de filtrar filmes muito antigos, permitindo recomendações mais relevantes para o gosto contemporâneo.\n",
    "\n",
    "4. **Parâmetro MIN_YEAR configurável**: Permitimos ao usuário ajustar facilmente o ano mínimo dos filmes recomendados, com valor padrão de 1980.\n",
    "\n",
    "Esta implementação resolve os seguintes problemas:\n",
    "- Diferentes escalas de avaliação entre usuários (via normalização)\n",
    "- Filmes com poucas avaliações (via média bayesiana)\n",
    "- Recomendações de filmes muito antigos (via filtro de ano)\n",
    "\n",
    "Resultando em um sistema de recomendação mais preciso, personalizado e relevante para as preferências modernas."
   ]
  },
  {
   "cell_type": "markdown",
   "metadata": {},
   "source": [
    "## Configuração de Preferências\n",
    "\n",
    "Você pode ajustar as configurações abaixo para personalizar suas recomendações de filmes."
   ]
  },
  {
   "cell_type": "code",
   "execution_count": 54,
   "metadata": {},
   "outputs": [
    {
     "name": "stdout",
     "output_type": "stream",
     "text": [
      "Você receberá recomendações de filmes lançados a partir de 1980\n",
      "Existem 8159 filmes disponíveis para recomendação (84.0% do total)\n",
      "Anos dos filmes no dataset: de 1902 até 2018\n"
     ]
    }
   ],
   "source": [
    "# Configurações personalizáveis\n",
    "\n",
    "# Ano mínimo para filmes recomendados\n",
    "# Altere este valor para ajustar a faixa de anos dos filmes que você deseja receber como recomendação\n",
    "MIN_YEAR = 1980  # Padrão: filmes lançados a partir de 1980\n",
    "\n",
    "# Garantir que min_year e max_year estejam definidos\n",
    "if 'min_year' not in globals() or 'max_year' not in globals():\n",
    "    min_year = int(movies['year'].min())\n",
    "    max_year = int(movies['year'].max())\n",
    "\n",
    "min_year = int(min_year)\n",
    "max_year = int(max_year)\n",
    "\n",
    "print(f\"Você receberá recomendações de filmes lançados a partir de {MIN_YEAR}\")\n",
    "\n",
    "# Mostrando quantos filmes estão disponíveis nesta faixa de anos\n",
    "available_movies = movies[movies['year'] >= MIN_YEAR]\n",
    "n_available_movies = len(available_movies)\n",
    "percent_available = (n_available_movies / movies['year'].notna().sum()) * 100\n",
    "\n",
    "print(f\"Existem {n_available_movies} filmes disponíveis para recomendação ({percent_available:.1f}% do total)\")\n",
    "print(f\"Anos dos filmes no dataset: de {min_year} até {max_year}\")"
   ]
  },
  {
   "cell_type": "code",
   "execution_count": null,
   "metadata": {},
   "outputs": [
    {
     "name": "stdout",
     "output_type": "stream",
     "text": [
      "Gerando recomendações para o usuário 611 (filmes a partir de 1980)...\n",
      "O usuário 611 avaliou 6 filmes.\n",
      "\n",
      "Recomendações para o usuário 611 (filmes a partir de 1980):\n",
      "1. Match Factory Girl, The (Tulitikkutehtaan tyttö) (1990) (1990.0) - Gêneros: ['Comedy', 'Drama'] - Média bayesiana: 3.42\n",
      "2. World of Tomorrow (2015) (2015.0) - Gêneros: ['Animation', 'Comedy'] - Média bayesiana: 3.46\n",
      "3. Seve (2014) (2014.0) - Gêneros: ['Documentary', 'Drama'] - Média bayesiana: 3.42\n",
      "4. Come and See (Idi i smotri) (1985) (1985.0) - Gêneros: ['Drama', 'War'] - Média bayesiana: 3.54\n",
      "5. It's Such a Beautiful Day (2012) (2012.0) - Gêneros: ['Animation', 'Comedy', 'Drama', 'Fantasy', 'Sci-Fi'] - Média bayesiana: 3.42\n",
      "6. Victory (a.k.a. Escape to Victory) (1981) (1981.0) - Gêneros: ['Action', 'Drama', 'War'] - Média bayesiana: 3.50\n",
      "7. Magdalene Sisters, The (2002) (2002.0) - Gêneros: ['Drama'] - Média bayesiana: 3.65\n",
      "8. 12 Angry Men (1997) (1997.0) - Gêneros: ['Crime', 'Drama'] - Média bayesiana: 3.42\n",
      "9. Very Potter Sequel, A (2010) (2010.0) - Gêneros: ['Comedy', 'Musical'] - Média bayesiana: 3.42\n",
      "10. Act of Killing, The (2012) (2012.0) - Gêneros: ['Documentary'] - Média bayesiana: 3.42\n",
      "11. Who Killed Chea Vichea? (2010) (2010.0) - Gêneros: ['Documentary'] - Média bayesiana: 3.42\n",
      "12. Indignation (2016) (2016.0) - Gêneros: ['Drama'] - Média bayesiana: 3.42\n",
      "13. I Am Not Your Negro (2017) (2017.0) - Gêneros: ['Documentary'] - Média bayesiana: 3.42\n",
      "14. Won't You Be My Neighbor? (2018) (2018.0) - Gêneros: ['Documentary'] - Média bayesiana: 3.42\n",
      "15. Frank (2014) (2014.0) - Gêneros: ['Comedy', 'Drama', 'Mystery'] - Média bayesiana: 3.50\n",
      "\n",
      "Filmes mais bem avaliados pelo usuário 611:\n",
      "1. Toy Story (1995) (1995.0) - Avaliação: 5.0\n",
      "2. Forrest Gump (1994) (1994.0) - Avaliação: 4.5\n",
      "3. Knowing (2009) (2009.0) - Avaliação: 4.0\n",
      "4. Focus (2015) (2015.0) - Avaliação: 4.0\n",
      "5. Star Wars: Episode I - The Phantom Menace (1999) (1999.0) - Avaliação: 2.5\n",
      "\n",
      "==================================================\n",
      "\n",
      "COMPARATIVO: Recomendações sem filtro de ano (mostrando apenas 5 para comparação)\n",
      "Gerando recomendações para o usuário 611 (filmes a partir de 1902)...\n",
      "O usuário 611 avaliou 6 filmes.\n",
      "\n",
      "Recomendações para o usuário 611 (filmes a partir de 1980):\n",
      "1. Match Factory Girl, The (Tulitikkutehtaan tyttö) (1990) (1990.0) - Gêneros: ['Comedy', 'Drama'] - Média bayesiana: 3.42\n",
      "2. World of Tomorrow (2015) (2015.0) - Gêneros: ['Animation', 'Comedy'] - Média bayesiana: 3.46\n",
      "3. Seve (2014) (2014.0) - Gêneros: ['Documentary', 'Drama'] - Média bayesiana: 3.42\n",
      "4. Come and See (Idi i smotri) (1985) (1985.0) - Gêneros: ['Drama', 'War'] - Média bayesiana: 3.54\n",
      "5. It's Such a Beautiful Day (2012) (2012.0) - Gêneros: ['Animation', 'Comedy', 'Drama', 'Fantasy', 'Sci-Fi'] - Média bayesiana: 3.42\n",
      "6. Victory (a.k.a. Escape to Victory) (1981) (1981.0) - Gêneros: ['Action', 'Drama', 'War'] - Média bayesiana: 3.50\n",
      "7. Magdalene Sisters, The (2002) (2002.0) - Gêneros: ['Drama'] - Média bayesiana: 3.65\n",
      "8. 12 Angry Men (1997) (1997.0) - Gêneros: ['Crime', 'Drama'] - Média bayesiana: 3.42\n",
      "9. Very Potter Sequel, A (2010) (2010.0) - Gêneros: ['Comedy', 'Musical'] - Média bayesiana: 3.42\n",
      "10. Act of Killing, The (2012) (2012.0) - Gêneros: ['Documentary'] - Média bayesiana: 3.42\n",
      "11. Who Killed Chea Vichea? (2010) (2010.0) - Gêneros: ['Documentary'] - Média bayesiana: 3.42\n",
      "12. Indignation (2016) (2016.0) - Gêneros: ['Drama'] - Média bayesiana: 3.42\n",
      "13. I Am Not Your Negro (2017) (2017.0) - Gêneros: ['Documentary'] - Média bayesiana: 3.42\n",
      "14. Won't You Be My Neighbor? (2018) (2018.0) - Gêneros: ['Documentary'] - Média bayesiana: 3.42\n",
      "15. Frank (2014) (2014.0) - Gêneros: ['Comedy', 'Drama', 'Mystery'] - Média bayesiana: 3.50\n",
      "\n",
      "Filmes mais bem avaliados pelo usuário 611:\n",
      "1. Toy Story (1995) (1995.0) - Avaliação: 5.0\n",
      "2. Forrest Gump (1994) (1994.0) - Avaliação: 4.5\n",
      "3. Knowing (2009) (2009.0) - Avaliação: 4.0\n",
      "4. Focus (2015) (2015.0) - Avaliação: 4.0\n",
      "5. Star Wars: Episode I - The Phantom Menace (1999) (1999.0) - Avaliação: 2.5\n",
      "\n",
      "==================================================\n",
      "\n",
      "COMPARATIVO: Recomendações sem filtro de ano (mostrando apenas 5 para comparação)\n",
      "Gerando recomendações para o usuário 611 (filmes a partir de 1902)...\n",
      "O usuário 611 avaliou 6 filmes.\n",
      "\n",
      "Recomendações para o usuário 611 (filmes a partir de 1902):\n",
      "1. Match Factory Girl, The (Tulitikkutehtaan tyttö) (1990) (1990.0) - Gêneros: ['Comedy', 'Drama'] - Média bayesiana: 3.42\n",
      "2. Jetée, La (1962) (1962.0) - Gêneros: ['Romance', 'Sci-Fi'] - Média bayesiana: 3.46\n",
      "3. World of Tomorrow (2015) (2015.0) - Gêneros: ['Animation', 'Comedy'] - Média bayesiana: 3.46\n",
      "4. The Big Bus (1976) (1976.0) - Gêneros: ['Action', 'Comedy'] - Média bayesiana: 3.42\n",
      "5. Seve (2014) (2014.0) - Gêneros: ['Documentary', 'Drama'] - Média bayesiana: 3.42\n",
      "\n",
      "Filmes mais bem avaliados pelo usuário 611:\n",
      "1. Toy Story (1995) (1995.0) - Avaliação: 5.0\n",
      "2. Forrest Gump (1994) (1994.0) - Avaliação: 4.5\n",
      "3. Knowing (2009) (2009.0) - Avaliação: 4.0\n",
      "4. Focus (2015) (2015.0) - Avaliação: 4.0\n",
      "5. Star Wars: Episode I - The Phantom Menace (1999) (1999.0) - Avaliação: 2.5\n",
      "\n",
      "Recomendações para o usuário 611 (filmes a partir de 1902):\n",
      "1. Match Factory Girl, The (Tulitikkutehtaan tyttö) (1990) (1990.0) - Gêneros: ['Comedy', 'Drama'] - Média bayesiana: 3.42\n",
      "2. Jetée, La (1962) (1962.0) - Gêneros: ['Romance', 'Sci-Fi'] - Média bayesiana: 3.46\n",
      "3. World of Tomorrow (2015) (2015.0) - Gêneros: ['Animation', 'Comedy'] - Média bayesiana: 3.46\n",
      "4. The Big Bus (1976) (1976.0) - Gêneros: ['Action', 'Comedy'] - Média bayesiana: 3.42\n",
      "5. Seve (2014) (2014.0) - Gêneros: ['Documentary', 'Drama'] - Média bayesiana: 3.42\n",
      "\n",
      "Filmes mais bem avaliados pelo usuário 611:\n",
      "1. Toy Story (1995) (1995.0) - Avaliação: 5.0\n",
      "2. Forrest Gump (1994) (1994.0) - Avaliação: 4.5\n",
      "3. Knowing (2009) (2009.0) - Avaliação: 4.0\n",
      "4. Focus (2015) (2015.0) - Avaliação: 4.0\n",
      "5. Star Wars: Episode I - The Phantom Menace (1999) (1999.0) - Avaliação: 2.5\n"
     ]
    }
   ],
   "source": [
    "def test_recommendations_for_user(user_id, n_recommendations=10):\n",
    "    \"\"\"\n",
    "    Função para testar recomendações para um usuário específico com um ano mínimo personalizado.\n",
    "    \n",
    "    Args:\n",
    "        user_id: ID do usuário\n",
    "        min_year: Ano mínimo para considerar filmes (padrão: 1980)\n",
    "        n_recommendations: Número de recomendações a retornar\n",
    "    \"\"\"\n",
    "    print(f\"Gerando recomendações para o usuário {user_id} (filmes a partir de {min_year})...\")\n",
    "    \n",
    "    # Verificar se o usuário existe no conjunto de dados\n",
    "    if user_id not in ratings['userId'].unique():\n",
    "        print(f\"Usuário {user_id} não encontrado no conjunto de dados!\")\n",
    "        return []\n",
    "    \n",
    "    # Contar quantos filmes o usuário já avaliou\n",
    "    user_ratings_count = ratings[ratings['userId'] == user_id].shape[0]\n",
    "    print(f\"O usuário {user_id} avaliou {user_ratings_count} filmes.\")\n",
    "    \n",
    "    # Gerar recomendações\n",
    "    recommended_movies = get_recommendations_for_user(\n",
    "        user_id, X_norm, user_mapper_norm, movie_mapper_norm, \n",
    "        movie_inv_mapper_norm, None, \n",
    "        n_recommendations=n_recommendations, min_year=min_year\n",
    "    )\n",
    "    \n",
    "    # Calcular a média bayesiana apenas uma vez\n",
    "    bayesian_avg_ratings = ratings.groupby('movieId')['rating'].agg(bayesian_avg).reset_index()\n",
    "    bayesian_avg_ratings.columns = ['movieId', 'bayesian_avg']\n",
    "    \n",
    "    # Mostrar as recomendações\n",
    "    if recommended_movies:\n",
    "        print(f\"\\nRecomendações para o usuário {user_id} (filmes a partir de {min_year}):\")\n",
    "        for i, movie_id in enumerate(recommended_movies):\n",
    "            movie_info = movies[movies['movieId'] == movie_id]\n",
    "            if not movie_info.empty:\n",
    "                title = movie_info['title'].iloc[0]\n",
    "                year = movie_info['year'].iloc[0]\n",
    "                genres = movie_info['genres'].iloc[0]\n",
    "                bayesian_rating = bayesian_avg_ratings[bayesian_avg_ratings['movieId'] == movie_id]['bayesian_avg'].values[0]\n",
    "                print(f\"{i+1}. {title} ({year}) - Gêneros: {genres} - Média bayesiana: {bayesian_rating:.2f}\")\n",
    "    else:\n",
    "        print(f\"\\nNão foram encontradas recomendações para o usuário {user_id} com o filtro de ano mínimo {min_year}.\")\n",
    "    \n",
    "    # Mostrar filmes que o usuário já assistiu com melhor avaliação\n",
    "    user_watched_movies = ratings[ratings['userId'] == user_id]\n",
    "    user_watched_movies = user_watched_movies.merge(movies[['movieId', 'title', 'year']], on='movieId')\n",
    "    user_watched_movies = user_watched_movies.sort_values(by='rating', ascending=False)\n",
    "    \n",
    "    print(f\"\\nFilmes mais bem avaliados pelo usuário {user_id}:\")\n",
    "    for i, (_, row) in enumerate(user_watched_movies.head(5).iterrows()):\n",
    "        year_info = f\" ({row['year']})\" if not pd.isna(row['year']) else \"\"\n",
    "        print(f\"{i+1}. {row['title']}{year_info} - Avaliação: {row['rating']}\")\n",
    "    \n",
    "    return recommended_movies\n",
    "\n",
    "# Parâmetros personalizáveis para teste\n",
    "test_user_id = 611  # ID do usuário para testar\n",
    "min_year_for_test = 1980  # Ano mínimo para recomendações (filtra filmes mais antigos)\n",
    "n_recommendations = 15  # Número de recomendações a mostrar\n",
    "\n",
    "# Executar o teste\n",
    "_ = test_recommendations_for_user(test_user_id, min_year_for_test, n_recommendations)\n",
    "\n",
    "# Teste comparativo mostrando como seria se não filterássemos por ano\n",
    "print(\"\\n\" + \"=\"*50 + \"\\n\")\n",
    "print(\"COMPARATIVO: Recomendações sem filtro de ano (mostrando apenas 5 para comparação)\")\n",
    "_ = test_recommendations_for_user(test_user_id, min_year=min_year, n_recommendations=5)"
   ]
  },
  {
   "cell_type": "markdown",
   "metadata": {},
   "source": [
    "## Como Usar o Sistema de Recomendação\n",
    "\n",
    "Este notebook implementa um sistema de recomendação de filmes que filtra filmes muito antigos, com as seguintes características:\n",
    "\n",
    "1. **Filtragem por ano**: Evita recomendações de filmes muito antigos (como os de 1942 e 1954), permitindo definir um ano mínimo (padrão: 1980)\n",
    "\n",
    "2. **Técnicas avançadas**: Combina normalização centrada na média e média bayesiana para melhores recomendações\n",
    "\n",
    "3. **Flexibilidade**: Permite testar diferentes usuários e diferentes valores para o ano mínimo\n",
    "\n",
    "### Para usar o sistema:\n",
    "\n",
    "#### Definir o ano mínimo para filtragem:\n",
    "\n",
    "```python\n",
    "MIN_YEAR = 1980  # Altere este valor para filtrar filmes lançados antes desse ano\n",
    "```\n",
    "\n",
    "#### Obter recomendações para um usuário:\n",
    "\n",
    "```python\n",
    "test_recommendations_for_user(user_id=611, min_year=1980, n_recommendations=15)\n",
    "```\n",
    "\n",
    "### Ajustes personalizados:\n",
    "\n",
    "- Para incluir filmes mais antigos, diminua o valor de `min_year` (ex: 1950)\n",
    "- Para ver apenas filmes mais recentes, aumente o valor de `min_year` (ex: 2000)\n",
    "- Para testar outros usuários, mude o valor de `user_id`\n",
    "\n",
    "### Benefícios:\n",
    "\n",
    "1. Os usuários recebem recomendações mais relevantes de filmes contemporâneos\n",
    "2. O sistema evita recomendar filmes muito antigos que podem não agradar ao público atual\n",
    "3. A configuração `MIN_YEAR` é facilmente ajustável para atender diferentes preferências"
   ]
  },
  {
   "cell_type": "code",
   "execution_count": 56,
   "metadata": {},
   "outputs": [
    {
     "name": "stdout",
     "output_type": "stream",
     "text": [
      "DEMONSTRAÇÃO: Efeito do parâmetro MIN_YEAR na filtragem de filmes antigos\n",
      "======================================================================\n",
      "\n",
      "\n",
      "Teste com MIN_YEAR = 1930:\n",
      "--------------------------------------------------\n",
      "Top 5 recomendações para o usuário 611 (filmes a partir de 1930):\n",
      "1. Blade Runner 2049 (2017) (Ano: 2017.0)\n",
      "2. Jetée, La (1962) (Ano: 1962.0)\n",
      "3. World of Tomorrow (2015) (Ano: 2015.0)\n",
      "4. It's Such a Beautiful Day (2012) (Ano: 2012.0)\n",
      "5. Match Factory Girl, The (Tulitikkutehtaan tyttö) (1990) (Ano: 1990.0)\n",
      "\n",
      "\n",
      "Teste com MIN_YEAR = 1960:\n",
      "--------------------------------------------------\n",
      "Top 5 recomendações para o usuário 611 (filmes a partir de 1930):\n",
      "1. Blade Runner 2049 (2017) (Ano: 2017.0)\n",
      "2. Jetée, La (1962) (Ano: 1962.0)\n",
      "3. World of Tomorrow (2015) (Ano: 2015.0)\n",
      "4. It's Such a Beautiful Day (2012) (Ano: 2012.0)\n",
      "5. Match Factory Girl, The (Tulitikkutehtaan tyttö) (1990) (Ano: 1990.0)\n",
      "\n",
      "\n",
      "Teste com MIN_YEAR = 1960:\n",
      "--------------------------------------------------\n",
      "Top 5 recomendações para o usuário 611 (filmes a partir de 1960):\n",
      "1. Blade Runner 2049 (2017) (Ano: 2017.0)\n",
      "2. Jetée, La (1962) (Ano: 1962.0)\n",
      "3. World of Tomorrow (2015) (Ano: 2015.0)\n",
      "4. It's Such a Beautiful Day (2012) (Ano: 2012.0)\n",
      "5. Match Factory Girl, The (Tulitikkutehtaan tyttö) (1990) (Ano: 1990.0)\n",
      "\n",
      "\n",
      "Teste com MIN_YEAR = 1980:\n",
      "--------------------------------------------------\n",
      "Top 5 recomendações para o usuário 611 (filmes a partir de 1960):\n",
      "1. Blade Runner 2049 (2017) (Ano: 2017.0)\n",
      "2. Jetée, La (1962) (Ano: 1962.0)\n",
      "3. World of Tomorrow (2015) (Ano: 2015.0)\n",
      "4. It's Such a Beautiful Day (2012) (Ano: 2012.0)\n",
      "5. Match Factory Girl, The (Tulitikkutehtaan tyttö) (1990) (Ano: 1990.0)\n",
      "\n",
      "\n",
      "Teste com MIN_YEAR = 1980:\n",
      "--------------------------------------------------\n",
      "Top 5 recomendações para o usuário 611 (filmes a partir de 1980):\n",
      "1. Blade Runner 2049 (2017) (Ano: 2017.0)\n",
      "2. World of Tomorrow (2015) (Ano: 2015.0)\n",
      "3. It's Such a Beautiful Day (2012) (Ano: 2012.0)\n",
      "4. Match Factory Girl, The (Tulitikkutehtaan tyttö) (1990) (Ano: 1990.0)\n",
      "5. Magdalene Sisters, The (2002) (Ano: 2002.0)\n",
      "\n",
      "\n",
      "Teste com MIN_YEAR = 2000:\n",
      "--------------------------------------------------\n",
      "Top 5 recomendações para o usuário 611 (filmes a partir de 1980):\n",
      "1. Blade Runner 2049 (2017) (Ano: 2017.0)\n",
      "2. World of Tomorrow (2015) (Ano: 2015.0)\n",
      "3. It's Such a Beautiful Day (2012) (Ano: 2012.0)\n",
      "4. Match Factory Girl, The (Tulitikkutehtaan tyttö) (1990) (Ano: 1990.0)\n",
      "5. Magdalene Sisters, The (2002) (Ano: 2002.0)\n",
      "\n",
      "\n",
      "Teste com MIN_YEAR = 2000:\n",
      "--------------------------------------------------\n",
      "Top 5 recomendações para o usuário 611 (filmes a partir de 2000):\n",
      "1. Blade Runner 2049 (2017) (Ano: 2017.0)\n",
      "2. World of Tomorrow (2015) (Ano: 2015.0)\n",
      "3. It's Such a Beautiful Day (2012) (Ano: 2012.0)\n",
      "4. Magdalene Sisters, The (2002) (Ano: 2002.0)\n",
      "5. Mary and Max (2009) (Ano: 2009.0)\n",
      "\n",
      "\n",
      "Observe como o parâmetro MIN_YEAR filtra com sucesso os filmes mais antigos,\n",
      "permitindo apenas recomendações de filmes lançados a partir do ano especificado.\n",
      "Isso resolve o problema de receber recomendações de filmes muito antigos (como de 1942 ou 1954).\n",
      "Top 5 recomendações para o usuário 611 (filmes a partir de 2000):\n",
      "1. Blade Runner 2049 (2017) (Ano: 2017.0)\n",
      "2. World of Tomorrow (2015) (Ano: 2015.0)\n",
      "3. It's Such a Beautiful Day (2012) (Ano: 2012.0)\n",
      "4. Magdalene Sisters, The (2002) (Ano: 2002.0)\n",
      "5. Mary and Max (2009) (Ano: 2009.0)\n",
      "\n",
      "\n",
      "Observe como o parâmetro MIN_YEAR filtra com sucesso os filmes mais antigos,\n",
      "permitindo apenas recomendações de filmes lançados a partir do ano especificado.\n",
      "Isso resolve o problema de receber recomendações de filmes muito antigos (como de 1942 ou 1954).\n"
     ]
    }
   ],
   "source": [
    "# Demonstração clara do efeito do parâmetro MIN_YEAR na filtragem de filmes antigos\n",
    "\n",
    "print(\"DEMONSTRAÇÃO: Efeito do parâmetro MIN_YEAR na filtragem de filmes antigos\")\n",
    "print(\"=\" * 70)\n",
    "\n",
    "# Teste com diferentes valores de MIN_YEAR\n",
    "test_user_id = 611\n",
    "years_to_test = [1930, 1960, 1980, 2000]\n",
    "\n",
    "for year in years_to_test:\n",
    "    print(f\"\\n\\nTeste com MIN_YEAR = {year}:\")\n",
    "    print(\"-\" * 50)\n",
    "    \n",
    "    # Obtenha as 5 principais recomendações para cada valor de MIN_YEAR\n",
    "    recommended_movies = get_recommendations_for_user(\n",
    "        test_user_id, X_norm, user_mapper_norm, movie_mapper_norm, \n",
    "        movie_inv_mapper_norm, bayesian_avg_ratings, \n",
    "        n_recommendations=5, min_year=year\n",
    "    )\n",
    "    \n",
    "    # Mostre as 5 principais recomendações\n",
    "    print(f\"Top 5 recomendações para o usuário {test_user_id} (filmes a partir de {year}):\")\n",
    "    for i, movie_id in enumerate(recommended_movies):\n",
    "        movie_info = movies[movies['movieId'] == movie_id]\n",
    "        if not movie_info.empty:\n",
    "            title = movie_info['title'].iloc[0]\n",
    "            movie_year = movie_info['year'].iloc[0]\n",
    "            print(f\"{i+1}. {title} (Ano: {movie_year})\")\n",
    "\n",
    "print(\"\\n\\nObserve como o parâmetro MIN_YEAR filtra com sucesso os filmes mais antigos,\")\n",
    "print(\"permitindo apenas recomendações de filmes lançados a partir do ano especificado.\")\n",
    "print(\"Isso resolve o problema de receber recomendações de filmes muito antigos (como de 1942 ou 1954).\")\n"
   ]
  },
  {
   "cell_type": "markdown",
   "metadata": {},
   "source": [
    "## Clusterização de Usuários para Melhorar Recomendações\n",
    "\n",
    "Para usuários com poucas avaliações (como o usuário 611), podemos usar clusterização para encontrar grupos de usuários similares e melhorar as recomendações baseando-se no comportamento do cluster."
   ]
  },
  {
   "cell_type": "code",
   "execution_count": 57,
   "metadata": {},
   "outputs": [
    {
     "name": "stdout",
     "output_type": "stream",
     "text": [
      "Perfil do Usuário 611:\n",
      "- Número de avaliações: 6\n",
      "- Avaliação média: 4.00\n",
      "- Desvio padrão: 0.84\n",
      "- Range de avaliações: 2.5 - 5.0\n",
      "\n",
      "Gêneros favoritos (por quantidade):\n",
      "  - Comedy: 3 filmes\n",
      "  - Drama: 3 filmes\n",
      "  - Adventure: 2 filmes\n",
      "  - Action: 2 filmes\n",
      "  - Sci-Fi: 2 filmes\n",
      "\n",
      "Gêneros favoritos (por avaliação média):\n",
      "  - Animation: 5.00\n",
      "  - Children: 5.00\n",
      "  - Fantasy: 5.00\n",
      "  - Comedy: 4.50\n",
      "  - War: 4.50\n",
      "\n",
      "Filmes mais bem avaliados:\n",
      "  - Toy Story (1995): 5.0\n",
      "  - Forrest Gump (1994): 4.5\n",
      "  - Knowing (2009): 4.0\n",
      "  - Focus (2015): 4.0\n",
      "  - Star Wars: Episode I - The Phantom Menace (1999): 2.5\n"
     ]
    }
   ],
   "source": [
    "def analyze_user_profile(user_id, ratings_df, movies_df):\n",
    "    \"\"\"\n",
    "    Analisa o perfil de um usuário específico.\n",
    "    \n",
    "    Args:\n",
    "        user_id: ID do usuário\n",
    "        ratings_df: DataFrame com as avaliações\n",
    "        movies_df: DataFrame com os filmes\n",
    "        \n",
    "    Returns:\n",
    "        Dicionário com informações do perfil do usuário\n",
    "    \"\"\"\n",
    "    user_ratings = ratings_df[ratings_df['userId'] == user_id]\n",
    "    \n",
    "    if user_ratings.empty:\n",
    "        return None\n",
    "    \n",
    "    # Merge com informações dos filmes\n",
    "    user_movies = user_ratings.merge(movies_df[['movieId', 'title', 'genres']], on='movieId')\n",
    "    \n",
    "    # Estatísticas básicas\n",
    "    profile = {\n",
    "        'user_id': user_id,\n",
    "        'num_ratings': len(user_ratings),\n",
    "        'avg_rating': user_ratings['rating'].mean(),\n",
    "        'rating_std': user_ratings['rating'].std(),\n",
    "        'min_rating': user_ratings['rating'].min(),\n",
    "        'max_rating': user_ratings['rating'].max()\n",
    "    }\n",
    "    \n",
    "    # Análise de gêneros preferidos\n",
    "    genre_counts = {}\n",
    "    genre_ratings = {}\n",
    "    \n",
    "    for _, row in user_movies.iterrows():\n",
    "        genres = row['genres']\n",
    "        rating = row['rating']\n",
    "        \n",
    "        for genre in genres:\n",
    "            if genre not in genre_counts:\n",
    "                genre_counts[genre] = 0\n",
    "                genre_ratings[genre] = []\n",
    "            genre_counts[genre] += 1\n",
    "            genre_ratings[genre].append(rating)\n",
    "    \n",
    "    # Gêneros favoritos (por quantidade e por rating médio)\n",
    "    favorite_genres_by_count = sorted(genre_counts.items(), key=lambda x: x[1], reverse=True)[:5]\n",
    "    \n",
    "    genre_avg_ratings = {genre: np.mean(ratings) for genre, ratings in genre_ratings.items()}\n",
    "    favorite_genres_by_rating = sorted(genre_avg_ratings.items(), key=lambda x: x[1], reverse=True)[:5]\n",
    "    \n",
    "    profile['favorite_genres_by_count'] = favorite_genres_by_count\n",
    "    profile['favorite_genres_by_rating'] = favorite_genres_by_rating\n",
    "    profile['top_rated_movies'] = user_movies.nlargest(5, 'rating')[['title', 'rating']].values.tolist()\n",
    "    \n",
    "    return profile\n",
    "\n",
    "# Analisando o perfil do usuário 611\n",
    "user_611_profile = analyze_user_profile(611, ratings, movies)\n",
    "\n",
    "if user_611_profile:\n",
    "    print(f\"Perfil do Usuário {user_611_profile['user_id']}:\")\n",
    "    print(f\"- Número de avaliações: {user_611_profile['num_ratings']}\")\n",
    "    print(f\"- Avaliação média: {user_611_profile['avg_rating']:.2f}\")\n",
    "    print(f\"- Desvio padrão: {user_611_profile['rating_std']:.2f}\")\n",
    "    print(f\"- Range de avaliações: {user_611_profile['min_rating']} - {user_611_profile['max_rating']}\")\n",
    "    \n",
    "    print(\"\\nGêneros favoritos (por quantidade):\")\n",
    "    for genre, count in user_611_profile['favorite_genres_by_count']:\n",
    "        print(f\"  - {genre}: {count} filmes\")\n",
    "    \n",
    "    print(\"\\nGêneros favoritos (por avaliação média):\")\n",
    "    for genre, avg_rating in user_611_profile['favorite_genres_by_rating']:\n",
    "        print(f\"  - {genre}: {avg_rating:.2f}\")\n",
    "    \n",
    "    print(\"\\nFilmes mais bem avaliados:\")\n",
    "    for title, rating in user_611_profile['top_rated_movies']:\n",
    "        print(f\"  - {title}: {rating}\")\n",
    "else:\n",
    "    print(\"Usuário não encontrado!\")"
   ]
  },
  {
   "cell_type": "code",
   "execution_count": 58,
   "metadata": {},
   "outputs": [
    {
     "name": "stdout",
     "output_type": "stream",
     "text": [
      "Usuários com pelo menos 10 avaliações: 610\n",
      "\n",
      "Shape dos perfis de usuários: (610, 43)\n",
      "Usuário 611 está incluído: False\n",
      "\n",
      "Shape dos perfis de usuários: (610, 43)\n",
      "Usuário 611 está incluído: False\n"
     ]
    },
    {
     "data": {
      "text/html": [
       "<div>\n",
       "<style scoped>\n",
       "    .dataframe tbody tr th:only-of-type {\n",
       "        vertical-align: middle;\n",
       "    }\n",
       "\n",
       "    .dataframe tbody tr th {\n",
       "        vertical-align: top;\n",
       "    }\n",
       "\n",
       "    .dataframe thead th {\n",
       "        text-align: right;\n",
       "    }\n",
       "</style>\n",
       "<table border=\"1\" class=\"dataframe\">\n",
       "  <thead>\n",
       "    <tr style=\"text-align: right;\">\n",
       "      <th></th>\n",
       "      <th>(no genres listed)_avg_rating</th>\n",
       "      <th>Action_avg_rating</th>\n",
       "      <th>Adventure_avg_rating</th>\n",
       "      <th>Animation_avg_rating</th>\n",
       "      <th>Children_avg_rating</th>\n",
       "      <th>Comedy_avg_rating</th>\n",
       "      <th>Crime_avg_rating</th>\n",
       "      <th>Documentary_avg_rating</th>\n",
       "      <th>Drama_avg_rating</th>\n",
       "      <th>Fantasy_avg_rating</th>\n",
       "      <th>...</th>\n",
       "      <th>Musical_proportion</th>\n",
       "      <th>Mystery_proportion</th>\n",
       "      <th>Romance_proportion</th>\n",
       "      <th>Sci-Fi_proportion</th>\n",
       "      <th>Thriller_proportion</th>\n",
       "      <th>War_proportion</th>\n",
       "      <th>Western_proportion</th>\n",
       "      <th>overall_avg</th>\n",
       "      <th>overall_std</th>\n",
       "      <th>num_ratings</th>\n",
       "    </tr>\n",
       "  </thead>\n",
       "  <tbody>\n",
       "    <tr>\n",
       "      <th>414</th>\n",
       "      <td>0.858043</td>\n",
       "      <td>-0.110520</td>\n",
       "      <td>0.031457</td>\n",
       "      <td>0.394333</td>\n",
       "      <td>0.023297</td>\n",
       "      <td>-0.120873</td>\n",
       "      <td>0.084005</td>\n",
       "      <td>0.285462</td>\n",
       "      <td>0.169540</td>\n",
       "      <td>0.019547</td>\n",
       "      <td>...</td>\n",
       "      <td>0.040771</td>\n",
       "      <td>0.055597</td>\n",
       "      <td>0.188658</td>\n",
       "      <td>0.119718</td>\n",
       "      <td>0.231653</td>\n",
       "      <td>0.045960</td>\n",
       "      <td>0.019274</td>\n",
       "      <td>3.391957</td>\n",
       "      <td>0.933307</td>\n",
       "      <td>2698</td>\n",
       "    </tr>\n",
       "    <tr>\n",
       "      <th>599</th>\n",
       "      <td>0.357950</td>\n",
       "      <td>0.094098</td>\n",
       "      <td>0.124766</td>\n",
       "      <td>0.272060</td>\n",
       "      <td>-0.244460</td>\n",
       "      <td>-0.219999</td>\n",
       "      <td>0.170599</td>\n",
       "      <td>0.425258</td>\n",
       "      <td>0.181217</td>\n",
       "      <td>0.009950</td>\n",
       "      <td>...</td>\n",
       "      <td>0.027845</td>\n",
       "      <td>0.065779</td>\n",
       "      <td>0.148103</td>\n",
       "      <td>0.168684</td>\n",
       "      <td>0.240920</td>\n",
       "      <td>0.033898</td>\n",
       "      <td>0.019774</td>\n",
       "      <td>2.642050</td>\n",
       "      <td>0.815300</td>\n",
       "      <td>2478</td>\n",
       "    </tr>\n",
       "    <tr>\n",
       "      <th>474</th>\n",
       "      <td>0.000000</td>\n",
       "      <td>-0.173293</td>\n",
       "      <td>0.004453</td>\n",
       "      <td>0.088544</td>\n",
       "      <td>-0.127639</td>\n",
       "      <td>-0.216902</td>\n",
       "      <td>0.086640</td>\n",
       "      <td>0.294592</td>\n",
       "      <td>0.150916</td>\n",
       "      <td>-0.113745</td>\n",
       "      <td>...</td>\n",
       "      <td>0.063567</td>\n",
       "      <td>0.069734</td>\n",
       "      <td>0.241935</td>\n",
       "      <td>0.071632</td>\n",
       "      <td>0.165560</td>\n",
       "      <td>0.053605</td>\n",
       "      <td>0.022770</td>\n",
       "      <td>3.398956</td>\n",
       "      <td>0.830847</td>\n",
       "      <td>2108</td>\n",
       "    </tr>\n",
       "    <tr>\n",
       "      <th>448</th>\n",
       "      <td>-1.597371</td>\n",
       "      <td>-0.119879</td>\n",
       "      <td>0.103967</td>\n",
       "      <td>0.498783</td>\n",
       "      <td>0.248925</td>\n",
       "      <td>0.061816</td>\n",
       "      <td>0.094376</td>\n",
       "      <td>1.073681</td>\n",
       "      <td>0.140982</td>\n",
       "      <td>-0.046129</td>\n",
       "      <td>...</td>\n",
       "      <td>0.031116</td>\n",
       "      <td>0.053112</td>\n",
       "      <td>0.123927</td>\n",
       "      <td>0.160408</td>\n",
       "      <td>0.239270</td>\n",
       "      <td>0.027897</td>\n",
       "      <td>0.025215</td>\n",
       "      <td>2.847371</td>\n",
       "      <td>1.029706</td>\n",
       "      <td>1864</td>\n",
       "    </tr>\n",
       "    <tr>\n",
       "      <th>274</th>\n",
       "      <td>0.000000</td>\n",
       "      <td>0.009711</td>\n",
       "      <td>-0.017240</td>\n",
       "      <td>0.087348</td>\n",
       "      <td>-0.121960</td>\n",
       "      <td>-0.094975</td>\n",
       "      <td>0.190455</td>\n",
       "      <td>0.264116</td>\n",
       "      <td>0.189177</td>\n",
       "      <td>-0.118741</td>\n",
       "      <td>...</td>\n",
       "      <td>0.036404</td>\n",
       "      <td>0.080981</td>\n",
       "      <td>0.098068</td>\n",
       "      <td>0.172363</td>\n",
       "      <td>0.335810</td>\n",
       "      <td>0.025260</td>\n",
       "      <td>0.019316</td>\n",
       "      <td>3.235884</td>\n",
       "      <td>0.761703</td>\n",
       "      <td>1346</td>\n",
       "    </tr>\n",
       "  </tbody>\n",
       "</table>\n",
       "<p>5 rows × 43 columns</p>\n",
       "</div>"
      ],
      "text/plain": [
       "     (no genres listed)_avg_rating  Action_avg_rating  Adventure_avg_rating  \\\n",
       "414                       0.858043          -0.110520              0.031457   \n",
       "599                       0.357950           0.094098              0.124766   \n",
       "474                       0.000000          -0.173293              0.004453   \n",
       "448                      -1.597371          -0.119879              0.103967   \n",
       "274                       0.000000           0.009711             -0.017240   \n",
       "\n",
       "     Animation_avg_rating  Children_avg_rating  Comedy_avg_rating  \\\n",
       "414              0.394333             0.023297          -0.120873   \n",
       "599              0.272060            -0.244460          -0.219999   \n",
       "474              0.088544            -0.127639          -0.216902   \n",
       "448              0.498783             0.248925           0.061816   \n",
       "274              0.087348            -0.121960          -0.094975   \n",
       "\n",
       "     Crime_avg_rating  Documentary_avg_rating  Drama_avg_rating  \\\n",
       "414          0.084005                0.285462          0.169540   \n",
       "599          0.170599                0.425258          0.181217   \n",
       "474          0.086640                0.294592          0.150916   \n",
       "448          0.094376                1.073681          0.140982   \n",
       "274          0.190455                0.264116          0.189177   \n",
       "\n",
       "     Fantasy_avg_rating  ...  Musical_proportion  Mystery_proportion  \\\n",
       "414            0.019547  ...            0.040771            0.055597   \n",
       "599            0.009950  ...            0.027845            0.065779   \n",
       "474           -0.113745  ...            0.063567            0.069734   \n",
       "448           -0.046129  ...            0.031116            0.053112   \n",
       "274           -0.118741  ...            0.036404            0.080981   \n",
       "\n",
       "     Romance_proportion  Sci-Fi_proportion  Thriller_proportion  \\\n",
       "414            0.188658           0.119718             0.231653   \n",
       "599            0.148103           0.168684             0.240920   \n",
       "474            0.241935           0.071632             0.165560   \n",
       "448            0.123927           0.160408             0.239270   \n",
       "274            0.098068           0.172363             0.335810   \n",
       "\n",
       "     War_proportion  Western_proportion  overall_avg  overall_std  num_ratings  \n",
       "414        0.045960            0.019274     3.391957     0.933307         2698  \n",
       "599        0.033898            0.019774     2.642050     0.815300         2478  \n",
       "474        0.053605            0.022770     3.398956     0.830847         2108  \n",
       "448        0.027897            0.025215     2.847371     1.029706         1864  \n",
       "274        0.025260            0.019316     3.235884     0.761703         1346  \n",
       "\n",
       "[5 rows x 43 columns]"
      ]
     },
     "execution_count": 58,
     "metadata": {},
     "output_type": "execute_result"
    }
   ],
   "source": [
    "from sklearn.cluster import KMeans\n",
    "from sklearn.preprocessing import StandardScaler\n",
    "from sklearn.decomposition import PCA\n",
    "import matplotlib.pyplot as plt\n",
    "\n",
    "def create_user_profiles_for_clustering(ratings_df, movies_df, min_ratings=5):\n",
    "    \"\"\"\n",
    "    Cria perfis de usuários baseados em suas preferências de gêneros para clusterização.\n",
    "    \n",
    "    Args:\n",
    "        ratings_df: DataFrame com as avaliações\n",
    "        movies_df: DataFrame com os filmes\n",
    "        min_ratings: Número mínimo de avaliações para incluir o usuário\n",
    "        \n",
    "    Returns:\n",
    "        DataFrame com perfis dos usuários e lista de usuários válidos\n",
    "    \"\"\"\n",
    "    # Filtrar usuários com pelo menos min_ratings avaliações\n",
    "    user_counts = ratings_df['userId'].value_counts()\n",
    "    valid_users = user_counts[user_counts >= min_ratings].index.tolist()\n",
    "    \n",
    "    print(f\"Usuários com pelo menos {min_ratings} avaliações: {len(valid_users)}\")\n",
    "    \n",
    "    # Obter todos os gêneros únicos\n",
    "    all_genres = set()\n",
    "    for genres_list in movies_df['genres']:\n",
    "        all_genres.update(genres_list)\n",
    "    all_genres = sorted(list(all_genres))\n",
    "    \n",
    "    # Criar matriz de perfis de usuários\n",
    "    user_profiles = []\n",
    "    user_ids = []\n",
    "    \n",
    "    for user_id in valid_users:\n",
    "        user_ratings = ratings_df[ratings_df['userId'] == user_id]\n",
    "        user_movies = user_ratings.merge(movies_df[['movieId', 'genres']], on='movieId')\n",
    "        \n",
    "        # Calcular preferências por gênero\n",
    "        genre_preferences = {}\n",
    "        genre_counts = {}\n",
    "        \n",
    "        for _, row in user_movies.iterrows():\n",
    "            rating = row['rating']\n",
    "            genres = row['genres']\n",
    "            \n",
    "            for genre in genres:\n",
    "                if genre not in genre_preferences:\n",
    "                    genre_preferences[genre] = []\n",
    "                    genre_counts[genre] = 0\n",
    "                genre_preferences[genre].append(rating)\n",
    "                genre_counts[genre] += 1\n",
    "        \n",
    "        # Criar vetor de características do usuário\n",
    "        user_vector = []\n",
    "        \n",
    "        # 1. Média de rating por gênero (normalizada)\n",
    "        for genre in all_genres:\n",
    "            if genre in genre_preferences:\n",
    "                avg_rating = np.mean(genre_preferences[genre])\n",
    "                # Normalizar pela média geral do usuário\n",
    "                user_avg = user_ratings['rating'].mean()\n",
    "                normalized_rating = avg_rating - user_avg\n",
    "            else:\n",
    "                normalized_rating = 0\n",
    "            user_vector.append(normalized_rating)\n",
    "        \n",
    "        # 2. Proporção de filmes assistidos por gênero\n",
    "        total_movies = len(user_movies)\n",
    "        for genre in all_genres:\n",
    "            if genre in genre_counts:\n",
    "                proportion = genre_counts[genre] / total_movies\n",
    "            else:\n",
    "                proportion = 0\n",
    "            user_vector.append(proportion)\n",
    "        \n",
    "        # 3. Estatísticas gerais do usuário\n",
    "        user_vector.extend([\n",
    "            user_ratings['rating'].mean(),  # Média geral\n",
    "            user_ratings['rating'].std(),   # Desvio padrão\n",
    "            len(user_ratings)               # Número total de avaliações\n",
    "        ])\n",
    "        \n",
    "        user_profiles.append(user_vector)\n",
    "        user_ids.append(user_id)\n",
    "    \n",
    "    # Criar DataFrame\n",
    "    feature_names = (\n",
    "        [f'{genre}_avg_rating' for genre in all_genres] +\n",
    "        [f'{genre}_proportion' for genre in all_genres] +\n",
    "        ['overall_avg', 'overall_std', 'num_ratings']\n",
    "    )\n",
    "    \n",
    "    profiles_df = pd.DataFrame(user_profiles, columns=feature_names, index=user_ids)\n",
    "    \n",
    "    return profiles_df, user_ids, all_genres\n",
    "\n",
    "# Criar perfis dos usuários\n",
    "user_profiles_df, valid_user_ids, all_genres = create_user_profiles_for_clustering(ratings, movies, min_ratings=10)\n",
    "\n",
    "print(f\"\\nShape dos perfis de usuários: {user_profiles_df.shape}\")\n",
    "print(f\"Usuário 611 está incluído: {611 in valid_user_ids}\")\n",
    "\n",
    "# Mostrar algumas estatísticas\n",
    "user_profiles_df.head()"
   ]
  },
  {
   "cell_type": "code",
   "execution_count": 59,
   "metadata": {},
   "outputs": [
    {
     "name": "stderr",
     "output_type": "stream",
     "text": [
      "c:\\Users\\cesar\\anaconda3\\Lib\\site-packages\\sklearn\\cluster\\_kmeans.py:1429: UserWarning: KMeans is known to have a memory leak on Windows with MKL, when there are less chunks than available threads. You can avoid it by setting the environment variable OMP_NUM_THREADS=3.\n",
      "  warnings.warn(\n"
     ]
    },
    {
     "name": "stdout",
     "output_type": "stream",
     "text": [
      "Distribuição dos usuários por cluster:\n",
      "Cluster 0: 101 usuários\n",
      "Cluster 1: 57 usuários\n",
      "Cluster 2: 62 usuários\n",
      "Cluster 3: 130 usuários\n",
      "Cluster 4: 188 usuários\n",
      "Cluster 5: 72 usuários\n",
      "\n",
      "Usuário 611 não tem avaliações suficientes para clusterização (mínimo 10)\n",
      "Usuários com pelo menos 1 avaliações: 611\n",
      "Usuário 611 está no Cluster 5 (incluindo usuários com poucas avaliações)\n",
      "Usuário 611 está no Cluster 5 (incluindo usuários com poucas avaliações)\n"
     ]
    },
    {
     "name": "stderr",
     "output_type": "stream",
     "text": [
      "c:\\Users\\cesar\\anaconda3\\Lib\\site-packages\\sklearn\\cluster\\_kmeans.py:1429: UserWarning: KMeans is known to have a memory leak on Windows with MKL, when there are less chunks than available threads. You can avoid it by setting the environment variable OMP_NUM_THREADS=3.\n",
      "  warnings.warn(\n"
     ]
    }
   ],
   "source": [
    "def perform_user_clustering(profiles_df, n_clusters=8, random_state=42):\n",
    "    \"\"\"\n",
    "    Realiza clusterização dos usuários baseada em seus perfis.\n",
    "    \n",
    "    Args:\n",
    "        profiles_df: DataFrame com perfis dos usuários\n",
    "        n_clusters: Número de clusters\n",
    "        random_state: Seed para reprodutibilidade\n",
    "        \n",
    "    Returns:\n",
    "        Modelo KMeans, dados escalados, labels dos clusters\n",
    "    \"\"\"\n",
    "    # Preencher valores NaN com 0\n",
    "    profiles_clean = profiles_df.fillna(0)\n",
    "    \n",
    "    # Padronizar os dados\n",
    "    scaler = StandardScaler()\n",
    "    profiles_scaled = scaler.fit_transform(profiles_clean)\n",
    "    \n",
    "    # Aplicar K-means\n",
    "    kmeans = KMeans(n_clusters=n_clusters, random_state=random_state, n_init=10)\n",
    "    cluster_labels = kmeans.fit_predict(profiles_scaled)\n",
    "    \n",
    "    return kmeans, profiles_scaled, cluster_labels, scaler\n",
    "\n",
    "# Realizar clusterização\n",
    "kmeans_model, scaled_profiles, cluster_labels, scaler = perform_user_clustering(user_profiles_df, n_clusters=6)\n",
    "\n",
    "# Adicionar labels dos clusters ao DataFrame\n",
    "user_profiles_df['cluster'] = cluster_labels\n",
    "\n",
    "# Analisar a distribuição dos clusters\n",
    "cluster_counts = pd.Series(cluster_labels).value_counts().sort_index()\n",
    "print(\"Distribuição dos usuários por cluster:\")\n",
    "for cluster_id, count in cluster_counts.items():\n",
    "    print(f\"Cluster {cluster_id}: {count} usuários\")\n",
    "\n",
    "# Verificar em qual cluster está o usuário 611\n",
    "if 611 in user_profiles_df.index:\n",
    "    user_611_cluster = user_profiles_df.loc[611, 'cluster']\n",
    "    print(f\"\\nUsuário 611 está no Cluster {user_611_cluster}\")\n",
    "else:\n",
    "    print(\"\\nUsuário 611 não tem avaliações suficientes para clusterização (mínimo 10)\")\n",
    "    # Vamos incluir usuários com menos avaliações para este caso específico\n",
    "    user_profiles_df_all, valid_user_ids_all, _ = create_user_profiles_for_clustering(ratings, movies, min_ratings=1)\n",
    "    kmeans_model_all, scaled_profiles_all, cluster_labels_all, scaler_all = perform_user_clustering(user_profiles_df_all, n_clusters=6)\n",
    "    user_profiles_df_all['cluster'] = cluster_labels_all\n",
    "    \n",
    "    if 611 in user_profiles_df_all.index:\n",
    "        user_611_cluster = user_profiles_df_all.loc[611, 'cluster']\n",
    "        print(f\"Usuário 611 está no Cluster {user_611_cluster} (incluindo usuários com poucas avaliações)\")\n",
    "        # Usar os dados com todos os usuários para as próximas análises\n",
    "        user_profiles_df = user_profiles_df_all\n",
    "        valid_user_ids = valid_user_ids_all\n",
    "        kmeans_model = kmeans_model_all\n",
    "        scaled_profiles = scaled_profiles_all\n",
    "        cluster_labels = cluster_labels_all\n",
    "        scaler = scaler_all"
   ]
  },
  {
   "cell_type": "code",
   "execution_count": 60,
   "metadata": {},
   "outputs": [
    {
     "name": "stdout",
     "output_type": "stream",
     "text": [
      "Características dos Clusters:\n",
      "==================================================\n",
      "\n",
      "Cluster 0:\n",
      "  - Número de usuários: 66\n",
      "  - Avaliação média geral: 3.51\n",
      "  - Número médio de avaliações: 140.7\n",
      "  - Desvio padrão médio: 0.98\n",
      "  - Top 3 gêneros preferidos (por rating):\n",
      "    * IMAX: +0.31\n",
      "    * Animation: +0.15\n",
      "    * Musical: +0.14\n",
      "  - Top 3 gêneros mais assistidos (por proporção):\n",
      "    * Comedy: 52.0%\n",
      "    * Drama: 34.4%\n",
      "    * Adventure: 30.0%\n",
      "\n",
      "Cluster 1:\n",
      "  - Número de usuários: 64\n",
      "  - Avaliação média geral: 3.53\n",
      "  - Número médio de avaliações: 77.0\n",
      "  - Desvio padrão médio: 1.14\n",
      "  - Top 3 gêneros preferidos (por rating):\n",
      "    * Mystery: +0.40\n",
      "    * Crime: +0.28\n",
      "    * Thriller: +0.21\n",
      "  - Top 3 gêneros mais assistidos (por proporção):\n",
      "    * Drama: 42.2%\n",
      "    * Action: 34.9%\n",
      "    * Comedy: 32.7%\n",
      "\n",
      "Cluster 2:\n",
      "  - Número de usuários: 129\n",
      "  - Avaliação média geral: 3.88\n",
      "  - Número médio de avaliações: 103.7\n",
      "  - Desvio padrão médio: 0.79\n",
      "  - Top 3 gêneros preferidos (por rating):\n",
      "    * War: +0.13\n",
      "    * IMAX: +0.10\n",
      "  - Top 3 gêneros mais assistidos (por proporção):\n",
      "    * Drama: 47.1%\n",
      "    * Action: 41.6%\n",
      "    * Thriller: 38.7%\n",
      "\n",
      "Cluster 3:\n",
      "  - Número de usuários: 187\n",
      "  - Avaliação média geral: 3.49\n",
      "  - Número médio de avaliações: 273.9\n",
      "  - Desvio padrão médio: 0.95\n",
      "  - Top 3 gêneros preferidos (por rating):\n",
      "    * War: +0.29\n",
      "    * Animation: +0.27\n",
      "    * IMAX: +0.26\n",
      "  - Top 3 gêneros mais assistidos (por proporção):\n",
      "    * Comedy: 41.7%\n",
      "    * Drama: 38.4%\n",
      "    * Action: 31.2%\n",
      "\n",
      "Cluster 4:\n",
      "  - Número de usuários: 105\n",
      "  - Avaliação média geral: 3.68\n",
      "  - Número médio de avaliações: 150.1\n",
      "  - Desvio padrão médio: 0.95\n",
      "  - Top 3 gêneros preferidos (por rating):\n",
      "    * Film-Noir: +0.24\n",
      "    * War: +0.18\n",
      "    * Drama: +0.15\n",
      "  - Top 3 gêneros mais assistidos (por proporção):\n",
      "    * Drama: 56.2%\n",
      "    * Comedy: 38.0%\n",
      "    * Romance: 26.5%\n",
      "\n",
      "Cluster 5:\n",
      "  - Número de usuários: 60\n",
      "  - Avaliação média geral: 3.94\n",
      "  - Número médio de avaliações: 104.6\n",
      "  - Desvio padrão médio: 0.81\n",
      "  - Top 3 gêneros preferidos (por rating):\n",
      "    * Mystery: +0.11\n",
      "  - Top 3 gêneros mais assistidos (por proporção):\n",
      "    * Action: 48.4%\n",
      "    * Adventure: 48.0%\n",
      "    * Drama: 33.3%\n",
      "\n",
      "==================================================\n",
      "USUÁRIO 611 - CLUSTER 5\n",
      "==================================================\n",
      "O usuário 611 pertence ao Cluster 5 que tem:\n",
      "- 60 usuários similares\n",
      "- Preferência por gêneros: ['Mystery', 'Animation', 'War']\n",
      "- Avaliação média do cluster: 3.94\n"
     ]
    }
   ],
   "source": [
    "def analyze_clusters(profiles_df, all_genres):\n",
    "    \"\"\"\n",
    "    Analisa as características de cada cluster.\n",
    "    \n",
    "    Args:\n",
    "        profiles_df: DataFrame com perfis dos usuários e clusters\n",
    "        all_genres: Lista de todos os gêneros\n",
    "        \n",
    "    Returns:\n",
    "        Dicionário com características de cada cluster\n",
    "    \"\"\"\n",
    "    cluster_analysis = {}\n",
    "    \n",
    "    for cluster_id in sorted(profiles_df['cluster'].unique()):\n",
    "        cluster_users = profiles_df[profiles_df['cluster'] == cluster_id]\n",
    "        \n",
    "        analysis = {\n",
    "            'num_users': len(cluster_users),\n",
    "            'avg_overall_rating': cluster_users['overall_avg'].mean(),\n",
    "            'avg_num_ratings': cluster_users['num_ratings'].mean(),\n",
    "            'avg_rating_std': cluster_users['overall_std'].mean()\n",
    "        }\n",
    "        \n",
    "        # Top 3 gêneros por rating médio no cluster\n",
    "        genre_avg_cols = [f'{genre}_avg_rating' for genre in all_genres]\n",
    "        genre_avgs = cluster_users[genre_avg_cols].mean()\n",
    "        top_genres_by_rating = genre_avgs.nlargest(3)\n",
    "        \n",
    "        # Top 3 gêneros por proporção no cluster\n",
    "        genre_prop_cols = [f'{genre}_proportion' for genre in all_genres]\n",
    "        genre_props = cluster_users[genre_prop_cols].mean()\n",
    "        top_genres_by_proportion = genre_props.nlargest(3)\n",
    "        \n",
    "        analysis['top_genres_by_rating'] = [(genre.replace('_avg_rating', ''), rating) \n",
    "                                           for genre, rating in top_genres_by_rating.items()]\n",
    "        analysis['top_genres_by_proportion'] = [(genre.replace('_proportion', ''), prop) \n",
    "                                              for genre, prop in top_genres_by_proportion.items()]\n",
    "        \n",
    "        cluster_analysis[cluster_id] = analysis\n",
    "    \n",
    "    return cluster_analysis\n",
    "\n",
    "# Analisar clusters\n",
    "cluster_characteristics = analyze_clusters(user_profiles_df, all_genres)\n",
    "\n",
    "# Mostrar características de cada cluster\n",
    "print(\"Características dos Clusters:\")\n",
    "print(\"=\" * 50)\n",
    "\n",
    "for cluster_id, characteristics in cluster_characteristics.items():\n",
    "    print(f\"\\nCluster {cluster_id}:\")\n",
    "    print(f\"  - Número de usuários: {characteristics['num_users']}\")\n",
    "    print(f\"  - Avaliação média geral: {characteristics['avg_overall_rating']:.2f}\")\n",
    "    print(f\"  - Número médio de avaliações: {characteristics['avg_num_ratings']:.1f}\")\n",
    "    print(f\"  - Desvio padrão médio: {characteristics['avg_rating_std']:.2f}\")\n",
    "    \n",
    "    print(f\"  - Top 3 gêneros preferidos (por rating):\")\n",
    "    for genre, rating in characteristics['top_genres_by_rating']:\n",
    "        if rating > 0.1:  # Apenas gêneros com preferência significativa\n",
    "            print(f\"    * {genre}: +{rating:.2f}\")\n",
    "    \n",
    "    print(f\"  - Top 3 gêneros mais assistidos (por proporção):\")\n",
    "    for genre, prop in characteristics['top_genres_by_proportion']:\n",
    "        if prop > 0.05:  # Apenas gêneros com proporção significativa\n",
    "            print(f\"    * {genre}: {prop:.1%}\")\n",
    "\n",
    "# Mostrar especificamente o cluster do usuário 611\n",
    "if 611 in user_profiles_df.index:\n",
    "    user_611_cluster = user_profiles_df.loc[611, 'cluster']\n",
    "    print(f\"\\n{'='*50}\")\n",
    "    print(f\"USUÁRIO 611 - CLUSTER {user_611_cluster}\")\n",
    "    print(f\"{'='*50}\")\n",
    "    \n",
    "    cluster_611_info = cluster_characteristics[user_611_cluster]\n",
    "    print(f\"O usuário 611 pertence ao Cluster {user_611_cluster} que tem:\")\n",
    "    print(f\"- {cluster_611_info['num_users']} usuários similares\")\n",
    "    print(f\"- Preferência por gêneros: {[genre for genre, _ in cluster_611_info['top_genres_by_rating'][:3]]}\")\n",
    "    print(f\"- Avaliação média do cluster: {cluster_611_info['avg_overall_rating']:.2f}\")"
   ]
  },
  {
   "cell_type": "code",
   "execution_count": null,
   "metadata": {},
   "outputs": [
    {
     "name": "stdout",
     "output_type": "stream",
     "text": [
      "RECOMENDAÇÕES BASEADAS EM CLUSTER\n",
      "==================================================\n",
      "Usuário 611 pertence ao Cluster 5\n",
      "Encontrados 59 usuários similares no mesmo cluster\n",
      "\n",
      "Recomendações para o usuário 611 (Cluster 5, 59 usuários similares):\n",
      " 1. Shawshank Redemption, The (1994) (1994.0)\n",
      "     Gêneros: Crime, Drama\n",
      "     Média bayesiana: 4.39\n",
      "\n",
      " 2. Matrix, The (1999) (1999.0)\n",
      "     Gêneros: Action, Sci-Fi, Thriller\n",
      "     Média bayesiana: 4.16\n",
      "\n",
      " 3. Lord of the Rings: The Fellowship of the Ring, The (2001) (2001.0)\n",
      "     Gêneros: Adventure, Fantasy\n",
      "     Média bayesiana: 4.06\n",
      "\n",
      " 4. Lord of the Rings: The Return of the King, The (2003) (2003.0)\n",
      "     Gêneros: Action, Adventure, Drama, Fantasy\n",
      "     Média bayesiana: 4.07\n",
      "\n",
      " 5. Usual Suspects, The (1995) (1995.0)\n",
      "     Gêneros: Crime, Mystery, Thriller\n",
      "     Média bayesiana: 4.19\n",
      "\n",
      " 6. Dark Knight, The (2008) (2008.0)\n",
      "     Gêneros: Action, Crime, Drama, IMAX\n",
      "     Média bayesiana: 4.17\n",
      "\n",
      " 7. Aliens (1986) (1986.0)\n",
      "     Gêneros: Action, Adventure, Horror, Sci-Fi\n",
      "     Média bayesiana: 3.91\n",
      "\n",
      " 8. Lord of the Rings: The Two Towers, The (2002) (2002.0)\n",
      "     Gêneros: Adventure, Fantasy\n",
      "     Média bayesiana: 3.98\n",
      "\n",
      " 9. WALL·E (2008) (2008.0)\n",
      "     Gêneros: Adventure, Animation, Children, Romance, Sci-Fi\n",
      "     Média bayesiana: 3.99\n",
      "\n",
      "10. Three Billboards Outside Ebbing, Missouri (2017) (2017.0)\n",
      "     Gêneros: Crime, Drama\n",
      "     Média bayesiana: 3.91\n",
      "\n",
      "11. Star Wars: Episode V - The Empire Strikes Back (1980) (1980.0)\n",
      "     Gêneros: Action, Adventure, Sci-Fi\n",
      "     Média bayesiana: 4.17\n",
      "\n",
      "12. Princess Bride, The (1987) (1987.0)\n",
      "     Gêneros: Action, Adventure, Comedy, Fantasy, Romance\n",
      "     Média bayesiana: 4.17\n",
      "\n",
      "\n",
      "Recomendações para o usuário 611 (Cluster 5, 59 usuários similares):\n",
      " 1. Shawshank Redemption, The (1994) (1994.0)\n",
      "     Gêneros: Crime, Drama\n",
      "     Média bayesiana: 4.39\n",
      "\n",
      " 2. Matrix, The (1999) (1999.0)\n",
      "     Gêneros: Action, Sci-Fi, Thriller\n",
      "     Média bayesiana: 4.16\n",
      "\n",
      " 3. Lord of the Rings: The Fellowship of the Ring, The (2001) (2001.0)\n",
      "     Gêneros: Adventure, Fantasy\n",
      "     Média bayesiana: 4.06\n",
      "\n",
      " 4. Lord of the Rings: The Return of the King, The (2003) (2003.0)\n",
      "     Gêneros: Action, Adventure, Drama, Fantasy\n",
      "     Média bayesiana: 4.07\n",
      "\n",
      " 5. Usual Suspects, The (1995) (1995.0)\n",
      "     Gêneros: Crime, Mystery, Thriller\n",
      "     Média bayesiana: 4.19\n",
      "\n",
      " 6. Dark Knight, The (2008) (2008.0)\n",
      "     Gêneros: Action, Crime, Drama, IMAX\n",
      "     Média bayesiana: 4.17\n",
      "\n",
      " 7. Aliens (1986) (1986.0)\n",
      "     Gêneros: Action, Adventure, Horror, Sci-Fi\n",
      "     Média bayesiana: 3.91\n",
      "\n",
      " 8. Lord of the Rings: The Two Towers, The (2002) (2002.0)\n",
      "     Gêneros: Adventure, Fantasy\n",
      "     Média bayesiana: 3.98\n",
      "\n",
      " 9. WALL·E (2008) (2008.0)\n",
      "     Gêneros: Adventure, Animation, Children, Romance, Sci-Fi\n",
      "     Média bayesiana: 3.99\n",
      "\n",
      "10. Three Billboards Outside Ebbing, Missouri (2017) (2017.0)\n",
      "     Gêneros: Crime, Drama\n",
      "     Média bayesiana: 3.91\n",
      "\n",
      "11. Star Wars: Episode V - The Empire Strikes Back (1980) (1980.0)\n",
      "     Gêneros: Action, Adventure, Sci-Fi\n",
      "     Média bayesiana: 4.17\n",
      "\n",
      "12. Princess Bride, The (1987) (1987.0)\n",
      "     Gêneros: Action, Adventure, Comedy, Fantasy, Romance\n",
      "     Média bayesiana: 4.17\n",
      "\n"
     ]
    }
   ],
   "source": [
    "def get_cluster_based_recommendations(target_user_id, profiles_df, ratings_df, movies_df, \n",
    "                                    bayesian_avg_ratings=None, n_recommendations=10):\n",
    "    \"\"\"\n",
    "    Gera recomendações baseadas no cluster do usuário.\n",
    "    \n",
    "    Args:\n",
    "        target_user_id: ID do usuário alvo\n",
    "        profiles_df: DataFrame com perfis e clusters dos usuários\n",
    "        ratings_df: DataFrame com avaliações\n",
    "        movies_df: DataFrame com filmes\n",
    "        bayesian_avg_ratings: DataFrame com médias bayesianas\n",
    "        n_recommendations: Número de recomendações\n",
    "        min_year: Ano mínimo para filtrar filmes\n",
    "        \n",
    "    Returns:\n",
    "        Lista de filmes recomendados\n",
    "    \"\"\"\n",
    "    if target_user_id not in profiles_df.index:\n",
    "        print(f\"Usuário {target_user_id} não encontrado nos perfis.\")\n",
    "        return []\n",
    "    \n",
    "    # Obter cluster do usuário alvo\n",
    "    target_cluster = profiles_df.loc[target_user_id, 'cluster']\n",
    "    \n",
    "    # Obter usuários do mesmo cluster\n",
    "    cluster_users = profiles_df[profiles_df['cluster'] == target_cluster].index.tolist()\n",
    "    cluster_users.remove(target_user_id)  # Remove o próprio usuário\n",
    "    \n",
    "    print(f\"Usuário {target_user_id} pertence ao Cluster {target_cluster}\")\n",
    "    print(f\"Encontrados {len(cluster_users)} usuários similares no mesmo cluster\")\n",
    "    \n",
    "    # Obter filmes já avaliados pelo usuário alvo\n",
    "    target_user_movies = set(ratings_df[ratings_df['userId'] == target_user_id]['movieId'])\n",
    "    \n",
    "    # Coletar filmes bem avaliados pelos usuários do cluster\n",
    "    cluster_movie_scores = {}\n",
    "    cluster_movie_counts = {}\n",
    "    \n",
    "    for user_id in cluster_users:\n",
    "        user_ratings = ratings_df[ratings_df['userId'] == user_id]\n",
    "        # Considerar apenas filmes bem avaliados (rating >= 4.0)\n",
    "        good_ratings = user_ratings[user_ratings['rating'] >= 4.0]\n",
    "        \n",
    "        for _, row in good_ratings.iterrows():\n",
    "            movie_id = row['movieId']\n",
    "            rating = row['rating']\n",
    "            \n",
    "            # Pular filmes já avaliados pelo usuário alvo\n",
    "            if movie_id in target_user_movies:\n",
    "                continue\n",
    "            \n",
    "            # Filtrar por ano\n",
    "            movie_info = movies_df[movies_df['movieId'] == movie_id]\n",
    "            if not movie_info.empty:\n",
    "                movie_year = movie_info['year'].iloc[0]\n",
    "                if pd.isna(movie_year) or movie_year < min_year:\n",
    "                    continue\n",
    "            \n",
    "            if movie_id not in cluster_movie_scores:\n",
    "                cluster_movie_scores[movie_id] = []\n",
    "                cluster_movie_counts[movie_id] = 0\n",
    "            \n",
    "            cluster_movie_scores[movie_id].append(rating)\n",
    "            cluster_movie_counts[movie_id] += 1\n",
    "    \n",
    "    # Calcular score final para cada filme\n",
    "    movie_final_scores = {}\n",
    "    \n",
    "    for movie_id, ratings_list in cluster_movie_scores.items():\n",
    "        if len(ratings_list) >= 2:  # Filme deve ter pelo menos 2 avaliações no cluster\n",
    "            avg_rating = np.mean(ratings_list)\n",
    "            count = len(ratings_list)\n",
    "            \n",
    "            # Score baseado na média e na popularidade no cluster\n",
    "            # Bonus para filmes mais populares no cluster\n",
    "            popularity_bonus = min(count / len(cluster_users), 0.5)  # Máximo de 0.5 de bonus\n",
    "            final_score = avg_rating + popularity_bonus\n",
    "            \n",
    "            # Se temos médias bayesianas, combinar com elas\n",
    "            if bayesian_avg_ratings is not None:\n",
    "                bayesian_score = bayesian_avg_ratings[\n",
    "                    bayesian_avg_ratings['movieId'] == movie_id\n",
    "                ]['bayesian_avg'].values\n",
    "                \n",
    "                if len(bayesian_score) > 0:\n",
    "                    # Combinar score do cluster (70%) com média bayesiana (30%)\n",
    "                    final_score = 0.7 * final_score + 0.3 * bayesian_score[0]\n",
    "            \n",
    "            movie_final_scores[movie_id] = final_score\n",
    "    \n",
    "    # Ordenar filmes por score\n",
    "    sorted_recommendations = sorted(movie_final_scores.items(), key=lambda x: x[1], reverse=True)\n",
    "    recommended_movies = [movie_id for movie_id, _ in sorted_recommendations[:n_recommendations]]\n",
    "    \n",
    "    return recommended_movies, target_cluster, len(cluster_users)\n",
    "\n",
    "# Testar a função com o usuário 611\n",
    "print(\"RECOMENDAÇÕES BASEADAS EM CLUSTER\")\n",
    "print(\"=\"*50)\n",
    "\n",
    "# Calcular médias bayesianas se não existirem\n",
    "if 'bayesian_avg_ratings' not in globals():\n",
    "    bayesian_avg_ratings = ratings.groupby('movieId')['rating'].agg(bayesian_avg).reset_index()\n",
    "    bayesian_avg_ratings.columns = ['movieId', 'bayesian_avg']\n",
    "\n",
    "recommended_movies, user_cluster, cluster_size = get_cluster_based_recommendations(\n",
    "    611, user_profiles_df, ratings, movies, bayesian_avg_ratings, n_recommendations=12, min_year=1980\n",
    ")\n",
    "\n",
    "if recommended_movies:\n",
    "    print(f\"\\nRecomendações para o usuário 611 (Cluster {user_cluster}, {cluster_size} usuários similares):\")\n",
    "    for i, movie_id in enumerate(recommended_movies):\n",
    "        movie_info = movies[movies['movieId'] == movie_id]\n",
    "        if not movie_info.empty:\n",
    "            title = movie_info['title'].iloc[0]\n",
    "            year = movie_info['year'].iloc[0]\n",
    "            genres = ', '.join(movie_info['genres'].iloc[0])\n",
    "            \n",
    "            # Obter média bayesiana\n",
    "            bayesian_score = bayesian_avg_ratings[\n",
    "                bayesian_avg_ratings['movieId'] == movie_id\n",
    "            ]['bayesian_avg'].values[0] if len(bayesian_avg_ratings[\n",
    "                bayesian_avg_ratings['movieId'] == movie_id\n",
    "            ]) > 0 else 'N/A'\n",
    "            \n",
    "            print(f\"{i+1:2d}. {title} ({year})\")\n",
    "            print(f\"     Gêneros: {genres}\")\n",
    "            print(f\"     Média bayesiana: {bayesian_score:.2f}\")\n",
    "            print()\n",
    "else:\n",
    "    print(\"Não foi possível gerar recomendações baseadas em cluster.\")"
   ]
  },
  {
   "cell_type": "code",
   "execution_count": 62,
   "metadata": {},
   "outputs": [
    {
     "name": "stdout",
     "output_type": "stream",
     "text": [
      "\n",
      "TESTANDO A FUNÇÃO COM DIFERENTES USUÁRIOS:\n",
      "==================================================\n",
      "ANÁLISE E RECOMENDAÇÕES PARA USUÁRIO 611\n",
      "============================================================\n",
      "\n",
      "1. PERFIL DO USUÁRIO 611:\n",
      "   - Avaliações feitas: 6\n",
      "   - Avaliação média: 4.00\n",
      "   - Gêneros preferidos: ['Comedy', 'Drama', 'Adventure']\n",
      "\n",
      "2. ANÁLISE DE CLUSTER:\n",
      "   - Pertence ao Cluster 5\n",
      "   - 60 usuários similares neste cluster\n",
      "   - Gêneros preferidos do cluster: ['Mystery', 'Animation', 'War']\n",
      "\n",
      "3. RECOMENDAÇÕES BASEADAS NO CLUSTER 5:\n",
      "Usuário 611 pertence ao Cluster 5\n",
      "Encontrados 59 usuários similares no mesmo cluster\n",
      "    1. Shawshank Redemption, The (1994) (1994.0) - Score: 4.39\n",
      "       Gêneros: Crime, Drama\n",
      "    2. Matrix, The (1999) (1999.0) - Score: 4.16\n",
      "       Gêneros: Action, Sci-Fi, Thriller\n",
      "    3. Lord of the Rings: The Fellowship of the Ring, The (2001) (2001.0) - Score: 4.06\n",
      "       Gêneros: Adventure, Fantasy\n",
      "    4. Lord of the Rings: The Return of the King, The (2003) (2003.0) - Score: 4.07\n",
      "       Gêneros: Action, Adventure, Drama, Fantasy\n",
      "    5. Usual Suspects, The (1995) (1995.0) - Score: 4.19\n",
      "       Gêneros: Crime, Mystery, Thriller\n",
      "    6. Dark Knight, The (2008) (2008.0) - Score: 4.17\n",
      "       Gêneros: Action, Crime, Drama, IMAX\n",
      "    7. Aliens (1986) (1986.0) - Score: 3.91\n",
      "       Gêneros: Action, Adventure, Horror, Sci-Fi\n",
      "    8. Lord of the Rings: The Two Towers, The (2002) (2002.0) - Score: 3.98\n",
      "       Gêneros: Adventure, Fantasy\n",
      "\n",
      "==================================================\n",
      "\n",
      "ANÁLISE E RECOMENDAÇÕES PARA USUÁRIO 1\n",
      "============================================================\n",
      "\n",
      "1. PERFIL DO USUÁRIO 1:\n",
      "   - Avaliações feitas: 232\n",
      "   - Avaliação média: 4.37\n",
      "   - Gêneros preferidos: ['Action', 'Adventure', 'Comedy']\n",
      "\n",
      "2. ANÁLISE DE CLUSTER:\n",
      "   - Pertence ao Cluster 3\n",
      "   - 187 usuários similares neste cluster\n",
      "   - Gêneros preferidos do cluster: ['War', 'Animation', 'IMAX']\n",
      "\n",
      "3. RECOMENDAÇÕES BASEADAS NO CLUSTER 3:\n",
      "Usuário 1 pertence ao Cluster 3\n",
      "Encontrados 186 usuários similares no mesmo cluster\n",
      "    1. Shawshank Redemption, The (1994) (1994.0) - Score: 4.39\n",
      "       Gêneros: Crime, Drama\n",
      "    2. Matrix, The (1999) (1999.0) - Score: 4.16\n",
      "       Gêneros: Action, Sci-Fi, Thriller\n",
      "    3. Lord of the Rings: The Fellowship of the Ring, The (2001) (2001.0) - Score: 4.06\n",
      "       Gêneros: Adventure, Fantasy\n",
      "    4. Lord of the Rings: The Return of the King, The (2003) (2003.0) - Score: 4.07\n",
      "       Gêneros: Action, Adventure, Drama, Fantasy\n",
      "    5. Usual Suspects, The (1995) (1995.0) - Score: 4.19\n",
      "       Gêneros: Crime, Mystery, Thriller\n",
      "    6. Dark Knight, The (2008) (2008.0) - Score: 4.17\n",
      "       Gêneros: Action, Crime, Drama, IMAX\n",
      "    7. Aliens (1986) (1986.0) - Score: 3.91\n",
      "       Gêneros: Action, Adventure, Horror, Sci-Fi\n",
      "    8. Lord of the Rings: The Two Towers, The (2002) (2002.0) - Score: 3.98\n",
      "       Gêneros: Adventure, Fantasy\n",
      "\n",
      "==================================================\n",
      "\n",
      "ANÁLISE E RECOMENDAÇÕES PARA USUÁRIO 1\n",
      "============================================================\n",
      "\n",
      "1. PERFIL DO USUÁRIO 1:\n",
      "   - Avaliações feitas: 232\n",
      "   - Avaliação média: 4.37\n",
      "   - Gêneros preferidos: ['Action', 'Adventure', 'Comedy']\n",
      "\n",
      "2. ANÁLISE DE CLUSTER:\n",
      "   - Pertence ao Cluster 3\n",
      "   - 187 usuários similares neste cluster\n",
      "   - Gêneros preferidos do cluster: ['War', 'Animation', 'IMAX']\n",
      "\n",
      "3. RECOMENDAÇÕES BASEADAS NO CLUSTER 3:\n",
      "Usuário 1 pertence ao Cluster 3\n",
      "Encontrados 186 usuários similares no mesmo cluster\n",
      "    1. Shawshank Redemption, The (1994) (1994.0) - Score: 4.39\n",
      "       Gêneros: Crime, Drama\n",
      "    2. The Raid: Redemption (2011) (2011.0) - Score: 3.76\n",
      "       Gêneros: Action, Crime\n",
      "    3. Paperman (2012) (2012.0) - Score: 3.75\n",
      "       Gêneros: Animation, Comedy, Romance\n",
      "    4. Terminator 2: Judgment Day (1991) (1991.0) - Score: 3.94\n",
      "       Gêneros: Action, Sci-Fi\n",
      "    5. Boot, Das (Boat, The) (1981) (1981.0) - Score: 4.02\n",
      "       Gêneros: Action, Drama, War\n",
      "    1. Shawshank Redemption, The (1994) (1994.0) - Score: 4.39\n",
      "       Gêneros: Crime, Drama\n",
      "    2. The Raid: Redemption (2011) (2011.0) - Score: 3.76\n",
      "       Gêneros: Action, Crime\n",
      "    3. Paperman (2012) (2012.0) - Score: 3.75\n",
      "       Gêneros: Animation, Comedy, Romance\n",
      "    4. Terminator 2: Judgment Day (1991) (1991.0) - Score: 3.94\n",
      "       Gêneros: Action, Sci-Fi\n",
      "    5. Boot, Das (Boat, The) (1981) (1981.0) - Score: 4.02\n",
      "       Gêneros: Action, Drama, War\n"
     ]
    }
   ],
   "source": [
    "def recommend_for_user_with_clustering(user_id, min_year=1980, n_recommendations=10):\n",
    "    \"\"\"\n",
    "    Função principal para gerar recomendações baseadas em clusterização para qualquer usuário.\n",
    "    \n",
    "    Args:\n",
    "        user_id: ID do usuário\n",
    "        min_year: Ano mínimo para filtrar filmes\n",
    "        n_recommendations: Número de recomendações\n",
    "        \n",
    "    Returns:\n",
    "        Lista de recomendações\n",
    "    \"\"\"\n",
    "    print(f\"ANÁLISE E RECOMENDAÇÕES PARA USUÁRIO {user_id}\")\n",
    "    print(\"=\"*60)\n",
    "    \n",
    "    # 1. Analisar perfil do usuário\n",
    "    profile = analyze_user_profile(user_id, ratings, movies)\n",
    "    \n",
    "    if not profile:\n",
    "        print(f\"Usuário {user_id} não encontrado!\")\n",
    "        return []\n",
    "    \n",
    "    print(f\"\\n1. PERFIL DO USUÁRIO {user_id}:\")\n",
    "    print(f\"   - Avaliações feitas: {profile['num_ratings']}\")\n",
    "    print(f\"   - Avaliação média: {profile['avg_rating']:.2f}\")\n",
    "    print(f\"   - Gêneros preferidos: {[genre for genre, _ in profile['favorite_genres_by_count'][:3]]}\")\n",
    "    \n",
    "    # 2. Verificar se o usuário está nos perfis de clusterização\n",
    "    if user_id in user_profiles_df.index:\n",
    "        user_cluster = user_profiles_df.loc[user_id, 'cluster']\n",
    "        cluster_info = cluster_characteristics[user_cluster]\n",
    "        \n",
    "        print(f\"\\n2. ANÁLISE DE CLUSTER:\")\n",
    "        print(f\"   - Pertence ao Cluster {user_cluster}\")\n",
    "        print(f\"   - {cluster_info['num_users']} usuários similares neste cluster\")\n",
    "        print(f\"   - Gêneros preferidos do cluster: {[genre for genre, _ in cluster_info['top_genres_by_rating'][:3]]}\")\n",
    "        \n",
    "        # 3. Gerar recomendações baseadas no cluster\n",
    "        print(f\"\\n3. RECOMENDAÇÕES BASEADAS NO CLUSTER {user_cluster}:\")\n",
    "        \n",
    "        cluster_recommendations, _, cluster_size = get_cluster_based_recommendations(\n",
    "            user_id, user_profiles_df, ratings, movies, bayesian_avg_ratings, \n",
    "            n_recommendations=n_recommendations, min_year=min_year\n",
    "        )\n",
    "        \n",
    "        if cluster_recommendations:\n",
    "            for i, movie_id in enumerate(cluster_recommendations):\n",
    "                movie_info = movies[movies['movieId'] == movie_id]\n",
    "                if not movie_info.empty:\n",
    "                    title = movie_info['title'].iloc[0]\n",
    "                    year = movie_info['year'].iloc[0]\n",
    "                    genres = ', '.join(movie_info['genres'].iloc[0])\n",
    "                    \n",
    "                    bayesian_score = bayesian_avg_ratings[\n",
    "                        bayesian_avg_ratings['movieId'] == movie_id\n",
    "                    ]['bayesian_avg'].values[0]\n",
    "                    \n",
    "                    print(f\"   {i+1:2d}. {title} ({year}) - Score: {bayesian_score:.2f}\")\n",
    "                    print(f\"       Gêneros: {genres}\")\n",
    "        \n",
    "        return cluster_recommendations\n",
    "    \n",
    "    else:\n",
    "        print(f\"\\n2. USUÁRIO NÃO TEM DADOS SUFICIENTES PARA CLUSTERIZAÇÃO\")\n",
    "        print(f\"   Tentando recomendações pelo método tradicional...\")\n",
    "        \n",
    "        # Fallback para método tradicional se não estiver nos clusters\n",
    "        traditional_recommendations = get_recommendations_for_user(\n",
    "            user_id, X_norm, user_mapper_norm, movie_mapper_norm, \n",
    "            movie_inv_mapper_norm, bayesian_avg_ratings, \n",
    "            n_recommendations=n_recommendations, min_year=min_year\n",
    "        )\n",
    "        \n",
    "        if traditional_recommendations:\n",
    "            print(f\"\\n3. RECOMENDAÇÕES TRADICIONAIS:\")\n",
    "            for i, movie_id in enumerate(traditional_recommendations):\n",
    "                movie_info = movies[movies['movieId'] == movie_id]\n",
    "                if not movie_info.empty:\n",
    "                    title = movie_info['title'].iloc[0]\n",
    "                    year = movie_info['year'].iloc[0]\n",
    "                    print(f\"   {i+1:2d}. {title} ({year})\")\n",
    "        \n",
    "        return traditional_recommendations\n",
    "\n",
    "# Exemplo de uso da função\n",
    "print(\"\\nTESTANDO A FUNÇÃO COM DIFERENTES USUÁRIOS:\")\n",
    "print(\"=\"*50)\n",
    "\n",
    "# Teste com usuário 611 (poucas avaliações)\n",
    "_ = recommend_for_user_with_clustering(611, min_year=1980, n_recommendations=8)\n",
    "\n",
    "print(\"\\n\" + \"=\"*50 + \"\\n\")\n",
    "\n",
    "# Teste com um usuário que tem mais avaliações\n",
    "_ = recommend_for_user_with_clustering(1, min_year=1980, n_recommendations=5)"
   ]
  },
  {
   "cell_type": "code",
   "execution_count": 63,
   "metadata": {},
   "outputs": [
    {
     "data": {
      "image/png": "[encoded data removed]",
      "text/plain": [
       "<Figure size 1200x800 with 1 Axes>"
      ]
     },
     "metadata": {},
     "output_type": "display_data"
    },
    {
     "name": "stdout",
     "output_type": "stream",
     "text": [
      "\n",
      "Variância explicada pelos 2 primeiros componentes: 21.4%\n"
     ]
    }
   ],
   "source": [
    "# Visualização dos clusters usando PCA\n",
    "plt.figure(figsize=(12, 8))\n",
    "\n",
    "# Aplicar PCA para reduzir para 2 dimensões para visualização\n",
    "pca = PCA(n_components=2, random_state=42)\n",
    "profiles_pca = pca.fit_transform(scaled_profiles)\n",
    "\n",
    "# Criar scatter plot dos clusters\n",
    "colors = plt.cm.tab10(np.linspace(0, 1, len(np.unique(cluster_labels))))\n",
    "\n",
    "for i, cluster_id in enumerate(np.unique(cluster_labels)):\n",
    "    cluster_mask = cluster_labels == cluster_id\n",
    "    plt.scatter(profiles_pca[cluster_mask, 0], profiles_pca[cluster_mask, 1], \n",
    "                c=[colors[i]], label=f'Cluster {cluster_id}', alpha=0.6)\n",
    "\n",
    "# Destacar usuário 611 se estiver presente\n",
    "if 611 in user_profiles_df.index:\n",
    "    user_611_idx = list(user_profiles_df.index).index(611)\n",
    "    user_611_cluster = user_profiles_df.loc[611, 'cluster']\n",
    "    plt.scatter(profiles_pca[user_611_idx, 0], profiles_pca[user_611_idx, 1], \n",
    "                c='red', s=200, marker='*', edgecolors='black', linewidth=2,\n",
    "                label=f'Usuário 611 (Cluster {user_611_cluster})')\n",
    "\n",
    "plt.xlabel(f'PC1 ({pca.explained_variance_ratio_[0]:.1%} da variância)')\n",
    "plt.ylabel(f'PC2 ({pca.explained_variance_ratio_[1]:.1%} da variância)')\n",
    "plt.title('Visualização dos Clusters de Usuários (PCA)')\n",
    "plt.legend(bbox_to_anchor=(1.05, 1), loc='upper left')\n",
    "plt.grid(True, alpha=0.3)\n",
    "plt.tight_layout()\n",
    "plt.show()\n",
    "\n",
    "print(f\"\\nVariância explicada pelos 2 primeiros componentes: {pca.explained_variance_ratio_.sum():.1%}\")"
   ]
  },
  {
   "cell_type": "markdown",
   "metadata": {},
   "source": [
    "## Conclusões sobre Clusterização de Usuários\n",
    "\n",
    "A clusterização de usuários baseada em preferências de gêneros e padrões de avaliação oferece várias vantagens:\n",
    "\n",
    "### 1. **Melhor tratamento do problema Cold Start**\n",
    "- Usuários com poucas avaliações (como o 611) podem se beneficiar das preferências de usuários similares\n",
    "- O sistema identifica padrões mesmo com dados limitados\n",
    "\n",
    "### 2. **Recomendações mais personalizadas**\n",
    "- Cada cluster representa um \"tipo\" de usuário com preferências similares\n",
    "- As recomendações são baseadas no comportamento coletivo do cluster\n",
    "\n",
    "### 3. **Robustez do sistema**\n",
    "- Combina informações de múltiplos usuários similares\n",
    "- Reduz o impacto de outliers em avaliações individuais\n",
    "\n",
    "### 4. **Escalabilidade**\n",
    "- Uma vez criados os clusters, as recomendações podem ser geradas rapidamente\n",
    "- Novos usuários podem ser facilmente atribuídos a clusters existentes\n",
    "\n",
    "### 5. **Interpretabilidade**\n",
    "- Cada cluster pode ser caracterizado por suas preferências de gênero\n",
    "- Permite entender diferentes \"personas\" de usuários\n",
    "\n",
    "### Como usar este sistema:\n",
    "\n",
    "```python\n",
    "# Para qualquer usuário, usar:\n",
    "recommend_for_user_with_clustering(user_id, min_year=1980, n_recommendations=10)\n",
    "```\n",
    "\n",
    "Este método é especialmente útil para:\n",
    "- **Usuários novos** com poucas avaliações\n",
    "- **Usuários com gostos específicos** que se alinham com um cluster particular\n",
    "- **Sistemas que precisam explicar** por que uma recomendação foi feita (\"usuários como você gostaram destes filmes\")"
   ]
  }
 ],
 "metadata": {
  "colab": {
   "include_colab_link": true,
   "provenance": []
  },
  "kernelspec": {
   "display_name": "base",
   "language": "python",
   "name": "python3"
  },
  "language_info": {
   "codemirror_mode": {
    "name": "ipython",
    "version": 3
   },
   "file_extension": ".py",
   "mimetype": "text/x-python",
   "name": "python",
   "nbconvert_exporter": "python",
   "pygments_lexer": "ipython3",
   "version": "3.12.7"
  }
 },
 "nbformat": 4,
 "nbformat_minor": 0
}
