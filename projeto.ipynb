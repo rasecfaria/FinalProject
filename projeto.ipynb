{
 "cells": [
  {
   "cell_type": "markdown",
   "metadata": {
    "colab_type": "text",
    "id": "view-in-github"
   },
   "source": [
    "<a href=\"https://colab.research.google.com/github/rasecfaria/FinalProject/blob/main/projeto.ipynb\" target=\"_parent\"><img src=\"https://colab.research.google.com/assets/colab-badge.svg\" alt=\"Open In Colab\"/></a>"
   ]
  },
  {
   "cell_type": "markdown",
   "metadata": {
    "id": "0C84Y_PACfui"
   },
   "source": []
  },
  {
   "cell_type": "markdown",
   "metadata": {
    "id": "y_dYxZFGB45b"
   },
   "source": [
    "# `Sistema de Recomendação de Filmes` 🎬"
   ]
  },
  {
   "cell_type": "markdown",
   "metadata": {},
   "source": [
    "Este notebook implementa um sistema de recomendação de filmes utilizando dois métodos diferentes:\n",
    "1. **Filtragem colaborativa** - baseada nas avaliações dos usuários\n",
    "2. **Recomendação baseada em conteúdo** - utilizando gêneros e tags dos filmes\n",
    "\n",
    "O dataset utilizado é o [MovieLens](https://grouplens.org/datasets/movielens/) que contém avaliações de filmes feitas por usuários. Este notebook demonstra conceitos importantes de sistemas de recomendação, que podem ser aplicados em diferentes contextos."
   ]
  },
  {
   "cell_type": "code",
   "execution_count": null,
   "metadata": {
    "id": "uViUY7H9Dzfd"
   },
   "outputs": [],
   "source": [
    "# Importar bibliotecas necessárias\n",
    "import pandas as pd\n",
    "import numpy as np\n",
    "import os"
   ]
  },
  {
   "cell_type": "markdown",
   "metadata": {
    "id": "oyejBZr4CB5e"
   },
   "source": [
    "## 1. Carregamento e Análise dos Dados\n",
    "\n",
    "Primeiro, vamos carregar os datasets e explorar sua estrutura."
   ]
  },
  {
   "cell_type": "code",
   "execution_count": null,
   "metadata": {
    "id": "e49-k2ghELqE"
   },
   "outputs": [],
   "source": [
    "def carregar_dados(diretorio_dados='ml-latest-small'):\n",
    "    \"\"\"Carrega os datasets necessários para o sistema de recomendação\"\"\"\n",
    "    print(\"Carregando dados...\")\n",
    "    \n",
    "    # Caminhos para os arquivos\n",
    "    path_movies = os.path.join(diretorio_dados, 'movies.csv')\n",
    "    path_ratings = os.path.join(diretorio_dados, 'ratings.csv')\n",
    "    path_tags = os.path.join(diretorio_dados, 'tags.csv')\n",
    "    path_dados = os.path.join(diretorio_dados, 'dados.csv')\n",
    "    \n",
    "    # Carregar datasets principais\n",
    "    movies = pd.read_csv(path_movies)\n",
    "    ratings = pd.read_csv(path_ratings)\n",
    "    \n",
    "    # Remover timestamp dos ratings pois não será utilizado\n",
    "    ratings = ratings[['userId', 'movieId', 'rating']]\n",
    "    \n",
    "    # Informações sobre os datasets carregados\n",
    "    print(f\"Dimensões do dataset de filmes: {movies.shape}\")\n",
    "    print(f\"Dimensões do dataset de avaliações: {ratings.shape}\")\n",
    "    \n",
    "    # Carregar datasets adicionais para recomendação baseada em conteúdo\n",
    "    try:\n",
    "        tags = pd.read_csv(path_tags)\n",
    "        dados = pd.read_csv(path_dados)\n",
    "        print(f\"Dimensões do dataset de tags: {tags.shape}\")\n",
    "        return movies, ratings, tags, dados\n",
    "    except Exception as e:\n",
    "        print(f\"Aviso: Não foi possível carregar dados adicionais: {e}\")\n",
    "        return movies, ratings, None, None\n",
    "\n",
    "# Carregar os datasets\n",
    "movies, ratings, tags, dados = carregar_dados()\n",
    "\n",
    "# Exibir exemplos dos datasets\n",
    "print(\"\\nPrimeiras linhas do dataset de filmes:\")\n",
    "movies.head()"
   ]
  },
  {
   "cell_type": "code",
   "execution_count": null,
   "metadata": {
    "id": "B1YoDr9lZgkW"
   },
   "outputs": [],
   "source": [
    "# Exibir as primeiras linhas do dataset de avaliações\n",
    "print(\"Dataset de avaliações:\")\n",
    "ratings.head()"
   ]
  },
  {
   "cell_type": "code",
   "execution_count": null,
   "metadata": {
    "colab": {
     "base_uri": "https://localhost:8080/"
    },
    "id": "x36aSlGADAWM",
    "outputId": "8a6a1d07-02c7-43ad-a138-4fdc240c9506"
   },
   "outputs": [
    {
     "data": {
      "text/plain": [
       "(100836, 3)"
      ]
     },
     "execution_count": 7,
     "metadata": {},
     "output_type": "execute_result"
    }
   ],
   "source": [
    "# Análise do número de avaliações por usuário\n",
    "usuario_ratings = ratings['userId'].value_counts()\n",
    "\n",
    "print(f\"Número médio de avaliações por usuário: {usuario_ratings.mean():.2f}\")\n",
    "print(f\"Número máximo de avaliações feitas por um usuário: {usuario_ratings.max()}\")\n",
    "print(f\"Número mínimo de avaliações feitas por um usuário: {usuario_ratings.min()}\")\n",
    "\n",
    "# Visualizar a distribuição de avaliações pelos top 10 usuários mais ativos\n",
    "usuario_ratings.head(10)"
   ]
  },
  {
   "cell_type": "code",
   "execution_count": null,
   "metadata": {
    "id": "gqY5jW04bpce"
   },
   "outputs": [],
   "source": [
    "# Juntar os datasets de filmes e avaliações para análise\n",
    "df = movies.merge(ratings, on='movieId')\n",
    "print(f\"Dimensões do dataframe mesclado: {df.shape}\")\n",
    "df.head()"
   ]
  },
  {
   "cell_type": "markdown",
   "metadata": {
    "id": "VCI-7tAlEqr3"
   },
   "source": [
    "## 2. Método de Filtragem Colaborativa\n",
    "\n",
    "A filtragem colaborativa baseia-se na premissa de que usuários que concordaram no passado também concordarão no futuro. Neste caso, vamos usar a técnica de item-item collaborative filtering, onde comparamos a similaridade entre filmes baseado nas avaliações dadas pelos usuários."
   ]
  },
  {
   "cell_type": "code",
   "execution_count": null,
   "metadata": {
    "id": "vC1gihoqEy5_"
   },
   "outputs": [],
   "source": [
    "def preparar_dados_colaborativos(movies, ratings):\n",
    "    \"\"\"Prepara os dados para filtragem colaborativa\"\"\"\n",
    "    print(\"Preparando dados para filtragem colaborativa...\")\n",
    "    \n",
    "    # Mesclar datasets de filmes e avaliações\n",
    "    df = movies.merge(ratings, on='movieId')\n",
    "    \n",
    "    # Criar tabela pivot: filmes x usuários com valores de avaliações\n",
    "    movies_table = df.pivot_table(index='title', columns='userId', values='rating').fillna(0)\n",
    "    \n",
    "    print(f\"Tabela pivot criada com dimensões: {movies_table.shape}\")\n",
    "    return movies_table\n",
    "\n",
    "# Criar tabela pivot para filtragem colaborativa\n",
    "movies_table = preparar_dados_colaborativos(movies, ratings)\n",
    "movies_table.head(5)"
   ]
  },
  {
   "cell_type": "code",
   "execution_count": null,
   "metadata": {
    "id": "BmqMrBssoHNV"
   },
   "outputs": [],
   "source": [
    "# Importar função para calcular similaridade\n",
    "from sklearn.metrics.pairwise import cosine_similarity"
   ]
  },
  {
   "cell_type": "code",
   "execution_count": null,
   "metadata": {
    "id": "KE8zXSdnoZ1N"
   },
   "outputs": [],
   "source": [
    "def filtragem_colaborativa(movies_table, filme_referencia='Forrest Gump'):\n",
    "    \"\"\"Implementa o método de filtragem colaborativa usando similaridade de cosseno\"\"\"\n",
    "    print(f\"Calculando filmes similares a '{filme_referencia}' usando filtragem colaborativa...\")\n",
    "    \n",
    "    # Calcular similaridade de cosseno entre todos os filmes\n",
    "    rec = cosine_similarity(movies_table)\n",
    "    rec_df = pd.DataFrame(rec, columns=movies_table.index, index=movies_table.index)\n",
    "    \n",
    "    # Filtrar e ordenar filmes similares ao filme de referência\n",
    "    if filme_referencia in rec_df.columns:\n",
    "        cossine_df = pd.DataFrame(rec_df[filme_referencia].sort_values(ascending=False))\n",
    "        cossine_df.columns = ['recomendações']\n",
    "        return cossine_df\n",
    "    else:\n",
    "        print(f\"Erro: Filme '{filme_referencia}' não encontrado no dataset.\")\n",
    "        return None\n",
    "\n",
    "# Calcular similaridade de cosseno entre todos os filmes\n",
    "# Isso indica a similaridade entre cada filme, onde valores próximos de 1 indicam alta similaridade\n",
    "rec = cosine_similarity(movies_table)\n",
    "rec_df = pd.DataFrame(rec, columns=movies_table.index, index=movies_table.index)\n",
    "print(\"Amostra da matriz de similaridade:\")\n",
    "rec_df.iloc[:5, :5]"
   ]
  },
  {
   "cell_type": "code",
   "execution_count": null,
   "metadata": {
    "id": "R0MemD-GrRZ-"
   },
   "outputs": [],
   "source": [
    "# Obter recomendações para um filme específico usando filtragem colaborativa\n",
    "filme_referencia = 'Forrest Gump'\n",
    "recomendacoes_colaborativas = filtragem_colaborativa(movies_table, filme_referencia)\n",
    "\n",
    "print(f\"\\nTop 10 recomendações para '{filme_referencia}' usando filtragem colaborativa:\")\n",
    "recomendacoes_colaborativas.head(10)"
   ]
  },
  {
   "cell_type": "markdown",
   "metadata": {
    "id": "x3tNF9i6u4lH"
   },
   "source": [
    "## 3. Método Baseado em Conteúdo\n",
    "\n",
    "O método de recomendação baseado em conteúdo utiliza características dos filmes para encontrar similaridades. Neste caso, usaremos principalmente os gêneros e, quando disponíveis, as tags dos filmes."
   ]
  },
  {
   "cell_type": "code",
   "execution_count": null,
   "metadata": {
    "id": "uyflxa6kvFr3"
   },
   "outputs": [],
   "source": [
    "# Importar bibliotecas para processamento de texto e similaridade\n",
    "from sklearn.feature_extraction.text import TfidfVectorizer"
   ]
  },
  {
   "cell_type": "code",
   "execution_count": null,
   "metadata": {
    "id": "QpwU0xtDyKn3"
   },
   "outputs": [],
   "source": [
    "if tags is not None:\n",
    "    # Visualizar as primeiras linhas do dataset de tags\n",
    "    print(\"Dataset de tags:\")\n",
    "    tags.head()\n",
    "else:\n",
    "    print(\"Dataset de tags não disponível\")"
   ]
  },
  {
   "cell_type": "code",
   "execution_count": null,
   "metadata": {
    "colab": {
     "base_uri": "https://localhost:8080/"
    },
    "id": "lPFrAD3l0Llk",
    "outputId": "5d775ce4-bb96-437e-9d85-d9f18798f749"
   },
   "outputs": [
    {
     "data": {
      "text/plain": [
       "(45256, 2)"
      ]
     },
     "execution_count": 83,
     "metadata": {},
     "output_type": "execute_result"
    }
   ],
   "source": [
    "def preparar_dados_conteudo(movies, tags, dados):\n",
    "    \"\"\"Prepara os dados para recomendação baseada em conteúdo\"\"\"\n",
    "    print(\"Preparando dados para recomendação baseada em conteúdo...\")\n",
    "    \n",
    "    # Converter movieId para string para garantir o merge correto\n",
    "    movies['movieId'] = movies['movieId'].apply(lambda x: str(x))\n",
    "    \n",
    "    # Converter movieId em tags também para evitar erros de tipo\n",
    "    tags_copy = tags.copy()\n",
    "    tags_copy['movieId'] = tags_copy['movieId'].apply(lambda x: str(x))\n",
    "    \n",
    "    # Mesclar datasets para criar um único DataFrame enriquecido\n",
    "    df2 = movies.merge(dados, left_on='title', right_on='Name', how='left')\n",
    "    df2 = df2.merge(tags_copy, left_on='movieId', right_on='movieId', how='left')\n",
    "    \n",
    "    # Usar gêneros como base para informações de conteúdo\n",
    "    # Poderia ser expandido para incluir descrições e tags\n",
    "    df2['Infos'] = df2['genres']  # + str(df2['Discription']) + df2['tag']\n",
    "    \n",
    "    print(f\"Dataset baseado em conteúdo preparado com dimensões: {df2.shape}\")\n",
    "    return df2\n",
    "\n",
    "# Converter movieId para string para garantir o merge correto\n",
    "movies['movieId'] = movies['movieId'].apply(lambda x: str(x))"
   ]
  },
  {
   "cell_type": "code",
   "execution_count": null,
   "metadata": {
    "id": "A7ZmE42T4_HM"
   },
   "outputs": [],
   "source": [
    "if tags is not None and dados is not None:\n",
    "    # Preparar dataset para recomendação baseada em conteúdo\n",
    "    df2 = preparar_dados_conteudo(movies, tags, dados)\n",
    "    df2.head()\n",
    "else:\n",
    "    print(\"Dados insuficientes para recomendação baseada em conteúdo\")"
   ]
  },
  {
   "cell_type": "code",
   "execution_count": null,
   "metadata": {
    "colab": {
     "base_uri": "https://localhost:8080/",
     "height": 469
    },
    "id": "kQgT--tA3eD5",
    "outputId": "ab971fe0-6040-49e5-823e-d845808e7601"
   },
   "outputs": [
    {
     "data": {
      "application/vnd.google.colaboratory.intrinsic+json": {
       "summary": "{\n  \"name\": \"df2\",\n  \"rows\": 10035,\n  \"fields\": [\n    {\n      \"column\": \"movieId\",\n      \"properties\": {\n        \"dtype\": \"string\",\n        \"num_unique_values\": 9737,\n        \"samples\": [\n          \"113378\",\n          \"4641\",\n          \"4024\"\n        ],\n        \"semantic_type\": \"\",\n        \"description\": \"\"\n      }\n    },\n    {\n      \"column\": \"title\",\n      \"properties\": {\n        \"dtype\": \"string\",\n        \"num_unique_values\": 9459,\n        \"samples\": [\n          \"Burden of Dreams\",\n          \"Girls! Girls! Girls!\",\n          \"The Man from Nowhere\"\n        ],\n        \"semantic_type\": \"\",\n        \"description\": \"\"\n      }\n    },\n    {\n      \"column\": \"genres\",\n      \"properties\": {\n        \"dtype\": \"category\",\n        \"num_unique_values\": 951,\n        \"samples\": [\n          \"Crime|Mystery|Romance|Thriller\",\n          \"Action|Adventure|Comedy|Western\",\n          \"Crime|Drama|Musical\"\n        ],\n        \"semantic_type\": \"\",\n        \"description\": \"\"\n      }\n    },\n    {\n      \"column\": \"year\",\n      \"properties\": {\n        \"dtype\": \"category\",\n        \"num_unique_values\": 127,\n        \"samples\": [\n          \"1943\",\n          \"014)\",\n          \"2002\"\n        ],\n        \"semantic_type\": \"\",\n        \"description\": \"\"\n      }\n    },\n    {\n      \"column\": \"Name\",\n      \"properties\": {\n        \"dtype\": \"category\",\n        \"num_unique_values\": 3932,\n        \"samples\": [\n          \"We Were Soldiers\",\n          \"Sugar & Spice\",\n          \"Missing\"\n        ],\n        \"semantic_type\": \"\",\n        \"description\": \"\"\n      }\n    },\n    {\n      \"column\": \"Year\",\n      \"properties\": {\n        \"dtype\": \"category\",\n        \"num_unique_values\": 97,\n        \"samples\": [\n          \"2001\",\n          \"1997ovie\",\n          \"2006hort\"\n        ],\n        \"semantic_type\": \"\",\n        \"description\": \"\"\n      }\n    },\n    {\n      \"column\": \"Stars\",\n      \"properties\": {\n        \"dtype\": \"number\",\n        \"std\": 0.9547299178370586,\n        \"min\": 1.8,\n        \"max\": 8.9,\n        \"num_unique_values\": 71,\n        \"samples\": [\n          6.7,\n          8.3,\n          2.7\n        ],\n        \"semantic_type\": \"\",\n        \"description\": \"\"\n      }\n    },\n    {\n      \"column\": \"Score\",\n      \"properties\": {\n        \"dtype\": \"number\",\n        \"std\": 17.460828381995285,\n        \"min\": 1.0,\n        \"max\": 97.0,\n        \"num_unique_values\": 91,\n        \"samples\": [\n          51.0,\n          1.0,\n          90.0\n        ],\n        \"semantic_type\": \"\",\n        \"description\": \"\"\n      }\n    },\n    {\n      \"column\": \"Time\",\n      \"properties\": {\n        \"dtype\": \"category\",\n        \"num_unique_values\": 146,\n        \"samples\": [\n          \"83 \",\n          \"161 \",\n          \"239 \"\n        ],\n        \"semantic_type\": \"\",\n        \"description\": \"\"\n      }\n    },\n    {\n      \"column\": \"Votes\",\n      \"properties\": {\n        \"dtype\": \"category\",\n        \"num_unique_values\": 4014,\n        \"samples\": [\n          \"5,061\",\n          \"21,819\",\n          \"8,944\"\n        ],\n        \"semantic_type\": \"\",\n        \"description\": \"\"\n      }\n    },\n    {\n      \"column\": \"Total\",\n      \"properties\": {\n        \"dtype\": \"category\",\n        \"num_unique_values\": 2763,\n        \"samples\": [\n          \"$21.16\",\n          \"$57.06\",\n          \"$134.53\"\n        ],\n        \"semantic_type\": \"\",\n        \"description\": \"\"\n      }\n    },\n    {\n      \"column\": \"Tags\",\n      \"properties\": {\n        \"dtype\": \"category\",\n        \"num_unique_values\": 352,\n        \"samples\": [\n          \"\\\\nComedy Drama Sport            \",\n          \"\\\\nAction Comedy Drama            \",\n          \"\\\\nAction Crime Sci-Fi            \"\n        ],\n        \"semantic_type\": \"\",\n        \"description\": \"\"\n      }\n    },\n    {\n      \"column\": \"Directors_Cast\",\n      \"properties\": {\n        \"dtype\": \"category\",\n        \"num_unique_values\": 4096,\n        \"samples\": [\n          \"Carroll Ballard Charles Martin Smith Brian Dennehy Zachary Ittimangnaq Samson Jorah\",\n          \"David Raynr Shane West Marla Sokoloff Jodi Lyn OKeefe Manu Intiraymi\",\n          \"Darren Aronofsky Russell Crowe Jennifer Connelly Anthony Hopkins Emma Watson\"\n        ],\n        \"semantic_type\": \"\",\n        \"description\": \"\"\n      }\n    },\n    {\n      \"column\": \"Discription\",\n      \"properties\": {\n        \"dtype\": \"category\",\n        \"num_unique_values\": 3389,\n        \"samples\": [\n          \"\\\\nWhen an Ivy League-educated C.I.A. Agent is killed during an operation the secret agency recruits his twin brother Chris Rock.\",\n          \"\\\\nWhen an uptight young man and his fianc\\u00e9e move into his libertine mothers house the resulting clash of life attitudes shakes everyone up.\",\n          \"\\\\nTeenagers at a juvenile detention center under the leadership of their counselor gain self-esteem by playing football together.\"\n        ],\n        \"semantic_type\": \"\",\n        \"description\": \"\"\n      }\n    },\n    {\n      \"column\": \"tag\",\n      \"properties\": {\n        \"dtype\": \"string\",\n        \"num_unique_values\": 9232,\n        \"samples\": [\n          \"barn,cat,chicken,dog,fight,milk,pig,survival,animal cruelty,real animal deaths,animals,cats,dogs,relaxing,soundtrack,animal cruelty,controversial,Heartwarming,real animal deaths,Masanori Hata,itaege,cats,Heartwarming,cat,dog,Cute animals,Little dialogue,Kawaii,cats,cats and dogs,Cute animals,dogs,heartwarming,kids\",\n          \"Heartbreaking,Sad,boring,mawkish,Nicolas Cage,sentimental,Meg Ryan,sentimental,stupid character,afterlife,angel,desperation,faith,heaven,interspecies romance,life and death,los angeles,operation,suicide,love story,Good music,Meg Ryan,angel,remake,angel,Meg Ryan,Nicholas Cage,mawkish,love story,angel,quotable,Brad Silberling,angel,love story,CLV,angel,love story,Meg Ryan,a list,Pam's list,Nicholas Cage,Nicolas Cage,angel,angels,seen at the cinema,angel,Bibliothek,Impersonation,Meg Ryan,Meg Ryan,Nicholas Cage,Death,Meg Ryan,Nicolas Cage,remake,Nicolas Cage,Meg Ryan,Nicholas Cage,SUPERNATURAL ROMANCE,Bibliothek,angels,Meg Ryan,Meg Ryan,Nicolas Cage,stupid character,hard choice,Death,ending kinda ruined it,angel,angels,Brad Silberling,love story,male nudity,male rear nudity,Meg Ryan,Nicolas Cage,religion,remake,sentimental\",\n          \"DJ Shadow,Homeless,addiction,New York City,addiction,Amtrak,documentary,Homeless,To See,New York City,trains,netflixbacklist,Marc Singer,homelessness,intelligent,Marc Singer,documentary,3.5,addiction,Amtrak,documentary,foul language,Homeless,homelessness,New York,New York City,sad,Train,trains,addiction,documentary,foul language\"\n        ],\n        \"semantic_type\": \"\",\n        \"description\": \"\"\n      }\n    },\n    {\n      \"column\": \"Infos\",\n      \"properties\": {\n        \"dtype\": \"category\",\n        \"num_unique_values\": 951,\n        \"samples\": [\n          \"Crime|Mystery|Romance|Thriller\",\n          \"Action|Adventure|Comedy|Western\",\n          \"Crime|Drama|Musical\"\n        ],\n        \"semantic_type\": \"\",\n        \"description\": \"\"\n      }\n    }\n  ]\n}",
       "type": "dataframe",
       "variable_name": "df2"
      },
      "text/html": [
       "\n",
       "  <div id=\"df-cebc88be-1da3-40eb-9946-1fd50be9656f\" class=\"colab-df-container\">\n",
       "    <div>\n",
       "<style scoped>\n",
       "    .dataframe tbody tr th:only-of-type {\n",
       "        vertical-align: middle;\n",
       "    }\n",
       "\n",
       "    .dataframe tbody tr th {\n",
       "        vertical-align: top;\n",
       "    }\n",
       "\n",
       "    .dataframe thead th {\n",
       "        text-align: right;\n",
       "    }\n",
       "</style>\n",
       "<table border=\"1\" class=\"dataframe\">\n",
       "  <thead>\n",
       "    <tr style=\"text-align: right;\">\n",
       "      <th></th>\n",
       "      <th>movieId</th>\n",
       "      <th>title</th>\n",
       "      <th>genres</th>\n",
       "      <th>year</th>\n",
       "      <th>Name</th>\n",
       "      <th>Year</th>\n",
       "      <th>Stars</th>\n",
       "      <th>Score</th>\n",
       "      <th>Time</th>\n",
       "      <th>Votes</th>\n",
       "      <th>Total</th>\n",
       "      <th>Tags</th>\n",
       "      <th>Directors_Cast</th>\n",
       "      <th>Discription</th>\n",
       "      <th>tag</th>\n",
       "      <th>Infos</th>\n",
       "    </tr>\n",
       "  </thead>\n",
       "  <tbody>\n",
       "    <tr>\n",
       "      <th>0</th>\n",
       "      <td>1</td>\n",
       "      <td>Toy Story</td>\n",
       "      <td>Adventure|Animation|Children|Comedy|Fantasy</td>\n",
       "      <td>1995</td>\n",
       "      <td>Toy Story</td>\n",
       "      <td>1995</td>\n",
       "      <td>8.3</td>\n",
       "      <td>95.0</td>\n",
       "      <td>81</td>\n",
       "      <td>908,794</td>\n",
       "      <td>$191.80</td>\n",
       "      <td>\\nAnimation Adventure Comedy</td>\n",
       "      <td>John Lasseter Tom Hanks Tim Allen Don Rickles ...</td>\n",
       "      <td>\\nA cowboy doll is profoundly threatened and j...</td>\n",
       "      <td>Owned,imdb top 250,Pixar,Pixar,time travel,chi...</td>\n",
       "      <td>Adventure|Animation|Children|Comedy|Fantasy</td>\n",
       "    </tr>\n",
       "    <tr>\n",
       "      <th>1</th>\n",
       "      <td>2</td>\n",
       "      <td>Jumanji</td>\n",
       "      <td>Adventure|Children|Fantasy</td>\n",
       "      <td>1995</td>\n",
       "      <td>Jumanji</td>\n",
       "      <td>1995</td>\n",
       "      <td>7.0</td>\n",
       "      <td>39.0</td>\n",
       "      <td>104</td>\n",
       "      <td>316,485</td>\n",
       "      <td>$100.48</td>\n",
       "      <td>\\nAdventure Comedy Family</td>\n",
       "      <td>Joe Johnston Robin Williams Kirsten Dunst Bonn...</td>\n",
       "      <td>\\nWhen two kids find and play a magical board ...</td>\n",
       "      <td>Robin Williams,time travel,fantasy,based on ch...</td>\n",
       "      <td>Adventure|Children|Fantasy</td>\n",
       "    </tr>\n",
       "    <tr>\n",
       "      <th>2</th>\n",
       "      <td>3</td>\n",
       "      <td>Grumpier Old Men</td>\n",
       "      <td>Comedy|Romance</td>\n",
       "      <td>1995</td>\n",
       "      <td>NaN</td>\n",
       "      <td>NaN</td>\n",
       "      <td>NaN</td>\n",
       "      <td>NaN</td>\n",
       "      <td>NaN</td>\n",
       "      <td>NaN</td>\n",
       "      <td>NaN</td>\n",
       "      <td>NaN</td>\n",
       "      <td>NaN</td>\n",
       "      <td>NaN</td>\n",
       "      <td>funny,best friend,duringcreditsstinger,fishing...</td>\n",
       "      <td>Comedy|Romance</td>\n",
       "    </tr>\n",
       "    <tr>\n",
       "      <th>3</th>\n",
       "      <td>4</td>\n",
       "      <td>Waiting to Exhale</td>\n",
       "      <td>Comedy|Drama|Romance</td>\n",
       "      <td>1995</td>\n",
       "      <td>Waiting to Exhale</td>\n",
       "      <td>1995</td>\n",
       "      <td>6.0</td>\n",
       "      <td>NaN</td>\n",
       "      <td>124</td>\n",
       "      <td>9,911</td>\n",
       "      <td>$67.05</td>\n",
       "      <td>\\nComedy Drama Romance</td>\n",
       "      <td>Forest Whitaker Whitney Houston Angela Bassett...</td>\n",
       "      <td>NaN</td>\n",
       "      <td>based on novel or book,chick flick,divorce,int...</td>\n",
       "      <td>Comedy|Drama|Romance</td>\n",
       "    </tr>\n",
       "    <tr>\n",
       "      <th>4</th>\n",
       "      <td>5</td>\n",
       "      <td>Father of the Bride Part II</td>\n",
       "      <td>Comedy</td>\n",
       "      <td>1995</td>\n",
       "      <td>Father of the Bride Part II</td>\n",
       "      <td>1995</td>\n",
       "      <td>6.1</td>\n",
       "      <td>49.0</td>\n",
       "      <td>106</td>\n",
       "      <td>35,472</td>\n",
       "      <td>$76.59</td>\n",
       "      <td>\\nComedy Family Romance</td>\n",
       "      <td>Charles Shyer Steve Martin Diane Keaton Martin...</td>\n",
       "      <td>\\nGeorge Banks must deal not only with the pre...</td>\n",
       "      <td>aging,baby,confidence,contraception,daughter,g...</td>\n",
       "      <td>Comedy</td>\n",
       "    </tr>\n",
       "  </tbody>\n",
       "</table>\n",
       "</div>\n",
       "    <div class=\"colab-df-buttons\">\n",
       "\n",
       "  <div class=\"colab-df-container\">\n",
       "    <button class=\"colab-df-convert\" onclick=\"convertToInteractive('df-cebc88be-1da3-40eb-9946-1fd50be9656f')\"\n",
       "            title=\"Convert this dataframe to an interactive table.\"\n",
       "            style=\"display:none;\">\n",
       "\n",
       "  <svg xmlns=\"http://www.w3.org/2000/svg\" height=\"24px\" viewBox=\"0 -960 960 960\">\n",
       "    <path d=\"M120-120v-720h720v720H120Zm60-500h600v-160H180v160Zm220 220h160v-160H400v160Zm0 220h160v-160H400v160ZM180-400h160v-160H180v160Zm440 0h160v-160H620v160ZM180-180h160v-160H180v160Zm440 0h160v-160H620v160Z\"/>\n",
       "  </svg>\n",
       "    </button>\n",
       "\n",
       "  <style>\n",
       "    .colab-df-container {\n",
       "      display:flex;\n",
       "      gap: 12px;\n",
       "    }\n",
       "\n",
       "    .colab-df-convert {\n",
       "      background-color: #E8F0FE;\n",
       "      border: none;\n",
       "      border-radius: 50%;\n",
       "      cursor: pointer;\n",
       "      display: none;\n",
       "      fill: #1967D2;\n",
       "      height: 32px;\n",
       "      padding: 0 0 0 0;\n",
       "      width: 32px;\n",
       "    }\n",
       "\n",
       "    .colab-df-convert:hover {\n",
       "      background-color: #E2EBFA;\n",
       "      box-shadow: 0px 1px 2px rgba(60, 64, 67, 0.3), 0px 1px 3px 1px rgba(60, 64, 67, 0.15);\n",
       "      fill: #174EA6;\n",
       "    }\n",
       "\n",
       "    .colab-df-buttons div {\n",
       "      margin-bottom: 4px;\n",
       "    }\n",
       "\n",
       "    [theme=dark] .colab-df-convert {\n",
       "      background-color: #3B4455;\n",
       "      fill: #D2E3FC;\n",
       "    }\n",
       "\n",
       "    [theme=dark] .colab-df-convert:hover {\n",
       "      background-color: #434B5C;\n",
       "      box-shadow: 0px 1px 3px 1px rgba(0, 0, 0, 0.15);\n",
       "      filter: drop-shadow(0px 1px 2px rgba(0, 0, 0, 0.3));\n",
       "      fill: #FFFFFF;\n",
       "    }\n",
       "  </style>\n",
       "\n",
       "    <script>\n",
       "      const buttonEl =\n",
       "        document.querySelector('#df-cebc88be-1da3-40eb-9946-1fd50be9656f button.colab-df-convert');\n",
       "      buttonEl.style.display =\n",
       "        google.colab.kernel.accessAllowed ? 'block' : 'none';\n",
       "\n",
       "      async function convertToInteractive(key) {\n",
       "        const element = document.querySelector('#df-cebc88be-1da3-40eb-9946-1fd50be9656f');\n",
       "        const dataTable =\n",
       "          await google.colab.kernel.invokeFunction('convertToInteractive',\n",
       "                                                    [key], {});\n",
       "        if (!dataTable) return;\n",
       "\n",
       "        const docLinkHtml = 'Like what you see? Visit the ' +\n",
       "          '<a target=\"_blank\" href=https://colab.research.google.com/notebooks/data_table.ipynb>data table notebook</a>'\n",
       "          + ' to learn more about interactive tables.';\n",
       "        element.innerHTML = '';\n",
       "        dataTable['output_type'] = 'display_data';\n",
       "        await google.colab.output.renderOutput(dataTable, element);\n",
       "        const docLink = document.createElement('div');\n",
       "        docLink.innerHTML = docLinkHtml;\n",
       "        element.appendChild(docLink);\n",
       "      }\n",
       "    </script>\n",
       "  </div>\n",
       "\n",
       "\n",
       "<div id=\"df-4687a161-31d4-48ed-9eec-7144c7c86f8a\">\n",
       "  <button class=\"colab-df-quickchart\" onclick=\"quickchart('df-4687a161-31d4-48ed-9eec-7144c7c86f8a')\"\n",
       "            title=\"Suggest charts\"\n",
       "            style=\"display:none;\">\n",
       "\n",
       "<svg xmlns=\"http://www.w3.org/2000/svg\" height=\"24px\"viewBox=\"0 0 24 24\"\n",
       "     width=\"24px\">\n",
       "    <g>\n",
       "        <path d=\"M19 3H5c-1.1 0-2 .9-2 2v14c0 1.1.9 2 2 2h14c1.1 0 2-.9 2-2V5c0-1.1-.9-2-2-2zM9 17H7v-7h2v7zm4 0h-2V7h2v10zm4 0h-2v-4h2v4z\"/>\n",
       "    </g>\n",
       "</svg>\n",
       "  </button>\n",
       "\n",
       "<style>\n",
       "  .colab-df-quickchart {\n",
       "      --bg-color: #E8F0FE;\n",
       "      --fill-color: #1967D2;\n",
       "      --hover-bg-color: #E2EBFA;\n",
       "      --hover-fill-color: #174EA6;\n",
       "      --disabled-fill-color: #AAA;\n",
       "      --disabled-bg-color: #DDD;\n",
       "  }\n",
       "\n",
       "  [theme=dark] .colab-df-quickchart {\n",
       "      --bg-color: #3B4455;\n",
       "      --fill-color: #D2E3FC;\n",
       "      --hover-bg-color: #434B5C;\n",
       "      --hover-fill-color: #FFFFFF;\n",
       "      --disabled-bg-color: #3B4455;\n",
       "      --disabled-fill-color: #666;\n",
       "  }\n",
       "\n",
       "  .colab-df-quickchart {\n",
       "    background-color: var(--bg-color);\n",
       "    border: none;\n",
       "    border-radius: 50%;\n",
       "    cursor: pointer;\n",
       "    display: none;\n",
       "    fill: var(--fill-color);\n",
       "    height: 32px;\n",
       "    padding: 0;\n",
       "    width: 32px;\n",
       "  }\n",
       "\n",
       "  .colab-df-quickchart:hover {\n",
       "    background-color: var(--hover-bg-color);\n",
       "    box-shadow: 0 1px 2px rgba(60, 64, 67, 0.3), 0 1px 3px 1px rgba(60, 64, 67, 0.15);\n",
       "    fill: var(--button-hover-fill-color);\n",
       "  }\n",
       "\n",
       "  .colab-df-quickchart-complete:disabled,\n",
       "  .colab-df-quickchart-complete:disabled:hover {\n",
       "    background-color: var(--disabled-bg-color);\n",
       "    fill: var(--disabled-fill-color);\n",
       "    box-shadow: none;\n",
       "  }\n",
       "\n",
       "  .colab-df-spinner {\n",
       "    border: 2px solid var(--fill-color);\n",
       "    border-color: transparent;\n",
       "    border-bottom-color: var(--fill-color);\n",
       "    animation:\n",
       "      spin 1s steps(1) infinite;\n",
       "  }\n",
       "\n",
       "  @keyframes spin {\n",
       "    0% {\n",
       "      border-color: transparent;\n",
       "      border-bottom-color: var(--fill-color);\n",
       "      border-left-color: var(--fill-color);\n",
       "    }\n",
       "    20% {\n",
       "      border-color: transparent;\n",
       "      border-left-color: var(--fill-color);\n",
       "      border-top-color: var(--fill-color);\n",
       "    }\n",
       "    30% {\n",
       "      border-color: transparent;\n",
       "      border-left-color: var(--fill-color);\n",
       "      border-top-color: var(--fill-color);\n",
       "      border-right-color: var(--fill-color);\n",
       "    }\n",
       "    40% {\n",
       "      border-color: transparent;\n",
       "      border-right-color: var(--fill-color);\n",
       "      border-top-color: var(--fill-color);\n",
       "    }\n",
       "    60% {\n",
       "      border-color: transparent;\n",
       "      border-right-color: var(--fill-color);\n",
       "    }\n",
       "    80% {\n",
       "      border-color: transparent;\n",
       "      border-right-color: var(--fill-color);\n",
       "      border-bottom-color: var(--fill-color);\n",
       "    }\n",
       "    90% {\n",
       "      border-color: transparent;\n",
       "      border-bottom-color: var(--fill-color);\n",
       "    }\n",
       "  }\n",
       "</style>\n",
       "\n",
       "  <script>\n",
       "    async function quickchart(key) {\n",
       "      const quickchartButtonEl =\n",
       "        document.querySelector('#' + key + ' button');\n",
       "      quickchartButtonEl.disabled = true;  // To prevent multiple clicks.\n",
       "      quickchartButtonEl.classList.add('colab-df-spinner');\n",
       "      try {\n",
       "        const charts = await google.colab.kernel.invokeFunction(\n",
       "            'suggestCharts', [key], {});\n",
       "      } catch (error) {\n",
       "        console.error('Error during call to suggestCharts:', error);\n",
       "      }\n",
       "      quickchartButtonEl.classList.remove('colab-df-spinner');\n",
       "      quickchartButtonEl.classList.add('colab-df-quickchart-complete');\n",
       "    }\n",
       "    (() => {\n",
       "      let quickchartButtonEl =\n",
       "        document.querySelector('#df-4687a161-31d4-48ed-9eec-7144c7c86f8a button');\n",
       "      quickchartButtonEl.style.display =\n",
       "        google.colab.kernel.accessAllowed ? 'block' : 'none';\n",
       "    })();\n",
       "  </script>\n",
       "</div>\n",
       "\n",
       "    </div>\n",
       "  </div>\n"
      ],
      "text/plain": [
       "  movieId                        title  \\\n",
       "0       1                    Toy Story   \n",
       "1       2                      Jumanji   \n",
       "2       3             Grumpier Old Men   \n",
       "3       4            Waiting to Exhale   \n",
       "4       5  Father of the Bride Part II   \n",
       "\n",
       "                                        genres  year  \\\n",
       "0  Adventure|Animation|Children|Comedy|Fantasy  1995   \n",
       "1                   Adventure|Children|Fantasy  1995   \n",
       "2                               Comedy|Romance  1995   \n",
       "3                         Comedy|Drama|Romance  1995   \n",
       "4                                       Comedy  1995   \n",
       "\n",
       "                          Name  Year  Stars  Score  Time    Votes    Total  \\\n",
       "0                    Toy Story  1995    8.3   95.0   81   908,794  $191.80   \n",
       "1                      Jumanji  1995    7.0   39.0  104   316,485  $100.48   \n",
       "2                          NaN   NaN    NaN    NaN   NaN      NaN      NaN   \n",
       "3            Waiting to Exhale  1995    6.0    NaN  124     9,911   $67.05   \n",
       "4  Father of the Bride Part II  1995    6.1   49.0  106    35,472   $76.59   \n",
       "\n",
       "                                       Tags  \\\n",
       "0  \\nAnimation Adventure Comedy               \n",
       "1     \\nAdventure Comedy Family               \n",
       "2                                       NaN   \n",
       "3        \\nComedy Drama Romance               \n",
       "4       \\nComedy Family Romance               \n",
       "\n",
       "                                      Directors_Cast  \\\n",
       "0  John Lasseter Tom Hanks Tim Allen Don Rickles ...   \n",
       "1  Joe Johnston Robin Williams Kirsten Dunst Bonn...   \n",
       "2                                                NaN   \n",
       "3  Forest Whitaker Whitney Houston Angela Bassett...   \n",
       "4  Charles Shyer Steve Martin Diane Keaton Martin...   \n",
       "\n",
       "                                         Discription  \\\n",
       "0  \\nA cowboy doll is profoundly threatened and j...   \n",
       "1  \\nWhen two kids find and play a magical board ...   \n",
       "2                                                NaN   \n",
       "3                                                NaN   \n",
       "4  \\nGeorge Banks must deal not only with the pre...   \n",
       "\n",
       "                                                 tag  \\\n",
       "0  Owned,imdb top 250,Pixar,Pixar,time travel,chi...   \n",
       "1  Robin Williams,time travel,fantasy,based on ch...   \n",
       "2  funny,best friend,duringcreditsstinger,fishing...   \n",
       "3  based on novel or book,chick flick,divorce,int...   \n",
       "4  aging,baby,confidence,contraception,daughter,g...   \n",
       "\n",
       "                                         Infos  \n",
       "0  Adventure|Animation|Children|Comedy|Fantasy  \n",
       "1                   Adventure|Children|Fantasy  \n",
       "2                               Comedy|Romance  \n",
       "3                         Comedy|Drama|Romance  \n",
       "4                                       Comedy  "
      ]
     },
     "execution_count": 85,
     "metadata": {},
     "output_type": "execute_result"
    }
   ],
   "source": [
    "def recomendacao_baseada_em_conteudo(df2, filme_referencia='Forrest Gump'):\n",
    "    \"\"\"Implementa o método de recomendação baseada em conteúdo usando TF-IDF e similaridade de cosseno\"\"\"\n",
    "    print(f\"Calculando filmes similares a '{filme_referencia}' baseado em conteúdo...\")\n",
    "    \n",
    "    # Criar matriz TF-IDF\n",
    "    vec = TfidfVectorizer()\n",
    "    tfidf = vec.fit_transform(df2['Infos'].apply(lambda x: np.str_(x)))\n",
    "    print(f\"Matriz TF-IDF criada com dimensões: {tfidf.shape}\")\n",
    "    \n",
    "    # Calcular similaridade de cosseno\n",
    "    sim = cosine_similarity(tfidf)\n",
    "    sim_df2 = pd.DataFrame(sim, columns=df2['title'], index=df2['title'])\n",
    "    \n",
    "    # Filtrar e ordenar filmes similares ao filme de referência\n",
    "    if filme_referencia in sim_df2.columns:\n",
    "        final_df = pd.DataFrame(sim_df2[filme_referencia].sort_values(ascending=False))\n",
    "        final_df.columns = ['recomendações']\n",
    "        return final_df\n",
    "    else:\n",
    "        print(f\"Erro: Filme '{filme_referencia}' não encontrado no dataset.\")\n",
    "        return None\n",
    "\n",
    "if tags is not None and dados is not None:\n",
    "    # Criar matriz TF-IDF para análise de similaridade de texto\n",
    "    vec = TfidfVectorizer()\n",
    "    tfidf = vec.fit_transform(df2['Infos'].apply(lambda x: np.str_(x)))\n",
    "    print(f\"Matriz TF-IDF criada com dimensões: {tfidf.shape}\")"
   ]
  },
  {
   "cell_type": "code",
   "execution_count": null,
   "metadata": {
    "id": "kq56snWS6RIz"
   },
   "outputs": [],
   "source": [
    "if tags is not None and dados is not None:\n",
    "    # Calcular similaridade de cosseno entre conteúdos dos filmes\n",
    "    sim = cosine_similarity(tfidf)\n",
    "    print(f\"Matriz de similaridade baseada em conteúdo criada com dimensões: {sim.shape}\")"
   ]
  },
  {
   "cell_type": "code",
   "execution_count": null,
   "metadata": {},
   "outputs": [],
   "source": [
    "if tags is not None and dados is not None:\n",
    "    # Criar DataFrame com matriz de similaridade\n",
    "    sim_df2 = pd.DataFrame(sim, columns=df2['title'], index=df2['title'])\n",
    "    print(\"Amostra da matriz de similaridade baseada em conteúdo:\")\n",
    "    sim_df2.iloc[:5, :5]"
   ]
  },
  {
   "cell_type": "code",
   "execution_count": null,
   "metadata": {},
   "outputs": [],
   "source": [
    "def mostrar_recomendacoes(recomendacoes, n=10, filme_referencia=None):\n",
    "    \"\"\"Exibe as recomendações de filmes\"\"\"\n",
    "    if recomendacoes is not None and not recomendacoes.empty:\n",
    "        print(f\"\\nTop {n} recomendações para '{filme_referencia}':\")\n",
    "        return recomendacoes.head(n)\n",
    "    else:\n",
    "        print(\"Não foi possível gerar recomendações.\")\n",
    "        return None\n",
    "\n",
    "if tags is not None and dados is not None:\n",
    "    # Obter recomendações para um filme específico usando conteúdo\n",
    "    filme_referencia = 'Forrest Gump'\n",
    "    recomendacoes_conteudo = recomendacao_baseada_em_conteudo(df2, filme_referencia)\n",
    "    \n",
    "    print(f\"\\nTop 10 recomendações para '{filme_referencia}' baseadas em conteúdo:\")\n",
    "    mostrar_recomendacoes(recomendacoes_conteudo, 10, filme_referencia)"
   ]
  },
  {
   "cell_type": "markdown",
   "metadata": {},
   "source": [
    "## 4. Comparação dos Métodos\n",
    "\n",
    "Vamos comparar os resultados dos dois métodos para ver como diferem nas recomendações para o mesmo filme."
   ]
  },
  {
   "cell_type": "code",
   "execution_count": null,
   "metadata": {},
   "outputs": [],
   "source": [
    "# Função para comparar os resultados dos dois métodos\n",
    "def comparar_recomendacoes(filme_referencia='Forrest Gump', n=10):\n",
    "    \"\"\"Compara as recomendações dos dois métodos para um mesmo filme\"\"\"\n",
    "    print(f\"\\nComparando recomendações para '{filme_referencia}':\")\n",
    "    print(\"-\" * 50)\n",
    "    \n",
    "    # Obter recomendações usando filtragem colaborativa\n",
    "    recomendacoes_colaborativas = filtragem_colaborativa(movies_table, filme_referencia)\n",
    "    \n",
    "    if tags is not None and dados is not None:\n",
    "        # Obter recomendações usando método baseado em conteúdo\n",
    "        recomendacoes_conteudo = recomendacao_baseada_em_conteudo(df2, filme_referencia)\n",
    "        \n",
    "        # Criar um DataFrame para comparação\n",
    "        comparacao = pd.DataFrame({\n",
    "            'Filtragem Colaborativa': recomendacoes_colaborativas.head(n).index,\n",
    "            'Baseada em Conteúdo': recomendacoes_conteudo.head(n).index\n",
    "        })\n",
    "        \n",
    "        return comparacao\n",
    "    else:\n",
    "        print(\"Não foi possível comparar os métodos. Método baseado em conteúdo não disponível.\")\n",
    "        return None\n",
    "\n",
    "# Comparar recomendações para um filme específico\n",
    "if 'df2' in locals():\n",
    "    comparacao = comparar_recomendacoes('Toy Story')\n",
    "    if comparacao is not None:\n",
    "        comparacao"
   ]
  },
  {
   "cell_type": "markdown",
   "metadata": {},
   "source": [
    "## Conclusão\n",
    "\n",
    "Neste notebook, implementamos dois métodos diferentes de recomendação de filmes:\n",
    "\n",
    "1. **Filtragem Colaborativa**: Baseada nas avaliações dos usuários, usando similaridade de cosseno para encontrar filmes similares. Este método é eficaz quando temos muitos dados de avaliação, mas pode sofrer com o problema de \"cold start\" para novos filmes ou usuários.\n",
    "\n",
    "2. **Recomendação Baseada em Conteúdo**: Utilizando os gêneros e características dos filmes. Este método funciona bem mesmo para novos filmes, desde que tenhamos informações sobre seu conteúdo.\n",
    "\n",
    "Os dois métodos se complementam e podem ser usados juntos para criar sistemas de recomendação mais robustos e precisos.\n",
    "\n",
    "Para uma aplicação mais completa, foi criado um script Python (`recomendador_interativo.py`) que permite ao usuário escolher filmes e receber recomendações personalizadas usando ambos os métodos."
   ]
  }
 ],
 "metadata": {
  "colab": {
   "authorship_tag": "ABX9TyPbBau8jmC121EaLZ+wrXpW",
   "gpuType": "T4",
   "include_colab_link": true,
   "provenance": []
  },
  "kernelspec": {
   "display_name": "Python 3",
   "name": "python3"
  },
  "language_info": {
   "name": "python"
  }
 },
 "nbformat": 4,
 "nbformat_minor": 0
}
