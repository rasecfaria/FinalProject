{
  "nbformat": 4,
  "nbformat_minor": 0,
  "metadata": {
    "colab": {
      "provenance": [],
      "gpuType": "T4",
      "authorship_tag": "ABX9TyNe2h5pJ/gYflij8jm315m9",
      "include_colab_link": true
    },
    "kernelspec": {
      "name": "python3",
      "display_name": "Python 3"
    },
    "language_info": {
      "name": "python"
    }
  },
  "cells": [
    {
      "cell_type": "markdown",
      "metadata": {
        "id": "view-in-github",
        "colab_type": "text"
      },
      "source": [
        "<a href=\"https://colab.research.google.com/github/rasecfaria/FinalProject/blob/main/projeto.ipynb\" target=\"_parent\"><img src=\"https://colab.research.google.com/assets/colab-badge.svg\" alt=\"Open In Colab\"/></a>"
      ]
    },
    {
      "cell_type": "code",
      "source": [
        "#importar bibliotecas\n",
        "import pandas as pd\n",
        "import numpy as np\n",
        "import datetime"
      ],
      "metadata": {
        "id": "uViUY7H9Dzfd"
      },
      "execution_count": 2,
      "outputs": []
    },
    {
      "cell_type": "code",
      "source": [
        "#import dos filmes\n",
        "movies = pd.read_csv('movies.csv')\n",
        "#movies.head(10)"
      ],
      "metadata": {
        "id": "e49-k2ghELqE"
      },
      "execution_count": null,
      "outputs": []
    },
    {
      "cell_type": "code",
      "source": [
        "#import das avaliações\n",
        "ratings = pd.read_csv('ratings.csv')\n",
        "#ratings.head(10)"
      ],
      "metadata": {
        "id": "VjqXJSzxWII8"
      },
      "execution_count": 5,
      "outputs": []
    },
    {
      "cell_type": "code",
      "source": [
        "#FILTRAGEM DE DADOS\n",
        "#remover o timesstamp dos ratings(provisorio, check notion)\n",
        "ratings = ratings [['userId', 'movieId', 'rating']]\n",
        "#ratings.head(10)"
      ],
      "metadata": {
        "id": "B1YoDr9lZgkW"
      },
      "execution_count": 6,
      "outputs": []
    },
    {
      "cell_type": "code",
      "source": [
        "#numero de avaliacoes de cada utilizador\n",
        "ratings['userId'].value_counts()"
      ],
      "metadata": {
        "id": "gqY5jW04bpce"
      },
      "execution_count": null,
      "outputs": []
    },
    {
      "cell_type": "code",
      "source": [
        "movies.info()"
      ],
      "metadata": {
        "id": "eaLZCs68eqq5"
      },
      "execution_count": null,
      "outputs": []
    },
    {
      "cell_type": "code",
      "source": [
        "ratings.info()"
      ],
      "metadata": {
        "id": "2XYQZi4UfFgF"
      },
      "execution_count": null,
      "outputs": []
    },
    {
      "cell_type": "code",
      "source": [
        "#juncao dos dataframes\n",
        "df = ratings.merge(movies, on='movieId')\n",
        "df.head(10)"
      ],
      "metadata": {
        "id": "raJerkQJBoeb"
      },
      "execution_count": null,
      "outputs": []
    },
    {
      "cell_type": "code",
      "source": [
        "#pivot quero que cada userID seja uma variave com o respetivo valor de nota para cada filme\n",
        "movie_pivot = df.pivot_table(columns='userId', values='rating', index='title')\n",
        "movie_pivot.head(10)"
      ],
      "metadata": {
        "collapsed": true,
        "id": "8uBN-L88EgNg"
      },
      "execution_count": null,
      "outputs": []
    },
    {
      "cell_type": "code",
      "source": [
        "#preencher valores nulos com 0\n",
        "movie_pivot.fillna(0, inplace=True)"
      ],
      "metadata": {
        "id": "jU47YTPWJWDy"
      },
      "execution_count": 12,
      "outputs": []
    },
    {
      "cell_type": "code",
      "source": [
        "#criar matrix sparsa\n",
        "from scipy.sparse import csr_matrix\n",
        "movie_sparse = csr_matrix(movie_pivot)"
      ],
      "metadata": {
        "id": "oqYr7510K7FA"
      },
      "execution_count": 13,
      "outputs": []
    },
    {
      "cell_type": "code",
      "source": [
        "#importar o algoritmo KNN do Scikit\n",
        "from sklearn.neighbors import NearestNeighbors"
      ],
      "metadata": {
        "id": "wgzzrpEvLeIg"
      },
      "execution_count": 14,
      "outputs": []
    },
    {
      "cell_type": "code",
      "source": [
        "#treinar o modelo\n",
        "model = NearestNeighbors(algorithm='brute')\n",
        "model.fit(movie_sparse)"
      ],
      "metadata": {
        "id": "I26Y9MoyLkw4"
      },
      "execution_count": null,
      "outputs": []
    },
    {
      "cell_type": "markdown",
      "source": [
        "Previsao de sugestao de filmes"
      ],
      "metadata": {
        "id": "8oI19t9gMCwS"
      }
    },
    {
      "cell_type": "code",
      "source": [
        "#Toy Story\n",
        "distances, suggestions = model.kneighbors(movie_pivot.filter(items = ['Toy Story (1995)'], axis=0).values.reshape(1, -1))\n",
        "\n",
        "for i in range(len(suggestions)):\n",
        "  print(movie_pivot.index[suggestions[i]])"
      ],
      "metadata": {
        "colab": {
          "base_uri": "https://localhost:8080/"
        },
        "id": "zZNMoZAEMPo0",
        "outputId": "40e589c1-9ff4-4776-ec87-b6480c379959"
      },
      "execution_count": 18,
      "outputs": [
        {
          "output_type": "stream",
          "name": "stdout",
          "text": [
            "Index(['Toy Story (1995)', 'Toy Story 2 (1999)', 'Mission: Impossible (1996)',\n",
            "       'Independence Day (a.k.a. ID4) (1996)', 'Bug's Life, A (1998)'],\n",
            "      dtype='object', name='title')\n"
          ]
        }
      ]
    },
    {
      "cell_type": "code",
      "source": [
        "#velocidade furiosa\n",
        "distances, suggestions = model.kneighbors(movie_pivot.filter(items = ['Fast and the Furious, The (2001)'], axis=0).values.reshape(1, -1))\n",
        "\n",
        "for i in range(len(suggestions)):\n",
        "  print(movie_pivot.index[suggestions[i]])"
      ],
      "metadata": {
        "colab": {
          "base_uri": "https://localhost:8080/"
        },
        "id": "I-wKL_zcORLX",
        "outputId": "f1aa101d-c241-4b72-b763-4cf7c4582330"
      },
      "execution_count": 20,
      "outputs": [
        {
          "output_type": "stream",
          "name": "stdout",
          "text": [
            "Index(['Fast and the Furious, The (2001)',\n",
            "       '2 Fast 2 Furious (Fast and the Furious 2, The) (2003)',\n",
            "       'Rundown, The (2003)', 'The Scorpion King (2002)', 'Mr. Deeds (2002)'],\n",
            "      dtype='object', name='title')\n"
          ]
        }
      ]
    }
  ]
}